{
 "cells": [
  {
   "cell_type": "code",
   "execution_count": 137,
   "id": "ac48b055",
   "metadata": {
    "scrolled": true
   },
   "outputs": [],
   "source": [
    "import pandas as pd\n",
    "import numpy as np\n",
    "from sklearn.linear_model import LinearRegression\n",
    "import statsmodels.formula.api as smf\n",
    "\n",
    "\n",
    "import pandas as pd\n",
    "import numpy as np\n",
    "from sklearn.linear_model import LinearRegression\n",
    "from sklearn.neighbors import KNeighborsRegressor\n",
    "from sklearn.svm import SVC\n",
    "from sklearn.model_selection import KFold\n",
    "from sklearn.model_selection import StratifiedKFold\n",
    "from sklearn.model_selection import cross_val_score\n",
    "import statsmodels.api as sm\n",
    "import itertools\n",
    "import matplotlib.pyplot as plt\n",
    "import seaborn as sns\n",
    "\n",
    "import warnings \n",
    "warnings.filterwarnings(\"ignore\")"
   ]
  },
  {
   "cell_type": "code",
   "execution_count": 2,
   "id": "056e42a8",
   "metadata": {},
   "outputs": [
    {
     "data": {
      "text/html": [
       "<div>\n",
       "<style scoped>\n",
       "    .dataframe tbody tr th:only-of-type {\n",
       "        vertical-align: middle;\n",
       "    }\n",
       "\n",
       "    .dataframe tbody tr th {\n",
       "        vertical-align: top;\n",
       "    }\n",
       "\n",
       "    .dataframe thead th {\n",
       "        text-align: right;\n",
       "    }\n",
       "</style>\n",
       "<table border=\"1\" class=\"dataframe\">\n",
       "  <thead>\n",
       "    <tr style=\"text-align: right;\">\n",
       "      <th></th>\n",
       "      <th>Value</th>\n",
       "      <th>S</th>\n",
       "      <th>K</th>\n",
       "      <th>tau</th>\n",
       "      <th>r</th>\n",
       "      <th>BS</th>\n",
       "    </tr>\n",
       "  </thead>\n",
       "  <tbody>\n",
       "    <tr>\n",
       "      <th>0</th>\n",
       "      <td>21.670404</td>\n",
       "      <td>431.623898</td>\n",
       "      <td>420.0</td>\n",
       "      <td>0.341270</td>\n",
       "      <td>0.03013</td>\n",
       "      <td>Under</td>\n",
       "    </tr>\n",
       "    <tr>\n",
       "      <th>1</th>\n",
       "      <td>0.125000</td>\n",
       "      <td>427.015526</td>\n",
       "      <td>465.0</td>\n",
       "      <td>0.166667</td>\n",
       "      <td>0.03126</td>\n",
       "      <td>Over</td>\n",
       "    </tr>\n",
       "    <tr>\n",
       "      <th>2</th>\n",
       "      <td>20.691244</td>\n",
       "      <td>427.762336</td>\n",
       "      <td>415.0</td>\n",
       "      <td>0.265873</td>\n",
       "      <td>0.03116</td>\n",
       "      <td>Under</td>\n",
       "    </tr>\n",
       "    <tr>\n",
       "      <th>3</th>\n",
       "      <td>1.035002</td>\n",
       "      <td>451.711658</td>\n",
       "      <td>460.0</td>\n",
       "      <td>0.063492</td>\n",
       "      <td>0.02972</td>\n",
       "      <td>Over</td>\n",
       "    </tr>\n",
       "    <tr>\n",
       "      <th>4</th>\n",
       "      <td>39.553020</td>\n",
       "      <td>446.718974</td>\n",
       "      <td>410.0</td>\n",
       "      <td>0.166667</td>\n",
       "      <td>0.02962</td>\n",
       "      <td>Under</td>\n",
       "    </tr>\n",
       "  </tbody>\n",
       "</table>\n",
       "</div>"
      ],
      "text/plain": [
       "       Value           S      K       tau        r     BS\n",
       "0  21.670404  431.623898  420.0  0.341270  0.03013  Under\n",
       "1   0.125000  427.015526  465.0  0.166667  0.03126   Over\n",
       "2  20.691244  427.762336  415.0  0.265873  0.03116  Under\n",
       "3   1.035002  451.711658  460.0  0.063492  0.02972   Over\n",
       "4  39.553020  446.718974  410.0  0.166667  0.02962  Under"
      ]
     },
     "execution_count": 2,
     "metadata": {},
     "output_type": "execute_result"
    }
   ],
   "source": [
    "df= pd.read_csv('option_train.csv')\n",
    "df.head()"
   ]
  },
  {
   "cell_type": "code",
   "execution_count": 3,
   "id": "8720a153",
   "metadata": {},
   "outputs": [
    {
     "data": {
      "text/plain": [
       "Value    1\n",
       "S        1\n",
       "K        2\n",
       "tau      1\n",
       "r        0\n",
       "BS       0\n",
       "dtype: int64"
      ]
     },
     "execution_count": 3,
     "metadata": {},
     "output_type": "execute_result"
    }
   ],
   "source": [
    "df.isnull().sum()"
   ]
  },
  {
   "cell_type": "code",
   "execution_count": 4,
   "id": "b5ad8088",
   "metadata": {},
   "outputs": [
    {
     "data": {
      "text/plain": [
       "(1680, 6)"
      ]
     },
     "execution_count": 4,
     "metadata": {},
     "output_type": "execute_result"
    }
   ],
   "source": [
    "df.shape"
   ]
  },
  {
   "cell_type": "code",
   "execution_count": 5,
   "id": "f2dcdddc",
   "metadata": {},
   "outputs": [
    {
     "data": {
      "text/html": [
       "<div>\n",
       "<style scoped>\n",
       "    .dataframe tbody tr th:only-of-type {\n",
       "        vertical-align: middle;\n",
       "    }\n",
       "\n",
       "    .dataframe tbody tr th {\n",
       "        vertical-align: top;\n",
       "    }\n",
       "\n",
       "    .dataframe thead th {\n",
       "        text-align: right;\n",
       "    }\n",
       "</style>\n",
       "<table border=\"1\" class=\"dataframe\">\n",
       "  <thead>\n",
       "    <tr style=\"text-align: right;\">\n",
       "      <th></th>\n",
       "      <th>Value</th>\n",
       "      <th>S</th>\n",
       "      <th>K</th>\n",
       "      <th>tau</th>\n",
       "      <th>r</th>\n",
       "    </tr>\n",
       "  </thead>\n",
       "  <tbody>\n",
       "    <tr>\n",
       "      <th>count</th>\n",
       "      <td>1679.000000</td>\n",
       "      <td>1679.000000</td>\n",
       "      <td>1678.000000</td>\n",
       "      <td>1679.000000</td>\n",
       "      <td>1680.000000</td>\n",
       "    </tr>\n",
       "    <tr>\n",
       "      <th>mean</th>\n",
       "      <td>15.072013</td>\n",
       "      <td>440.639445</td>\n",
       "      <td>438.241955</td>\n",
       "      <td>0.437519</td>\n",
       "      <td>0.030235</td>\n",
       "    </tr>\n",
       "    <tr>\n",
       "      <th>std</th>\n",
       "      <td>14.036492</td>\n",
       "      <td>13.130436</td>\n",
       "      <td>23.408989</td>\n",
       "      <td>7.057555</td>\n",
       "      <td>0.000557</td>\n",
       "    </tr>\n",
       "    <tr>\n",
       "      <th>min</th>\n",
       "      <td>0.125000</td>\n",
       "      <td>0.000000</td>\n",
       "      <td>375.000000</td>\n",
       "      <td>0.003968</td>\n",
       "      <td>0.029510</td>\n",
       "    </tr>\n",
       "    <tr>\n",
       "      <th>25%</th>\n",
       "      <td>2.255002</td>\n",
       "      <td>433.863864</td>\n",
       "      <td>420.000000</td>\n",
       "      <td>0.119048</td>\n",
       "      <td>0.029820</td>\n",
       "    </tr>\n",
       "    <tr>\n",
       "      <th>50%</th>\n",
       "      <td>11.220588</td>\n",
       "      <td>442.525366</td>\n",
       "      <td>440.000000</td>\n",
       "      <td>0.202381</td>\n",
       "      <td>0.030130</td>\n",
       "    </tr>\n",
       "    <tr>\n",
       "      <th>75%</th>\n",
       "      <td>25.745904</td>\n",
       "      <td>447.320414</td>\n",
       "      <td>455.000000</td>\n",
       "      <td>0.285714</td>\n",
       "      <td>0.030540</td>\n",
       "    </tr>\n",
       "    <tr>\n",
       "      <th>max</th>\n",
       "      <td>60.149367</td>\n",
       "      <td>455.880619</td>\n",
       "      <td>500.000000</td>\n",
       "      <td>250.000000</td>\n",
       "      <td>0.031880</td>\n",
       "    </tr>\n",
       "  </tbody>\n",
       "</table>\n",
       "</div>"
      ],
      "text/plain": [
       "             Value            S            K          tau            r\n",
       "count  1679.000000  1679.000000  1678.000000  1679.000000  1680.000000\n",
       "mean     15.072013   440.639445   438.241955     0.437519     0.030235\n",
       "std      14.036492    13.130436    23.408989     7.057555     0.000557\n",
       "min       0.125000     0.000000   375.000000     0.003968     0.029510\n",
       "25%       2.255002   433.863864   420.000000     0.119048     0.029820\n",
       "50%      11.220588   442.525366   440.000000     0.202381     0.030130\n",
       "75%      25.745904   447.320414   455.000000     0.285714     0.030540\n",
       "max      60.149367   455.880619   500.000000   250.000000     0.031880"
      ]
     },
     "execution_count": 5,
     "metadata": {},
     "output_type": "execute_result"
    }
   ],
   "source": [
    "df.describe()"
   ]
  },
  {
   "cell_type": "code",
   "execution_count": 6,
   "id": "e815fe3c",
   "metadata": {},
   "outputs": [
    {
     "data": {
      "text/html": [
       "<div>\n",
       "<style scoped>\n",
       "    .dataframe tbody tr th:only-of-type {\n",
       "        vertical-align: middle;\n",
       "    }\n",
       "\n",
       "    .dataframe tbody tr th {\n",
       "        vertical-align: top;\n",
       "    }\n",
       "\n",
       "    .dataframe thead th {\n",
       "        text-align: right;\n",
       "    }\n",
       "</style>\n",
       "<table border=\"1\" class=\"dataframe\">\n",
       "  <thead>\n",
       "    <tr style=\"text-align: right;\">\n",
       "      <th></th>\n",
       "      <th>Value</th>\n",
       "      <th>S</th>\n",
       "      <th>K</th>\n",
       "      <th>tau</th>\n",
       "      <th>r</th>\n",
       "      <th>BS</th>\n",
       "    </tr>\n",
       "  </thead>\n",
       "  <tbody>\n",
       "    <tr>\n",
       "      <th>780</th>\n",
       "      <td>3.035000</td>\n",
       "      <td>425.472331</td>\n",
       "      <td>445.0</td>\n",
       "      <td>0.277778</td>\n",
       "      <td>0.03126</td>\n",
       "      <td>Over</td>\n",
       "    </tr>\n",
       "    <tr>\n",
       "      <th>928</th>\n",
       "      <td>45.305942</td>\n",
       "      <td>425.472331</td>\n",
       "      <td>385.0</td>\n",
       "      <td>0.277778</td>\n",
       "      <td>0.03126</td>\n",
       "      <td>Under</td>\n",
       "    </tr>\n",
       "    <tr>\n",
       "      <th>1526</th>\n",
       "      <td>12.086771</td>\n",
       "      <td>425.472331</td>\n",
       "      <td>425.0</td>\n",
       "      <td>0.277778</td>\n",
       "      <td>0.03126</td>\n",
       "      <td>Under</td>\n",
       "    </tr>\n",
       "    <tr>\n",
       "      <th>879</th>\n",
       "      <td>4.125000</td>\n",
       "      <td>0.000000</td>\n",
       "      <td>455.0</td>\n",
       "      <td>0.170635</td>\n",
       "      <td>0.03003</td>\n",
       "      <td>Over</td>\n",
       "    </tr>\n",
       "    <tr>\n",
       "      <th>292</th>\n",
       "      <td>8.625000</td>\n",
       "      <td>NaN</td>\n",
       "      <td>NaN</td>\n",
       "      <td>NaN</td>\n",
       "      <td>0.03003</td>\n",
       "      <td>Over</td>\n",
       "    </tr>\n",
       "  </tbody>\n",
       "</table>\n",
       "</div>"
      ],
      "text/plain": [
       "          Value           S      K       tau        r     BS\n",
       "780    3.035000  425.472331  445.0  0.277778  0.03126   Over\n",
       "928   45.305942  425.472331  385.0  0.277778  0.03126  Under\n",
       "1526  12.086771  425.472331  425.0  0.277778  0.03126  Under\n",
       "879    4.125000    0.000000  455.0  0.170635  0.03003   Over\n",
       "292    8.625000         NaN    NaN       NaN  0.03003   Over"
      ]
     },
     "execution_count": 6,
     "metadata": {},
     "output_type": "execute_result"
    }
   ],
   "source": [
    "# drop index 879, 292\n",
    "\n",
    "df.sort_values(\"S\",ascending=False).tail(5)"
   ]
  },
  {
   "cell_type": "code",
   "execution_count": 7,
   "id": "57659b14",
   "metadata": {},
   "outputs": [
    {
     "data": {
      "text/html": [
       "<div>\n",
       "<style scoped>\n",
       "    .dataframe tbody tr th:only-of-type {\n",
       "        vertical-align: middle;\n",
       "    }\n",
       "\n",
       "    .dataframe tbody tr th {\n",
       "        vertical-align: top;\n",
       "    }\n",
       "\n",
       "    .dataframe thead th {\n",
       "        text-align: right;\n",
       "    }\n",
       "</style>\n",
       "<table border=\"1\" class=\"dataframe\">\n",
       "  <thead>\n",
       "    <tr style=\"text-align: right;\">\n",
       "      <th></th>\n",
       "      <th>Value</th>\n",
       "      <th>S</th>\n",
       "      <th>K</th>\n",
       "      <th>tau</th>\n",
       "      <th>r</th>\n",
       "      <th>BS</th>\n",
       "    </tr>\n",
       "  </thead>\n",
       "  <tbody>\n",
       "    <tr>\n",
       "      <th>12</th>\n",
       "      <td>2.315001</td>\n",
       "      <td>448.688109</td>\n",
       "      <td>470.0</td>\n",
       "      <td>250.000000</td>\n",
       "      <td>0.03013</td>\n",
       "      <td>Over</td>\n",
       "    </tr>\n",
       "    <tr>\n",
       "      <th>33</th>\n",
       "      <td>2.565000</td>\n",
       "      <td>445.042240</td>\n",
       "      <td>455.0</td>\n",
       "      <td>146.000000</td>\n",
       "      <td>0.03003</td>\n",
       "      <td>Over</td>\n",
       "    </tr>\n",
       "    <tr>\n",
       "      <th>58</th>\n",
       "      <td>2.315000</td>\n",
       "      <td>451.221255</td>\n",
       "      <td>480.0</td>\n",
       "      <td>0.392857</td>\n",
       "      <td>0.03044</td>\n",
       "      <td>Over</td>\n",
       "    </tr>\n",
       "    <tr>\n",
       "      <th>1441</th>\n",
       "      <td>48.350072</td>\n",
       "      <td>451.221255</td>\n",
       "      <td>410.0</td>\n",
       "      <td>0.392857</td>\n",
       "      <td>0.03044</td>\n",
       "      <td>Under</td>\n",
       "    </tr>\n",
       "    <tr>\n",
       "      <th>904</th>\n",
       "      <td>7.190000</td>\n",
       "      <td>451.221255</td>\n",
       "      <td>465.0</td>\n",
       "      <td>0.392857</td>\n",
       "      <td>0.03044</td>\n",
       "      <td>Over</td>\n",
       "    </tr>\n",
       "  </tbody>\n",
       "</table>\n",
       "</div>"
      ],
      "text/plain": [
       "          Value           S      K         tau        r     BS\n",
       "12     2.315001  448.688109  470.0  250.000000  0.03013   Over\n",
       "33     2.565000  445.042240  455.0  146.000000  0.03003   Over\n",
       "58     2.315000  451.221255  480.0    0.392857  0.03044   Over\n",
       "1441  48.350072  451.221255  410.0    0.392857  0.03044  Under\n",
       "904    7.190000  451.221255  465.0    0.392857  0.03044   Over"
      ]
     },
     "execution_count": 7,
     "metadata": {},
     "output_type": "execute_result"
    }
   ],
   "source": [
    "# drop index 12,33\n",
    "\n",
    "df.sort_values(\"tau\",ascending=False).head()"
   ]
  },
  {
   "cell_type": "code",
   "execution_count": 8,
   "id": "b3c0218a",
   "metadata": {},
   "outputs": [
    {
     "data": {
      "text/html": [
       "<div>\n",
       "<style scoped>\n",
       "    .dataframe tbody tr th:only-of-type {\n",
       "        vertical-align: middle;\n",
       "    }\n",
       "\n",
       "    .dataframe tbody tr th {\n",
       "        vertical-align: top;\n",
       "    }\n",
       "\n",
       "    .dataframe thead th {\n",
       "        text-align: right;\n",
       "    }\n",
       "</style>\n",
       "<table border=\"1\" class=\"dataframe\">\n",
       "  <thead>\n",
       "    <tr style=\"text-align: right;\">\n",
       "      <th></th>\n",
       "      <th>Value</th>\n",
       "      <th>S</th>\n",
       "      <th>K</th>\n",
       "      <th>tau</th>\n",
       "      <th>r</th>\n",
       "      <th>BS</th>\n",
       "    </tr>\n",
       "  </thead>\n",
       "  <tbody>\n",
       "    <tr>\n",
       "      <th>818</th>\n",
       "      <td>NaN</td>\n",
       "      <td>431.284616</td>\n",
       "      <td>NaN</td>\n",
       "      <td>0.230159</td>\n",
       "      <td>0.02972</td>\n",
       "      <td>Over</td>\n",
       "    </tr>\n",
       "  </tbody>\n",
       "</table>\n",
       "</div>"
      ],
      "text/plain": [
       "     Value           S   K       tau        r    BS\n",
       "818    NaN  431.284616 NaN  0.230159  0.02972  Over"
      ]
     },
     "execution_count": 8,
     "metadata": {},
     "output_type": "execute_result"
    }
   ],
   "source": [
    "# 'Value\" with missing value: drop index 818\n",
    "\n",
    "df[df[\"Value\"].isnull()]"
   ]
  },
  {
   "cell_type": "code",
   "execution_count": 9,
   "id": "584e6814",
   "metadata": {},
   "outputs": [
    {
     "data": {
      "text/html": [
       "<div>\n",
       "<style scoped>\n",
       "    .dataframe tbody tr th:only-of-type {\n",
       "        vertical-align: middle;\n",
       "    }\n",
       "\n",
       "    .dataframe tbody tr th {\n",
       "        vertical-align: top;\n",
       "    }\n",
       "\n",
       "    .dataframe thead th {\n",
       "        text-align: right;\n",
       "    }\n",
       "</style>\n",
       "<table border=\"1\" class=\"dataframe\">\n",
       "  <thead>\n",
       "    <tr style=\"text-align: right;\">\n",
       "      <th></th>\n",
       "      <th>Value</th>\n",
       "      <th>S</th>\n",
       "      <th>K</th>\n",
       "      <th>tau</th>\n",
       "      <th>r</th>\n",
       "      <th>BS</th>\n",
       "    </tr>\n",
       "  </thead>\n",
       "  <tbody>\n",
       "    <tr>\n",
       "      <th>292</th>\n",
       "      <td>8.625</td>\n",
       "      <td>NaN</td>\n",
       "      <td>NaN</td>\n",
       "      <td>NaN</td>\n",
       "      <td>0.03003</td>\n",
       "      <td>Over</td>\n",
       "    </tr>\n",
       "  </tbody>\n",
       "</table>\n",
       "</div>"
      ],
      "text/plain": [
       "     Value   S   K  tau        r    BS\n",
       "292  8.625 NaN NaN  NaN  0.03003  Over"
      ]
     },
     "execution_count": 9,
     "metadata": {},
     "output_type": "execute_result"
    }
   ],
   "source": [
    "# Drop index 292\n",
    "\n",
    "df[df[\"S\"].isnull()]"
   ]
  },
  {
   "cell_type": "code",
   "execution_count": 10,
   "id": "ddb94552",
   "metadata": {},
   "outputs": [
    {
     "data": {
      "text/html": [
       "<div>\n",
       "<style scoped>\n",
       "    .dataframe tbody tr th:only-of-type {\n",
       "        vertical-align: middle;\n",
       "    }\n",
       "\n",
       "    .dataframe tbody tr th {\n",
       "        vertical-align: top;\n",
       "    }\n",
       "\n",
       "    .dataframe thead th {\n",
       "        text-align: right;\n",
       "    }\n",
       "</style>\n",
       "<table border=\"1\" class=\"dataframe\">\n",
       "  <thead>\n",
       "    <tr style=\"text-align: right;\">\n",
       "      <th></th>\n",
       "      <th>Value</th>\n",
       "      <th>S</th>\n",
       "      <th>K</th>\n",
       "      <th>tau</th>\n",
       "      <th>r</th>\n",
       "      <th>BS</th>\n",
       "    </tr>\n",
       "  </thead>\n",
       "  <tbody>\n",
       "    <tr>\n",
       "      <th>292</th>\n",
       "      <td>8.625</td>\n",
       "      <td>NaN</td>\n",
       "      <td>NaN</td>\n",
       "      <td>NaN</td>\n",
       "      <td>0.03003</td>\n",
       "      <td>Over</td>\n",
       "    </tr>\n",
       "    <tr>\n",
       "      <th>818</th>\n",
       "      <td>NaN</td>\n",
       "      <td>431.284616</td>\n",
       "      <td>NaN</td>\n",
       "      <td>0.230159</td>\n",
       "      <td>0.02972</td>\n",
       "      <td>Over</td>\n",
       "    </tr>\n",
       "  </tbody>\n",
       "</table>\n",
       "</div>"
      ],
      "text/plain": [
       "     Value           S   K       tau        r    BS\n",
       "292  8.625         NaN NaN       NaN  0.03003  Over\n",
       "818    NaN  431.284616 NaN  0.230159  0.02972  Over"
      ]
     },
     "execution_count": 10,
     "metadata": {},
     "output_type": "execute_result"
    }
   ],
   "source": [
    "# Drop index 292, 818\n",
    "\n",
    "df[df[\"K\"].isnull()]"
   ]
  },
  {
   "cell_type": "code",
   "execution_count": 11,
   "id": "ffbaebcd",
   "metadata": {},
   "outputs": [
    {
     "data": {
      "text/html": [
       "<div>\n",
       "<style scoped>\n",
       "    .dataframe tbody tr th:only-of-type {\n",
       "        vertical-align: middle;\n",
       "    }\n",
       "\n",
       "    .dataframe tbody tr th {\n",
       "        vertical-align: top;\n",
       "    }\n",
       "\n",
       "    .dataframe thead th {\n",
       "        text-align: right;\n",
       "    }\n",
       "</style>\n",
       "<table border=\"1\" class=\"dataframe\">\n",
       "  <thead>\n",
       "    <tr style=\"text-align: right;\">\n",
       "      <th></th>\n",
       "      <th>Value</th>\n",
       "      <th>S</th>\n",
       "      <th>K</th>\n",
       "      <th>tau</th>\n",
       "      <th>r</th>\n",
       "      <th>BS</th>\n",
       "    </tr>\n",
       "  </thead>\n",
       "  <tbody>\n",
       "    <tr>\n",
       "      <th>292</th>\n",
       "      <td>8.625</td>\n",
       "      <td>NaN</td>\n",
       "      <td>NaN</td>\n",
       "      <td>NaN</td>\n",
       "      <td>0.03003</td>\n",
       "      <td>Over</td>\n",
       "    </tr>\n",
       "  </tbody>\n",
       "</table>\n",
       "</div>"
      ],
      "text/plain": [
       "     Value   S   K  tau        r    BS\n",
       "292  8.625 NaN NaN  NaN  0.03003  Over"
      ]
     },
     "execution_count": 11,
     "metadata": {},
     "output_type": "execute_result"
    }
   ],
   "source": [
    "#Drop index 292\n",
    "\n",
    "df[df[\"tau\"].isnull()]"
   ]
  },
  {
   "cell_type": "code",
   "execution_count": 12,
   "id": "f8e61d73",
   "metadata": {},
   "outputs": [],
   "source": [
    "index_list = [879, 292,12,33, 818]\n",
    "df=df.drop(index=index_list)"
   ]
  },
  {
   "cell_type": "code",
   "execution_count": 13,
   "id": "bd07b005",
   "metadata": {},
   "outputs": [
    {
     "data": {
      "text/plain": [
       "(1675, 6)"
      ]
     },
     "execution_count": 13,
     "metadata": {},
     "output_type": "execute_result"
    }
   ],
   "source": [
    "df.shape"
   ]
  },
  {
   "cell_type": "markdown",
   "id": "e0fa31e8",
   "metadata": {},
   "source": [
    "### Linear Regression"
   ]
  },
  {
   "cell_type": "code",
   "execution_count": 14,
   "id": "4268b13b",
   "metadata": {},
   "outputs": [
    {
     "name": "stdout",
     "output_type": "stream",
     "text": [
      "                            OLS Regression Results                            \n",
      "==============================================================================\n",
      "Dep. Variable:                      S   R-squared:                       0.614\n",
      "Model:                            OLS   Adj. R-squared:                  0.613\n",
      "Method:                 Least Squares   F-statistic:                     664.3\n",
      "Date:                Sun, 01 May 2022   Prob (F-statistic):               0.00\n",
      "Time:                        20:36:02   Log-Likelihood:                -4959.9\n",
      "No. Observations:                1675   AIC:                             9930.\n",
      "Df Residuals:                    1670   BIC:                             9957.\n",
      "Df Model:                           4                                         \n",
      "Covariance Type:            nonrobust                                         \n",
      "==============================================================================\n",
      "                 coef    std err          t      P>|t|      [0.025      0.975]\n",
      "------------------------------------------------------------------------------\n",
      "Intercept    323.8819      9.816     32.996      0.000     304.629     343.135\n",
      "Value          0.7819      0.020     39.738      0.000       0.743       0.821\n",
      "K              0.4875      0.012     40.325      0.000       0.464       0.511\n",
      "tau          -30.3082      1.258    -24.088      0.000     -32.776     -27.840\n",
      "r          -3382.9421    217.160    -15.578      0.000   -3808.877   -2957.007\n",
      "==============================================================================\n",
      "Omnibus:                       78.324   Durbin-Watson:                   2.008\n",
      "Prob(Omnibus):                  0.000   Jarque-Bera (JB):               90.803\n",
      "Skew:                          -0.515   Prob(JB):                     1.92e-20\n",
      "Kurtosis:                       3.490   Cond. No.                     8.34e+05\n",
      "==============================================================================\n",
      "\n",
      "Notes:\n",
      "[1] Standard Errors assume that the covariance matrix of the errors is correctly specified.\n",
      "[2] The condition number is large, 8.34e+05. This might indicate that there are\n",
      "strong multicollinearity or other numerical problems.\n"
     ]
    }
   ],
   "source": [
    "# Use \" S\" as y-variable\n",
    "result = smf.ols(formula=\"S ~ Value + K + tau + r\", \n",
    "                data=df).fit()\n",
    "print(result.summary())"
   ]
  },
  {
   "cell_type": "code",
   "execution_count": 15,
   "id": "292414d8",
   "metadata": {},
   "outputs": [
    {
     "name": "stdout",
     "output_type": "stream",
     "text": [
      "                            OLS Regression Results                            \n",
      "==============================================================================\n",
      "Dep. Variable:                    tau   R-squared:                       0.384\n",
      "Model:                            OLS   Adj. R-squared:                  0.383\n",
      "Method:                 Least Squares   F-statistic:                     260.3\n",
      "Date:                Sun, 01 May 2022   Prob (F-statistic):          5.89e-174\n",
      "Time:                        20:36:02   Log-Likelihood:                 1889.3\n",
      "No. Observations:                1675   AIC:                            -3769.\n",
      "Df Residuals:                    1670   BIC:                            -3741.\n",
      "Df Model:                           4                                         \n",
      "Covariance Type:            nonrobust                                         \n",
      "==============================================================================\n",
      "                 coef    std err          t      P>|t|      [0.025      0.975]\n",
      "------------------------------------------------------------------------------\n",
      "Intercept      1.0006      0.210      4.766      0.000       0.589       1.412\n",
      "Value          0.0112      0.000     30.265      0.000       0.010       0.012\n",
      "K              0.0071      0.000     31.306      0.000       0.007       0.008\n",
      "S             -0.0085      0.000    -24.088      0.000      -0.009      -0.008\n",
      "r            -10.4245      3.885     -2.683      0.007     -18.045      -2.804\n",
      "==============================================================================\n",
      "Omnibus:                      127.797   Durbin-Watson:                   2.099\n",
      "Prob(Omnibus):                  0.000   Jarque-Bera (JB):               42.933\n",
      "Skew:                           0.025   Prob(JB):                     4.76e-10\n",
      "Kurtosis:                       2.217   Cond. No.                     1.26e+06\n",
      "==============================================================================\n",
      "\n",
      "Notes:\n",
      "[1] Standard Errors assume that the covariance matrix of the errors is correctly specified.\n",
      "[2] The condition number is large, 1.26e+06. This might indicate that there are\n",
      "strong multicollinearity or other numerical problems.\n"
     ]
    }
   ],
   "source": [
    "# Use \" tau\" as y-variable\n",
    "result = smf.ols(formula=\"tau ~ Value + K + S + r\", \n",
    "                data=df).fit()\n",
    "print(result.summary())"
   ]
  },
  {
   "cell_type": "markdown",
   "id": "53aec11f",
   "metadata": {},
   "source": [
    "### Fill in data"
   ]
  },
  {
   "cell_type": "code",
   "execution_count": 16,
   "id": "98a2a380",
   "metadata": {},
   "outputs": [
    {
     "data": {
      "text/html": [
       "<div>\n",
       "<style scoped>\n",
       "    .dataframe tbody tr th:only-of-type {\n",
       "        vertical-align: middle;\n",
       "    }\n",
       "\n",
       "    .dataframe tbody tr th {\n",
       "        vertical-align: top;\n",
       "    }\n",
       "\n",
       "    .dataframe thead th {\n",
       "        text-align: right;\n",
       "    }\n",
       "</style>\n",
       "<table border=\"1\" class=\"dataframe\">\n",
       "  <thead>\n",
       "    <tr style=\"text-align: right;\">\n",
       "      <th></th>\n",
       "      <th>Value</th>\n",
       "      <th>S</th>\n",
       "      <th>K</th>\n",
       "      <th>tau</th>\n",
       "      <th>r</th>\n",
       "      <th>BS</th>\n",
       "    </tr>\n",
       "  </thead>\n",
       "  <tbody>\n",
       "    <tr>\n",
       "      <th>0</th>\n",
       "      <td>21.670404</td>\n",
       "      <td>431.623898</td>\n",
       "      <td>420.0</td>\n",
       "      <td>0.341270</td>\n",
       "      <td>0.03013</td>\n",
       "      <td>Under</td>\n",
       "    </tr>\n",
       "    <tr>\n",
       "      <th>1</th>\n",
       "      <td>0.125000</td>\n",
       "      <td>427.015526</td>\n",
       "      <td>465.0</td>\n",
       "      <td>0.166667</td>\n",
       "      <td>0.03126</td>\n",
       "      <td>Over</td>\n",
       "    </tr>\n",
       "    <tr>\n",
       "      <th>2</th>\n",
       "      <td>20.691244</td>\n",
       "      <td>427.762336</td>\n",
       "      <td>415.0</td>\n",
       "      <td>0.265873</td>\n",
       "      <td>0.03116</td>\n",
       "      <td>Under</td>\n",
       "    </tr>\n",
       "    <tr>\n",
       "      <th>3</th>\n",
       "      <td>1.035002</td>\n",
       "      <td>451.711658</td>\n",
       "      <td>460.0</td>\n",
       "      <td>0.063492</td>\n",
       "      <td>0.02972</td>\n",
       "      <td>Over</td>\n",
       "    </tr>\n",
       "    <tr>\n",
       "      <th>4</th>\n",
       "      <td>39.553020</td>\n",
       "      <td>446.718974</td>\n",
       "      <td>410.0</td>\n",
       "      <td>0.166667</td>\n",
       "      <td>0.02962</td>\n",
       "      <td>Under</td>\n",
       "    </tr>\n",
       "  </tbody>\n",
       "</table>\n",
       "</div>"
      ],
      "text/plain": [
       "       Value           S      K       tau        r     BS\n",
       "0  21.670404  431.623898  420.0  0.341270  0.03013  Under\n",
       "1   0.125000  427.015526  465.0  0.166667  0.03126   Over\n",
       "2  20.691244  427.762336  415.0  0.265873  0.03116  Under\n",
       "3   1.035002  451.711658  460.0  0.063492  0.02972   Over\n",
       "4  39.553020  446.718974  410.0  0.166667  0.02962  Under"
      ]
     },
     "execution_count": 16,
     "metadata": {},
     "output_type": "execute_result"
    }
   ],
   "source": [
    "df_final= pd.read_csv('option_train.csv')\n",
    "df_final.head()"
   ]
  },
  {
   "cell_type": "code",
   "execution_count": 17,
   "id": "d2fca758",
   "metadata": {},
   "outputs": [
    {
     "data": {
      "text/plain": [
       "Value       4.125\n",
       "S             0.0\n",
       "K           455.0\n",
       "tau      0.170635\n",
       "r         0.03003\n",
       "BS           Over\n",
       "Name: 879, dtype: object"
      ]
     },
     "execution_count": 17,
     "metadata": {},
     "output_type": "execute_result"
    }
   ],
   "source": [
    "# Fill in outlier S : record 879\n",
    "# S= 323.8819 + 0.7819 Value + 0.4875 K -30.3082 tau -3382.9421 r\n",
    "df_final.loc[879]\n"
   ]
  },
  {
   "cell_type": "code",
   "execution_count": 18,
   "id": "23cabc84",
   "metadata": {},
   "outputs": [
    {
     "data": {
      "text/plain": [
       "Value         4.125\n",
       "S        442.158347\n",
       "K             455.0\n",
       "tau        0.170635\n",
       "r           0.03003\n",
       "BS             Over\n",
       "Name: 879, dtype: object"
      ]
     },
     "execution_count": 18,
     "metadata": {},
     "output_type": "execute_result"
    }
   ],
   "source": [
    "S_fix= 323.8819 + 0.7819 *(4.125) + 0.4875 *(455.0) - 30.3082 *(0.170635) - 3382.9421* (0.03003)\n",
    "df_final.loc[879, \"S\"]=S_fix\n",
    "df_final.loc[879]"
   ]
  },
  {
   "cell_type": "code",
   "execution_count": 19,
   "id": "e2cd985a",
   "metadata": {},
   "outputs": [
    {
     "name": "stdout",
     "output_type": "stream",
     "text": [
      "Value      2.315001\n",
      "S        448.688109\n",
      "K             470.0\n",
      "tau           250.0\n",
      "r           0.03013\n",
      "BS             Over\n",
      "Name: 12, dtype: object\n",
      "Value        2.565\n",
      "S        445.04224\n",
      "K            455.0\n",
      "tau          146.0\n",
      "r          0.03003\n",
      "BS            Over\n",
      "Name: 33, dtype: object\n"
     ]
    }
   ],
   "source": [
    "# Fill in outliear tau: record 12,33 \n",
    "# tau= 1.0006 +  0.0112 Value + 0.0071 K -0.0085 S -10.4245 r\n",
    "print(df_final.loc[12])\n",
    "print(df_final.loc[33])"
   ]
  },
  {
   "cell_type": "code",
   "execution_count": 20,
   "id": "35e3c206",
   "metadata": {},
   "outputs": [
    {
     "name": "stdout",
     "output_type": "stream",
     "text": [
      "Value      2.315001\n",
      "S        448.688109\n",
      "K             470.0\n",
      "tau        0.235589\n",
      "r           0.03013\n",
      "BS             Over\n",
      "Name: 12, dtype: object\n",
      "Value        2.565\n",
      "S        445.04224\n",
      "K            455.0\n",
      "tau       0.163921\n",
      "r          0.03003\n",
      "BS            Over\n",
      "Name: 33, dtype: object\n"
     ]
    }
   ],
   "source": [
    "record_list=[12,33]\n",
    "for i in record_list:\n",
    "    tau_fix=1.0006 + 0.0112*df_final.loc[i,\"Value\"] + 0.0071*df_final.loc[i,\"K\"] -0.0085*df_final.loc[i,\"S\"] -10.4245*df_final.loc[i,\"r\"] \n",
    "    df_final.loc[i, \"tau\"]=tau_fix\n",
    "    print(df_final.loc[i])"
   ]
  },
  {
   "cell_type": "code",
   "execution_count": 21,
   "id": "f93413be",
   "metadata": {},
   "outputs": [
    {
     "data": {
      "text/plain": [
       "Value    1\n",
       "S        1\n",
       "K        2\n",
       "tau      1\n",
       "r        0\n",
       "BS       0\n",
       "dtype: int64"
      ]
     },
     "execution_count": 21,
     "metadata": {},
     "output_type": "execute_result"
    }
   ],
   "source": [
    "df_final.isnull().sum()"
   ]
  },
  {
   "cell_type": "code",
   "execution_count": 22,
   "id": "d62d93af",
   "metadata": {},
   "outputs": [],
   "source": [
    "df_final=df_final.dropna()"
   ]
  },
  {
   "cell_type": "code",
   "execution_count": 23,
   "id": "fc36bdd5",
   "metadata": {},
   "outputs": [
    {
     "data": {
      "text/plain": [
       "(1678, 6)"
      ]
     },
     "execution_count": 23,
     "metadata": {},
     "output_type": "execute_result"
    }
   ],
   "source": [
    "df_final.shape"
   ]
  },
  {
   "cell_type": "code",
   "execution_count": 24,
   "id": "ffd7962d",
   "metadata": {},
   "outputs": [
    {
     "data": {
      "text/html": [
       "<div>\n",
       "<style scoped>\n",
       "    .dataframe tbody tr th:only-of-type {\n",
       "        vertical-align: middle;\n",
       "    }\n",
       "\n",
       "    .dataframe tbody tr th {\n",
       "        vertical-align: top;\n",
       "    }\n",
       "\n",
       "    .dataframe thead th {\n",
       "        text-align: right;\n",
       "    }\n",
       "</style>\n",
       "<table border=\"1\" class=\"dataframe\">\n",
       "  <thead>\n",
       "    <tr style=\"text-align: right;\">\n",
       "      <th></th>\n",
       "      <th>Value</th>\n",
       "      <th>S</th>\n",
       "      <th>K</th>\n",
       "      <th>tau</th>\n",
       "      <th>r</th>\n",
       "      <th>BS</th>\n",
       "    </tr>\n",
       "  </thead>\n",
       "  <tbody>\n",
       "    <tr>\n",
       "      <th>1147</th>\n",
       "      <td>0.315004</td>\n",
       "      <td>425.472331</td>\n",
       "      <td>470.0</td>\n",
       "      <td>0.277778</td>\n",
       "      <td>0.03126</td>\n",
       "      <td>Over</td>\n",
       "    </tr>\n",
       "    <tr>\n",
       "      <th>1577</th>\n",
       "      <td>40.719171</td>\n",
       "      <td>425.472331</td>\n",
       "      <td>390.0</td>\n",
       "      <td>0.277778</td>\n",
       "      <td>0.03126</td>\n",
       "      <td>Under</td>\n",
       "    </tr>\n",
       "    <tr>\n",
       "      <th>1365</th>\n",
       "      <td>0.190000</td>\n",
       "      <td>425.472331</td>\n",
       "      <td>475.0</td>\n",
       "      <td>0.277778</td>\n",
       "      <td>0.03126</td>\n",
       "      <td>Over</td>\n",
       "    </tr>\n",
       "    <tr>\n",
       "      <th>1526</th>\n",
       "      <td>12.086771</td>\n",
       "      <td>425.472331</td>\n",
       "      <td>425.0</td>\n",
       "      <td>0.277778</td>\n",
       "      <td>0.03126</td>\n",
       "      <td>Under</td>\n",
       "    </tr>\n",
       "    <tr>\n",
       "      <th>1281</th>\n",
       "      <td>15.543548</td>\n",
       "      <td>425.472331</td>\n",
       "      <td>420.0</td>\n",
       "      <td>0.277778</td>\n",
       "      <td>0.03126</td>\n",
       "      <td>Under</td>\n",
       "    </tr>\n",
       "  </tbody>\n",
       "</table>\n",
       "</div>"
      ],
      "text/plain": [
       "          Value           S      K       tau        r     BS\n",
       "1147   0.315004  425.472331  470.0  0.277778  0.03126   Over\n",
       "1577  40.719171  425.472331  390.0  0.277778  0.03126  Under\n",
       "1365   0.190000  425.472331  475.0  0.277778  0.03126   Over\n",
       "1526  12.086771  425.472331  425.0  0.277778  0.03126  Under\n",
       "1281  15.543548  425.472331  420.0  0.277778  0.03126  Under"
      ]
     },
     "execution_count": 24,
     "metadata": {},
     "output_type": "execute_result"
    }
   ],
   "source": [
    "df_final.sort_values(\"S\",ascending=False).tail(5)"
   ]
  },
  {
   "cell_type": "code",
   "execution_count": 25,
   "id": "28476e51",
   "metadata": {},
   "outputs": [
    {
     "data": {
      "text/html": [
       "<div>\n",
       "<style scoped>\n",
       "    .dataframe tbody tr th:only-of-type {\n",
       "        vertical-align: middle;\n",
       "    }\n",
       "\n",
       "    .dataframe tbody tr th {\n",
       "        vertical-align: top;\n",
       "    }\n",
       "\n",
       "    .dataframe thead th {\n",
       "        text-align: right;\n",
       "    }\n",
       "</style>\n",
       "<table border=\"1\" class=\"dataframe\">\n",
       "  <thead>\n",
       "    <tr style=\"text-align: right;\">\n",
       "      <th></th>\n",
       "      <th>Value</th>\n",
       "      <th>S</th>\n",
       "      <th>K</th>\n",
       "      <th>tau</th>\n",
       "      <th>r</th>\n",
       "      <th>BS</th>\n",
       "    </tr>\n",
       "  </thead>\n",
       "  <tbody>\n",
       "    <tr>\n",
       "      <th>337</th>\n",
       "      <td>1.720000</td>\n",
       "      <td>451.221255</td>\n",
       "      <td>485.0</td>\n",
       "      <td>0.392857</td>\n",
       "      <td>0.03044</td>\n",
       "      <td>Over</td>\n",
       "    </tr>\n",
       "    <tr>\n",
       "      <th>1257</th>\n",
       "      <td>22.391690</td>\n",
       "      <td>451.221255</td>\n",
       "      <td>440.0</td>\n",
       "      <td>0.392857</td>\n",
       "      <td>0.03044</td>\n",
       "      <td>Under</td>\n",
       "    </tr>\n",
       "    <tr>\n",
       "      <th>756</th>\n",
       "      <td>39.403943</td>\n",
       "      <td>451.221255</td>\n",
       "      <td>420.0</td>\n",
       "      <td>0.392857</td>\n",
       "      <td>0.03044</td>\n",
       "      <td>Under</td>\n",
       "    </tr>\n",
       "    <tr>\n",
       "      <th>1441</th>\n",
       "      <td>48.350072</td>\n",
       "      <td>451.221255</td>\n",
       "      <td>410.0</td>\n",
       "      <td>0.392857</td>\n",
       "      <td>0.03044</td>\n",
       "      <td>Under</td>\n",
       "    </tr>\n",
       "    <tr>\n",
       "      <th>1387</th>\n",
       "      <td>43.909506</td>\n",
       "      <td>451.221255</td>\n",
       "      <td>415.0</td>\n",
       "      <td>0.392857</td>\n",
       "      <td>0.03044</td>\n",
       "      <td>Under</td>\n",
       "    </tr>\n",
       "  </tbody>\n",
       "</table>\n",
       "</div>"
      ],
      "text/plain": [
       "          Value           S      K       tau        r     BS\n",
       "337    1.720000  451.221255  485.0  0.392857  0.03044   Over\n",
       "1257  22.391690  451.221255  440.0  0.392857  0.03044  Under\n",
       "756   39.403943  451.221255  420.0  0.392857  0.03044  Under\n",
       "1441  48.350072  451.221255  410.0  0.392857  0.03044  Under\n",
       "1387  43.909506  451.221255  415.0  0.392857  0.03044  Under"
      ]
     },
     "execution_count": 25,
     "metadata": {},
     "output_type": "execute_result"
    }
   ],
   "source": [
    "df_final.sort_values(\"tau\",ascending=False).head(5)"
   ]
  },
  {
   "cell_type": "code",
   "execution_count": 26,
   "id": "e40ea673",
   "metadata": {},
   "outputs": [],
   "source": [
    "df_final.to_csv('df_final.csv')"
   ]
  },
  {
   "cell_type": "markdown",
   "id": "f9e7b881",
   "metadata": {},
   "source": [
    "## Explore the Cleaned Dataset"
   ]
  },
  {
   "cell_type": "code",
   "execution_count": 27,
   "id": "93c36011",
   "metadata": {},
   "outputs": [
    {
     "data": {
      "text/html": [
       "<div>\n",
       "<style scoped>\n",
       "    .dataframe tbody tr th:only-of-type {\n",
       "        vertical-align: middle;\n",
       "    }\n",
       "\n",
       "    .dataframe tbody tr th {\n",
       "        vertical-align: top;\n",
       "    }\n",
       "\n",
       "    .dataframe thead th {\n",
       "        text-align: right;\n",
       "    }\n",
       "</style>\n",
       "<table border=\"1\" class=\"dataframe\">\n",
       "  <thead>\n",
       "    <tr style=\"text-align: right;\">\n",
       "      <th></th>\n",
       "      <th>Unnamed: 0</th>\n",
       "      <th>Value</th>\n",
       "      <th>S</th>\n",
       "      <th>K</th>\n",
       "      <th>tau</th>\n",
       "      <th>r</th>\n",
       "      <th>BS</th>\n",
       "    </tr>\n",
       "  </thead>\n",
       "  <tbody>\n",
       "    <tr>\n",
       "      <th>0</th>\n",
       "      <td>0</td>\n",
       "      <td>21.670404</td>\n",
       "      <td>431.623898</td>\n",
       "      <td>420.0</td>\n",
       "      <td>0.341270</td>\n",
       "      <td>0.03013</td>\n",
       "      <td>Under</td>\n",
       "    </tr>\n",
       "    <tr>\n",
       "      <th>1</th>\n",
       "      <td>1</td>\n",
       "      <td>0.125000</td>\n",
       "      <td>427.015526</td>\n",
       "      <td>465.0</td>\n",
       "      <td>0.166667</td>\n",
       "      <td>0.03126</td>\n",
       "      <td>Over</td>\n",
       "    </tr>\n",
       "    <tr>\n",
       "      <th>2</th>\n",
       "      <td>2</td>\n",
       "      <td>20.691244</td>\n",
       "      <td>427.762336</td>\n",
       "      <td>415.0</td>\n",
       "      <td>0.265873</td>\n",
       "      <td>0.03116</td>\n",
       "      <td>Under</td>\n",
       "    </tr>\n",
       "    <tr>\n",
       "      <th>3</th>\n",
       "      <td>3</td>\n",
       "      <td>1.035002</td>\n",
       "      <td>451.711658</td>\n",
       "      <td>460.0</td>\n",
       "      <td>0.063492</td>\n",
       "      <td>0.02972</td>\n",
       "      <td>Over</td>\n",
       "    </tr>\n",
       "    <tr>\n",
       "      <th>4</th>\n",
       "      <td>4</td>\n",
       "      <td>39.553020</td>\n",
       "      <td>446.718974</td>\n",
       "      <td>410.0</td>\n",
       "      <td>0.166667</td>\n",
       "      <td>0.02962</td>\n",
       "      <td>Under</td>\n",
       "    </tr>\n",
       "  </tbody>\n",
       "</table>\n",
       "</div>"
      ],
      "text/plain": [
       "   Unnamed: 0      Value           S      K       tau        r     BS\n",
       "0           0  21.670404  431.623898  420.0  0.341270  0.03013  Under\n",
       "1           1   0.125000  427.015526  465.0  0.166667  0.03126   Over\n",
       "2           2  20.691244  427.762336  415.0  0.265873  0.03116  Under\n",
       "3           3   1.035002  451.711658  460.0  0.063492  0.02972   Over\n",
       "4           4  39.553020  446.718974  410.0  0.166667  0.02962  Under"
      ]
     },
     "execution_count": 27,
     "metadata": {},
     "output_type": "execute_result"
    }
   ],
   "source": [
    "df = pd.read_csv('df_final.csv',index_col=False)\n",
    "df.head()"
   ]
  },
  {
   "cell_type": "code",
   "execution_count": 28,
   "id": "7364e931",
   "metadata": {},
   "outputs": [],
   "source": [
    "df.drop(columns='Unnamed: 0',inplace=True)"
   ]
  },
  {
   "cell_type": "code",
   "execution_count": 29,
   "id": "131b1c0e",
   "metadata": {},
   "outputs": [
    {
     "data": {
      "text/plain": [
       "Value    0\n",
       "S        0\n",
       "K        0\n",
       "tau      0\n",
       "r        0\n",
       "BS       0\n",
       "dtype: int64"
      ]
     },
     "execution_count": 29,
     "metadata": {},
     "output_type": "execute_result"
    }
   ],
   "source": [
    "df.isnull().sum()"
   ]
  },
  {
   "cell_type": "code",
   "execution_count": 30,
   "id": "1e4875aa",
   "metadata": {},
   "outputs": [
    {
     "data": {
      "text/html": [
       "<div>\n",
       "<style scoped>\n",
       "    .dataframe tbody tr th:only-of-type {\n",
       "        vertical-align: middle;\n",
       "    }\n",
       "\n",
       "    .dataframe tbody tr th {\n",
       "        vertical-align: top;\n",
       "    }\n",
       "\n",
       "    .dataframe thead th {\n",
       "        text-align: right;\n",
       "    }\n",
       "</style>\n",
       "<table border=\"1\" class=\"dataframe\">\n",
       "  <thead>\n",
       "    <tr style=\"text-align: right;\">\n",
       "      <th></th>\n",
       "      <th>Value</th>\n",
       "      <th>S</th>\n",
       "      <th>K</th>\n",
       "      <th>tau</th>\n",
       "      <th>r</th>\n",
       "    </tr>\n",
       "  </thead>\n",
       "  <tbody>\n",
       "    <tr>\n",
       "      <th>count</th>\n",
       "      <td>1678.000000</td>\n",
       "      <td>1678.000000</td>\n",
       "      <td>1678.000000</td>\n",
       "      <td>1678.000000</td>\n",
       "      <td>1678.000000</td>\n",
       "    </tr>\n",
       "    <tr>\n",
       "      <th>mean</th>\n",
       "      <td>15.075855</td>\n",
       "      <td>440.908524</td>\n",
       "      <td>438.241955</td>\n",
       "      <td>0.201886</td>\n",
       "      <td>0.030235</td>\n",
       "    </tr>\n",
       "    <tr>\n",
       "      <th>std</th>\n",
       "      <td>14.039793</td>\n",
       "      <td>7.523820</td>\n",
       "      <td>23.408989</td>\n",
       "      <td>0.099754</td>\n",
       "      <td>0.000558</td>\n",
       "    </tr>\n",
       "    <tr>\n",
       "      <th>min</th>\n",
       "      <td>0.125000</td>\n",
       "      <td>425.472331</td>\n",
       "      <td>375.000000</td>\n",
       "      <td>0.003968</td>\n",
       "      <td>0.029510</td>\n",
       "    </tr>\n",
       "    <tr>\n",
       "      <th>25%</th>\n",
       "      <td>2.255001</td>\n",
       "      <td>433.886762</td>\n",
       "      <td>420.000000</td>\n",
       "      <td>0.119048</td>\n",
       "      <td>0.029820</td>\n",
       "    </tr>\n",
       "    <tr>\n",
       "      <th>50%</th>\n",
       "      <td>11.235294</td>\n",
       "      <td>442.579723</td>\n",
       "      <td>440.000000</td>\n",
       "      <td>0.202381</td>\n",
       "      <td>0.030130</td>\n",
       "    </tr>\n",
       "    <tr>\n",
       "      <th>75%</th>\n",
       "      <td>25.747434</td>\n",
       "      <td>447.320414</td>\n",
       "      <td>455.000000</td>\n",
       "      <td>0.285714</td>\n",
       "      <td>0.030540</td>\n",
       "    </tr>\n",
       "    <tr>\n",
       "      <th>max</th>\n",
       "      <td>60.149367</td>\n",
       "      <td>455.880619</td>\n",
       "      <td>500.000000</td>\n",
       "      <td>0.392857</td>\n",
       "      <td>0.031880</td>\n",
       "    </tr>\n",
       "  </tbody>\n",
       "</table>\n",
       "</div>"
      ],
      "text/plain": [
       "             Value            S            K          tau            r\n",
       "count  1678.000000  1678.000000  1678.000000  1678.000000  1678.000000\n",
       "mean     15.075855   440.908524   438.241955     0.201886     0.030235\n",
       "std      14.039793     7.523820    23.408989     0.099754     0.000558\n",
       "min       0.125000   425.472331   375.000000     0.003968     0.029510\n",
       "25%       2.255001   433.886762   420.000000     0.119048     0.029820\n",
       "50%      11.235294   442.579723   440.000000     0.202381     0.030130\n",
       "75%      25.747434   447.320414   455.000000     0.285714     0.030540\n",
       "max      60.149367   455.880619   500.000000     0.392857     0.031880"
      ]
     },
     "execution_count": 30,
     "metadata": {},
     "output_type": "execute_result"
    }
   ],
   "source": [
    "df.describe()"
   ]
  },
  {
   "cell_type": "markdown",
   "id": "eafef4cd",
   "metadata": {},
   "source": [
    "## Encoding"
   ]
  },
  {
   "cell_type": "code",
   "execution_count": 31,
   "id": "3dc6d810",
   "metadata": {},
   "outputs": [],
   "source": [
    "dic = {'Under':0, 'Over':1}"
   ]
  },
  {
   "cell_type": "code",
   "execution_count": 32,
   "id": "4e36113b",
   "metadata": {},
   "outputs": [],
   "source": [
    "a = df['BS'].map(lambda x:dic[x])\n",
    "df['binary_BS'] = a"
   ]
  },
  {
   "cell_type": "code",
   "execution_count": 33,
   "id": "00aa9f22",
   "metadata": {},
   "outputs": [
    {
     "data": {
      "text/html": [
       "<div>\n",
       "<style scoped>\n",
       "    .dataframe tbody tr th:only-of-type {\n",
       "        vertical-align: middle;\n",
       "    }\n",
       "\n",
       "    .dataframe tbody tr th {\n",
       "        vertical-align: top;\n",
       "    }\n",
       "\n",
       "    .dataframe thead th {\n",
       "        text-align: right;\n",
       "    }\n",
       "</style>\n",
       "<table border=\"1\" class=\"dataframe\">\n",
       "  <thead>\n",
       "    <tr style=\"text-align: right;\">\n",
       "      <th></th>\n",
       "      <th>Value</th>\n",
       "      <th>S</th>\n",
       "      <th>K</th>\n",
       "      <th>tau</th>\n",
       "      <th>r</th>\n",
       "      <th>BS</th>\n",
       "      <th>binary_BS</th>\n",
       "    </tr>\n",
       "  </thead>\n",
       "  <tbody>\n",
       "    <tr>\n",
       "      <th>0</th>\n",
       "      <td>21.670404</td>\n",
       "      <td>431.623898</td>\n",
       "      <td>420.0</td>\n",
       "      <td>0.341270</td>\n",
       "      <td>0.03013</td>\n",
       "      <td>Under</td>\n",
       "      <td>0</td>\n",
       "    </tr>\n",
       "    <tr>\n",
       "      <th>1</th>\n",
       "      <td>0.125000</td>\n",
       "      <td>427.015526</td>\n",
       "      <td>465.0</td>\n",
       "      <td>0.166667</td>\n",
       "      <td>0.03126</td>\n",
       "      <td>Over</td>\n",
       "      <td>1</td>\n",
       "    </tr>\n",
       "    <tr>\n",
       "      <th>2</th>\n",
       "      <td>20.691244</td>\n",
       "      <td>427.762336</td>\n",
       "      <td>415.0</td>\n",
       "      <td>0.265873</td>\n",
       "      <td>0.03116</td>\n",
       "      <td>Under</td>\n",
       "      <td>0</td>\n",
       "    </tr>\n",
       "    <tr>\n",
       "      <th>3</th>\n",
       "      <td>1.035002</td>\n",
       "      <td>451.711658</td>\n",
       "      <td>460.0</td>\n",
       "      <td>0.063492</td>\n",
       "      <td>0.02972</td>\n",
       "      <td>Over</td>\n",
       "      <td>1</td>\n",
       "    </tr>\n",
       "    <tr>\n",
       "      <th>4</th>\n",
       "      <td>39.553020</td>\n",
       "      <td>446.718974</td>\n",
       "      <td>410.0</td>\n",
       "      <td>0.166667</td>\n",
       "      <td>0.02962</td>\n",
       "      <td>Under</td>\n",
       "      <td>0</td>\n",
       "    </tr>\n",
       "  </tbody>\n",
       "</table>\n",
       "</div>"
      ],
      "text/plain": [
       "       Value           S      K       tau        r     BS  binary_BS\n",
       "0  21.670404  431.623898  420.0  0.341270  0.03013  Under          0\n",
       "1   0.125000  427.015526  465.0  0.166667  0.03126   Over          1\n",
       "2  20.691244  427.762336  415.0  0.265873  0.03116  Under          0\n",
       "3   1.035002  451.711658  460.0  0.063492  0.02972   Over          1\n",
       "4  39.553020  446.718974  410.0  0.166667  0.02962  Under          0"
      ]
     },
     "execution_count": 33,
     "metadata": {},
     "output_type": "execute_result"
    }
   ],
   "source": [
    "df.head()"
   ]
  },
  {
   "cell_type": "markdown",
   "id": "c925dbf7",
   "metadata": {},
   "source": [
    "## Add new variables"
   ]
  },
  {
   "cell_type": "markdown",
   "id": "7891b57f",
   "metadata": {},
   "source": [
    "### price_gap"
   ]
  },
  {
   "cell_type": "code",
   "execution_count": 34,
   "id": "f86a47ad",
   "metadata": {},
   "outputs": [],
   "source": [
    "df['price_gap'] = df['K']-df['S']*np.exp(df['tau']*df['r'])"
   ]
  },
  {
   "cell_type": "markdown",
   "id": "be5a0f2e",
   "metadata": {},
   "source": [
    "### proportion_sole"
   ]
  },
  {
   "cell_type": "code",
   "execution_count": 35,
   "id": "5c6913aa",
   "metadata": {},
   "outputs": [],
   "source": [
    "df['proportion_sole'] = df['S']/df['K']"
   ]
  },
  {
   "cell_type": "markdown",
   "id": "e8b20cf3",
   "metadata": {},
   "source": [
    "### k_today"
   ]
  },
  {
   "cell_type": "code",
   "execution_count": 36,
   "id": "119bed8c",
   "metadata": {},
   "outputs": [],
   "source": [
    "df['k_today'] = df['K']*np.exp(-df['tau']*df['r'])"
   ]
  },
  {
   "cell_type": "markdown",
   "id": "424603ab",
   "metadata": {},
   "source": [
    "### proportion_growth"
   ]
  },
  {
   "cell_type": "code",
   "execution_count": 37,
   "id": "eb6f833d",
   "metadata": {},
   "outputs": [],
   "source": [
    "df['proportion_growth'] = np.log(df['S']/df['K'])"
   ]
  },
  {
   "cell_type": "markdown",
   "id": "b4ef0968",
   "metadata": {},
   "source": [
    "### price_rate"
   ]
  },
  {
   "cell_type": "code",
   "execution_count": 38,
   "id": "596d7a05",
   "metadata": {},
   "outputs": [],
   "source": [
    "df['price_rate'] = (df['K']-df['S'])/(df['r']*df['tau'])"
   ]
  },
  {
   "cell_type": "markdown",
   "id": "efedb6a0",
   "metadata": {},
   "source": [
    "### time_decay"
   ]
  },
  {
   "cell_type": "code",
   "execution_count": 39,
   "id": "0a77ba6a",
   "metadata": {},
   "outputs": [],
   "source": [
    "df['time_decay'] = (df['K']-df['S'])/df['tau']"
   ]
  },
  {
   "cell_type": "markdown",
   "id": "ce8665e1",
   "metadata": {},
   "source": [
    "### overview"
   ]
  },
  {
   "cell_type": "code",
   "execution_count": 40,
   "id": "83ca7b39",
   "metadata": {},
   "outputs": [
    {
     "data": {
      "text/html": [
       "<div>\n",
       "<style scoped>\n",
       "    .dataframe tbody tr th:only-of-type {\n",
       "        vertical-align: middle;\n",
       "    }\n",
       "\n",
       "    .dataframe tbody tr th {\n",
       "        vertical-align: top;\n",
       "    }\n",
       "\n",
       "    .dataframe thead th {\n",
       "        text-align: right;\n",
       "    }\n",
       "</style>\n",
       "<table border=\"1\" class=\"dataframe\">\n",
       "  <thead>\n",
       "    <tr style=\"text-align: right;\">\n",
       "      <th></th>\n",
       "      <th>Value</th>\n",
       "      <th>S</th>\n",
       "      <th>K</th>\n",
       "      <th>tau</th>\n",
       "      <th>r</th>\n",
       "      <th>BS</th>\n",
       "      <th>binary_BS</th>\n",
       "      <th>price_gap</th>\n",
       "      <th>proportion_sole</th>\n",
       "      <th>k_today</th>\n",
       "      <th>proportion_growth</th>\n",
       "      <th>price_rate</th>\n",
       "      <th>time_decay</th>\n",
       "    </tr>\n",
       "  </thead>\n",
       "  <tbody>\n",
       "    <tr>\n",
       "      <th>0</th>\n",
       "      <td>21.670404</td>\n",
       "      <td>431.623898</td>\n",
       "      <td>420.0</td>\n",
       "      <td>0.341270</td>\n",
       "      <td>0.03013</td>\n",
       "      <td>Under</td>\n",
       "      <td>0</td>\n",
       "      <td>-16.084950</td>\n",
       "      <td>1.027676</td>\n",
       "      <td>415.703494</td>\n",
       "      <td>0.027300</td>\n",
       "      <td>-1130.458854</td>\n",
       "      <td>-34.060725</td>\n",
       "    </tr>\n",
       "    <tr>\n",
       "      <th>1</th>\n",
       "      <td>0.125000</td>\n",
       "      <td>427.015526</td>\n",
       "      <td>465.0</td>\n",
       "      <td>0.166667</td>\n",
       "      <td>0.03126</td>\n",
       "      <td>Over</td>\n",
       "      <td>1</td>\n",
       "      <td>35.753918</td>\n",
       "      <td>0.918313</td>\n",
       "      <td>462.583650</td>\n",
       "      <td>-0.085217</td>\n",
       "      <td>7290.685993</td>\n",
       "      <td>227.906844</td>\n",
       "    </tr>\n",
       "    <tr>\n",
       "      <th>2</th>\n",
       "      <td>20.691244</td>\n",
       "      <td>427.762336</td>\n",
       "      <td>415.0</td>\n",
       "      <td>0.265873</td>\n",
       "      <td>0.03116</td>\n",
       "      <td>Under</td>\n",
       "      <td>0</td>\n",
       "      <td>-16.320898</td>\n",
       "      <td>1.030753</td>\n",
       "      <td>411.576092</td>\n",
       "      <td>0.030289</td>\n",
       "      <td>-1540.488558</td>\n",
       "      <td>-48.001623</td>\n",
       "    </tr>\n",
       "    <tr>\n",
       "      <th>3</th>\n",
       "      <td>1.035002</td>\n",
       "      <td>451.711658</td>\n",
       "      <td>460.0</td>\n",
       "      <td>0.063492</td>\n",
       "      <td>0.02972</td>\n",
       "      <td>Over</td>\n",
       "      <td>1</td>\n",
       "      <td>7.435165</td>\n",
       "      <td>0.981982</td>\n",
       "      <td>459.132806</td>\n",
       "      <td>-0.018182</td>\n",
       "      <td>4392.375191</td>\n",
       "      <td>130.541391</td>\n",
       "    </tr>\n",
       "    <tr>\n",
       "      <th>4</th>\n",
       "      <td>39.553020</td>\n",
       "      <td>446.718974</td>\n",
       "      <td>410.0</td>\n",
       "      <td>0.166667</td>\n",
       "      <td>0.02962</td>\n",
       "      <td>Under</td>\n",
       "      <td>0</td>\n",
       "      <td>-38.929729</td>\n",
       "      <td>1.089558</td>\n",
       "      <td>407.980954</td>\n",
       "      <td>0.085773</td>\n",
       "      <td>-7438.009654</td>\n",
       "      <td>-220.313846</td>\n",
       "    </tr>\n",
       "  </tbody>\n",
       "</table>\n",
       "</div>"
      ],
      "text/plain": [
       "       Value           S      K       tau        r     BS  binary_BS  \\\n",
       "0  21.670404  431.623898  420.0  0.341270  0.03013  Under          0   \n",
       "1   0.125000  427.015526  465.0  0.166667  0.03126   Over          1   \n",
       "2  20.691244  427.762336  415.0  0.265873  0.03116  Under          0   \n",
       "3   1.035002  451.711658  460.0  0.063492  0.02972   Over          1   \n",
       "4  39.553020  446.718974  410.0  0.166667  0.02962  Under          0   \n",
       "\n",
       "   price_gap  proportion_sole     k_today  proportion_growth   price_rate  \\\n",
       "0 -16.084950         1.027676  415.703494           0.027300 -1130.458854   \n",
       "1  35.753918         0.918313  462.583650          -0.085217  7290.685993   \n",
       "2 -16.320898         1.030753  411.576092           0.030289 -1540.488558   \n",
       "3   7.435165         0.981982  459.132806          -0.018182  4392.375191   \n",
       "4 -38.929729         1.089558  407.980954           0.085773 -7438.009654   \n",
       "\n",
       "   time_decay  \n",
       "0  -34.060725  \n",
       "1  227.906844  \n",
       "2  -48.001623  \n",
       "3  130.541391  \n",
       "4 -220.313846  "
      ]
     },
     "execution_count": 40,
     "metadata": {},
     "output_type": "execute_result"
    }
   ],
   "source": [
    "df.head()"
   ]
  },
  {
   "cell_type": "markdown",
   "id": "87ffb376",
   "metadata": {},
   "source": [
    "## Scaling"
   ]
  },
  {
   "cell_type": "code",
   "execution_count": 41,
   "id": "2c3949fc",
   "metadata": {},
   "outputs": [
    {
     "data": {
      "text/plain": [
       "Index(['Value', 'S', 'K', 'tau', 'r', 'BS', 'binary_BS', 'price_gap',\n",
       "       'proportion_sole', 'k_today', 'proportion_growth', 'price_rate',\n",
       "       'time_decay'],\n",
       "      dtype='object')"
      ]
     },
     "execution_count": 41,
     "metadata": {},
     "output_type": "execute_result"
    }
   ],
   "source": [
    "df.columns"
   ]
  },
  {
   "cell_type": "code",
   "execution_count": 42,
   "id": "54fe8904",
   "metadata": {},
   "outputs": [],
   "source": [
    "from sklearn.preprocessing import StandardScaler\n",
    "scaler = StandardScaler()\n",
    "df[['S', 'K', 'tau', 'r', 'price_gap','proportion_sole', 'k_today',  'proportion_growth','price_rate', 'time_decay']] =\\\n",
    "scaler.fit_transform(df[['S', 'K', 'tau', 'r', 'price_gap','proportion_sole', 'k_today', 'proportion_growth','price_rate',  'time_decay']])"
   ]
  },
  {
   "cell_type": "code",
   "execution_count": 43,
   "id": "0812e31d",
   "metadata": {},
   "outputs": [
    {
     "data": {
      "text/html": [
       "<div>\n",
       "<style scoped>\n",
       "    .dataframe tbody tr th:only-of-type {\n",
       "        vertical-align: middle;\n",
       "    }\n",
       "\n",
       "    .dataframe tbody tr th {\n",
       "        vertical-align: top;\n",
       "    }\n",
       "\n",
       "    .dataframe thead th {\n",
       "        text-align: right;\n",
       "    }\n",
       "</style>\n",
       "<table border=\"1\" class=\"dataframe\">\n",
       "  <thead>\n",
       "    <tr style=\"text-align: right;\">\n",
       "      <th></th>\n",
       "      <th>Value</th>\n",
       "      <th>S</th>\n",
       "      <th>K</th>\n",
       "      <th>tau</th>\n",
       "      <th>r</th>\n",
       "      <th>BS</th>\n",
       "      <th>binary_BS</th>\n",
       "      <th>price_gap</th>\n",
       "      <th>proportion_sole</th>\n",
       "      <th>k_today</th>\n",
       "      <th>proportion_growth</th>\n",
       "      <th>price_rate</th>\n",
       "      <th>time_decay</th>\n",
       "    </tr>\n",
       "  </thead>\n",
       "  <tbody>\n",
       "    <tr>\n",
       "      <th>0</th>\n",
       "      <td>21.670404</td>\n",
       "      <td>-1.234399</td>\n",
       "      <td>-0.779504</td>\n",
       "      <td>1.397692</td>\n",
       "      <td>-0.188942</td>\n",
       "      <td>Under</td>\n",
       "      <td>0</td>\n",
       "      <td>-0.469989</td>\n",
       "      <td>0.358135</td>\n",
       "      <td>-0.859741</td>\n",
       "      <td>0.380433</td>\n",
       "      <td>0.077115</td>\n",
       "      <td>0.078062</td>\n",
       "    </tr>\n",
       "    <tr>\n",
       "      <th>1</th>\n",
       "      <td>0.125000</td>\n",
       "      <td>-1.847086</td>\n",
       "      <td>1.143408</td>\n",
       "      <td>-0.353166</td>\n",
       "      <td>1.838567</td>\n",
       "      <td>Over</td>\n",
       "      <td>1</td>\n",
       "      <td>1.802800</td>\n",
       "      <td>-1.712198</td>\n",
       "      <td>1.169301</td>\n",
       "      <td>-1.764771</td>\n",
       "      <td>1.206214</td>\n",
       "      <td>1.238088</td>\n",
       "    </tr>\n",
       "    <tr>\n",
       "      <th>2</th>\n",
       "      <td>20.691244</td>\n",
       "      <td>-1.747797</td>\n",
       "      <td>-0.993160</td>\n",
       "      <td>0.641640</td>\n",
       "      <td>1.659141</td>\n",
       "      <td>Under</td>\n",
       "      <td>0</td>\n",
       "      <td>-0.480334</td>\n",
       "      <td>0.416379</td>\n",
       "      <td>-1.038381</td>\n",
       "      <td>0.437426</td>\n",
       "      <td>0.022139</td>\n",
       "      <td>0.016330</td>\n",
       "    </tr>\n",
       "    <tr>\n",
       "      <th>3</th>\n",
       "      <td>1.035002</td>\n",
       "      <td>1.436286</td>\n",
       "      <td>0.929751</td>\n",
       "      <td>-1.387765</td>\n",
       "      <td>-0.924587</td>\n",
       "      <td>Over</td>\n",
       "      <td>1</td>\n",
       "      <td>0.561211</td>\n",
       "      <td>-0.506893</td>\n",
       "      <td>1.019943</td>\n",
       "      <td>-0.486715</td>\n",
       "      <td>0.817611</td>\n",
       "      <td>0.806941</td>\n",
       "    </tr>\n",
       "    <tr>\n",
       "      <th>4</th>\n",
       "      <td>39.553020</td>\n",
       "      <td>0.772504</td>\n",
       "      <td>-1.206817</td>\n",
       "      <td>-0.353166</td>\n",
       "      <td>-1.104012</td>\n",
       "      <td>Under</td>\n",
       "      <td>0</td>\n",
       "      <td>-1.471581</td>\n",
       "      <td>1.529623</td>\n",
       "      <td>-1.193983</td>\n",
       "      <td>1.495249</td>\n",
       "      <td>-0.768595</td>\n",
       "      <td>-0.746690</td>\n",
       "    </tr>\n",
       "  </tbody>\n",
       "</table>\n",
       "</div>"
      ],
      "text/plain": [
       "       Value         S         K       tau         r     BS  binary_BS  \\\n",
       "0  21.670404 -1.234399 -0.779504  1.397692 -0.188942  Under          0   \n",
       "1   0.125000 -1.847086  1.143408 -0.353166  1.838567   Over          1   \n",
       "2  20.691244 -1.747797 -0.993160  0.641640  1.659141  Under          0   \n",
       "3   1.035002  1.436286  0.929751 -1.387765 -0.924587   Over          1   \n",
       "4  39.553020  0.772504 -1.206817 -0.353166 -1.104012  Under          0   \n",
       "\n",
       "   price_gap  proportion_sole   k_today  proportion_growth  price_rate  \\\n",
       "0  -0.469989         0.358135 -0.859741           0.380433    0.077115   \n",
       "1   1.802800        -1.712198  1.169301          -1.764771    1.206214   \n",
       "2  -0.480334         0.416379 -1.038381           0.437426    0.022139   \n",
       "3   0.561211        -0.506893  1.019943          -0.486715    0.817611   \n",
       "4  -1.471581         1.529623 -1.193983           1.495249   -0.768595   \n",
       "\n",
       "   time_decay  \n",
       "0    0.078062  \n",
       "1    1.238088  \n",
       "2    0.016330  \n",
       "3    0.806941  \n",
       "4   -0.746690  "
      ]
     },
     "execution_count": 43,
     "metadata": {},
     "output_type": "execute_result"
    }
   ],
   "source": [
    "df.head()"
   ]
  },
  {
   "cell_type": "markdown",
   "id": "c29ee464",
   "metadata": {},
   "source": [
    "## Spilt into three csvs"
   ]
  },
  {
   "cell_type": "code",
   "execution_count": 44,
   "id": "ab25be5e",
   "metadata": {},
   "outputs": [],
   "source": [
    "df_original = df[['Value', 'S', 'K', 'tau', 'r', 'BS', 'binary_BS']]"
   ]
  },
  {
   "cell_type": "code",
   "execution_count": 45,
   "id": "4fa728d9",
   "metadata": {},
   "outputs": [],
   "source": [
    "df_original.to_csv('df_orginal.csv')"
   ]
  },
  {
   "cell_type": "code",
   "execution_count": 46,
   "id": "76ec651e",
   "metadata": {},
   "outputs": [],
   "source": [
    "df.to_csv('df_full.csv')"
   ]
  },
  {
   "cell_type": "code",
   "execution_count": 47,
   "id": "cb1aae45",
   "metadata": {},
   "outputs": [],
   "source": [
    "df_avoidRepeat = df[['Value', 'S', 'K', 'tau', 'r', 'BS', 'binary_BS', 'price_gap','proportion_sole', 'k_today', 'price_rate', 'time_decay']]"
   ]
  },
  {
   "cell_type": "code",
   "execution_count": 48,
   "id": "9efb89e9",
   "metadata": {},
   "outputs": [],
   "source": [
    "df_avoidRepeat.to_csv('df_avoidRpeat.csv')"
   ]
  },
  {
   "cell_type": "code",
   "execution_count": 49,
   "id": "c84eacb9",
   "metadata": {},
   "outputs": [
    {
     "data": {
      "text/html": [
       "<div>\n",
       "<style scoped>\n",
       "    .dataframe tbody tr th:only-of-type {\n",
       "        vertical-align: middle;\n",
       "    }\n",
       "\n",
       "    .dataframe tbody tr th {\n",
       "        vertical-align: top;\n",
       "    }\n",
       "\n",
       "    .dataframe thead th {\n",
       "        text-align: right;\n",
       "    }\n",
       "</style>\n",
       "<table border=\"1\" class=\"dataframe\">\n",
       "  <thead>\n",
       "    <tr style=\"text-align: right;\">\n",
       "      <th></th>\n",
       "      <th>Value</th>\n",
       "      <th>S</th>\n",
       "      <th>K</th>\n",
       "      <th>tau</th>\n",
       "      <th>r</th>\n",
       "      <th>BS</th>\n",
       "      <th>binary_BS</th>\n",
       "    </tr>\n",
       "  </thead>\n",
       "  <tbody>\n",
       "    <tr>\n",
       "      <th>0</th>\n",
       "      <td>21.670404</td>\n",
       "      <td>-1.234399</td>\n",
       "      <td>-0.779504</td>\n",
       "      <td>1.397692</td>\n",
       "      <td>-0.188942</td>\n",
       "      <td>Under</td>\n",
       "      <td>0</td>\n",
       "    </tr>\n",
       "    <tr>\n",
       "      <th>1</th>\n",
       "      <td>0.125000</td>\n",
       "      <td>-1.847086</td>\n",
       "      <td>1.143408</td>\n",
       "      <td>-0.353166</td>\n",
       "      <td>1.838567</td>\n",
       "      <td>Over</td>\n",
       "      <td>1</td>\n",
       "    </tr>\n",
       "    <tr>\n",
       "      <th>2</th>\n",
       "      <td>20.691244</td>\n",
       "      <td>-1.747797</td>\n",
       "      <td>-0.993160</td>\n",
       "      <td>0.641640</td>\n",
       "      <td>1.659141</td>\n",
       "      <td>Under</td>\n",
       "      <td>0</td>\n",
       "    </tr>\n",
       "    <tr>\n",
       "      <th>3</th>\n",
       "      <td>1.035002</td>\n",
       "      <td>1.436286</td>\n",
       "      <td>0.929751</td>\n",
       "      <td>-1.387765</td>\n",
       "      <td>-0.924587</td>\n",
       "      <td>Over</td>\n",
       "      <td>1</td>\n",
       "    </tr>\n",
       "    <tr>\n",
       "      <th>4</th>\n",
       "      <td>39.553020</td>\n",
       "      <td>0.772504</td>\n",
       "      <td>-1.206817</td>\n",
       "      <td>-0.353166</td>\n",
       "      <td>-1.104012</td>\n",
       "      <td>Under</td>\n",
       "      <td>0</td>\n",
       "    </tr>\n",
       "  </tbody>\n",
       "</table>\n",
       "</div>"
      ],
      "text/plain": [
       "       Value         S         K       tau         r     BS  binary_BS\n",
       "0  21.670404 -1.234399 -0.779504  1.397692 -0.188942  Under          0\n",
       "1   0.125000 -1.847086  1.143408 -0.353166  1.838567   Over          1\n",
       "2  20.691244 -1.747797 -0.993160  0.641640  1.659141  Under          0\n",
       "3   1.035002  1.436286  0.929751 -1.387765 -0.924587   Over          1\n",
       "4  39.553020  0.772504 -1.206817 -0.353166 -1.104012  Under          0"
      ]
     },
     "execution_count": 49,
     "metadata": {},
     "output_type": "execute_result"
    }
   ],
   "source": [
    "df_original = pd.read_csv('df_orginal.csv')\n",
    "df_original.drop(columns='Unnamed: 0',inplace=True)\n",
    "df_original.head()"
   ]
  },
  {
   "cell_type": "code",
   "execution_count": 50,
   "id": "2e3b48c7",
   "metadata": {},
   "outputs": [
    {
     "data": {
      "text/html": [
       "<div>\n",
       "<style scoped>\n",
       "    .dataframe tbody tr th:only-of-type {\n",
       "        vertical-align: middle;\n",
       "    }\n",
       "\n",
       "    .dataframe tbody tr th {\n",
       "        vertical-align: top;\n",
       "    }\n",
       "\n",
       "    .dataframe thead th {\n",
       "        text-align: right;\n",
       "    }\n",
       "</style>\n",
       "<table border=\"1\" class=\"dataframe\">\n",
       "  <thead>\n",
       "    <tr style=\"text-align: right;\">\n",
       "      <th></th>\n",
       "      <th>Value</th>\n",
       "      <th>S</th>\n",
       "      <th>K</th>\n",
       "      <th>tau</th>\n",
       "      <th>r</th>\n",
       "      <th>BS</th>\n",
       "      <th>binary_BS</th>\n",
       "      <th>price_gap</th>\n",
       "      <th>proportion_sole</th>\n",
       "      <th>k_today</th>\n",
       "      <th>proportion_growth</th>\n",
       "      <th>price_rate</th>\n",
       "      <th>time_decay</th>\n",
       "    </tr>\n",
       "  </thead>\n",
       "  <tbody>\n",
       "    <tr>\n",
       "      <th>0</th>\n",
       "      <td>21.670404</td>\n",
       "      <td>-1.234399</td>\n",
       "      <td>-0.779504</td>\n",
       "      <td>1.397692</td>\n",
       "      <td>-0.188942</td>\n",
       "      <td>Under</td>\n",
       "      <td>0</td>\n",
       "      <td>-0.469989</td>\n",
       "      <td>0.358135</td>\n",
       "      <td>-0.859741</td>\n",
       "      <td>0.380433</td>\n",
       "      <td>0.077115</td>\n",
       "      <td>0.078062</td>\n",
       "    </tr>\n",
       "    <tr>\n",
       "      <th>1</th>\n",
       "      <td>0.125000</td>\n",
       "      <td>-1.847086</td>\n",
       "      <td>1.143408</td>\n",
       "      <td>-0.353166</td>\n",
       "      <td>1.838567</td>\n",
       "      <td>Over</td>\n",
       "      <td>1</td>\n",
       "      <td>1.802800</td>\n",
       "      <td>-1.712198</td>\n",
       "      <td>1.169301</td>\n",
       "      <td>-1.764771</td>\n",
       "      <td>1.206214</td>\n",
       "      <td>1.238088</td>\n",
       "    </tr>\n",
       "    <tr>\n",
       "      <th>2</th>\n",
       "      <td>20.691244</td>\n",
       "      <td>-1.747797</td>\n",
       "      <td>-0.993160</td>\n",
       "      <td>0.641640</td>\n",
       "      <td>1.659141</td>\n",
       "      <td>Under</td>\n",
       "      <td>0</td>\n",
       "      <td>-0.480334</td>\n",
       "      <td>0.416379</td>\n",
       "      <td>-1.038381</td>\n",
       "      <td>0.437426</td>\n",
       "      <td>0.022139</td>\n",
       "      <td>0.016330</td>\n",
       "    </tr>\n",
       "    <tr>\n",
       "      <th>3</th>\n",
       "      <td>1.035002</td>\n",
       "      <td>1.436286</td>\n",
       "      <td>0.929751</td>\n",
       "      <td>-1.387765</td>\n",
       "      <td>-0.924587</td>\n",
       "      <td>Over</td>\n",
       "      <td>1</td>\n",
       "      <td>0.561211</td>\n",
       "      <td>-0.506893</td>\n",
       "      <td>1.019943</td>\n",
       "      <td>-0.486715</td>\n",
       "      <td>0.817611</td>\n",
       "      <td>0.806941</td>\n",
       "    </tr>\n",
       "    <tr>\n",
       "      <th>4</th>\n",
       "      <td>39.553020</td>\n",
       "      <td>0.772504</td>\n",
       "      <td>-1.206817</td>\n",
       "      <td>-0.353166</td>\n",
       "      <td>-1.104012</td>\n",
       "      <td>Under</td>\n",
       "      <td>0</td>\n",
       "      <td>-1.471581</td>\n",
       "      <td>1.529623</td>\n",
       "      <td>-1.193983</td>\n",
       "      <td>1.495249</td>\n",
       "      <td>-0.768595</td>\n",
       "      <td>-0.746690</td>\n",
       "    </tr>\n",
       "  </tbody>\n",
       "</table>\n",
       "</div>"
      ],
      "text/plain": [
       "       Value         S         K       tau         r     BS  binary_BS  \\\n",
       "0  21.670404 -1.234399 -0.779504  1.397692 -0.188942  Under          0   \n",
       "1   0.125000 -1.847086  1.143408 -0.353166  1.838567   Over          1   \n",
       "2  20.691244 -1.747797 -0.993160  0.641640  1.659141  Under          0   \n",
       "3   1.035002  1.436286  0.929751 -1.387765 -0.924587   Over          1   \n",
       "4  39.553020  0.772504 -1.206817 -0.353166 -1.104012  Under          0   \n",
       "\n",
       "   price_gap  proportion_sole   k_today  proportion_growth  price_rate  \\\n",
       "0  -0.469989         0.358135 -0.859741           0.380433    0.077115   \n",
       "1   1.802800        -1.712198  1.169301          -1.764771    1.206214   \n",
       "2  -0.480334         0.416379 -1.038381           0.437426    0.022139   \n",
       "3   0.561211        -0.506893  1.019943          -0.486715    0.817611   \n",
       "4  -1.471581         1.529623 -1.193983           1.495249   -0.768595   \n",
       "\n",
       "   time_decay  \n",
       "0    0.078062  \n",
       "1    1.238088  \n",
       "2    0.016330  \n",
       "3    0.806941  \n",
       "4   -0.746690  "
      ]
     },
     "execution_count": 50,
     "metadata": {},
     "output_type": "execute_result"
    }
   ],
   "source": [
    "df_full = pd.read_csv('df_full.csv')\n",
    "df_full.drop(columns='Unnamed: 0',inplace=True)\n",
    "df_full.head()"
   ]
  },
  {
   "cell_type": "code",
   "execution_count": 51,
   "id": "17af4ea2",
   "metadata": {},
   "outputs": [
    {
     "data": {
      "text/plain": [
       "Index(['Value', 'S', 'K', 'tau', 'r', 'BS', 'binary_BS', 'price_gap',\n",
       "       'proportion_sole', 'k_today', 'proportion_growth', 'price_rate',\n",
       "       'time_decay'],\n",
       "      dtype='object')"
      ]
     },
     "execution_count": 51,
     "metadata": {},
     "output_type": "execute_result"
    }
   ],
   "source": [
    "df_full.columns"
   ]
  },
  {
   "cell_type": "code",
   "execution_count": 52,
   "id": "c71b8544",
   "metadata": {},
   "outputs": [
    {
     "data": {
      "text/html": [
       "<div>\n",
       "<style scoped>\n",
       "    .dataframe tbody tr th:only-of-type {\n",
       "        vertical-align: middle;\n",
       "    }\n",
       "\n",
       "    .dataframe tbody tr th {\n",
       "        vertical-align: top;\n",
       "    }\n",
       "\n",
       "    .dataframe thead th {\n",
       "        text-align: right;\n",
       "    }\n",
       "</style>\n",
       "<table border=\"1\" class=\"dataframe\">\n",
       "  <thead>\n",
       "    <tr style=\"text-align: right;\">\n",
       "      <th></th>\n",
       "      <th>Value</th>\n",
       "      <th>S</th>\n",
       "      <th>K</th>\n",
       "      <th>tau</th>\n",
       "      <th>r</th>\n",
       "      <th>BS</th>\n",
       "      <th>binary_BS</th>\n",
       "      <th>price_gap</th>\n",
       "      <th>proportion_sole</th>\n",
       "      <th>k_today</th>\n",
       "      <th>price_rate</th>\n",
       "      <th>time_decay</th>\n",
       "    </tr>\n",
       "  </thead>\n",
       "  <tbody>\n",
       "    <tr>\n",
       "      <th>0</th>\n",
       "      <td>21.670404</td>\n",
       "      <td>-1.234399</td>\n",
       "      <td>-0.779504</td>\n",
       "      <td>1.397692</td>\n",
       "      <td>-0.188942</td>\n",
       "      <td>Under</td>\n",
       "      <td>0</td>\n",
       "      <td>-0.469989</td>\n",
       "      <td>0.358135</td>\n",
       "      <td>-0.859741</td>\n",
       "      <td>0.077115</td>\n",
       "      <td>0.078062</td>\n",
       "    </tr>\n",
       "    <tr>\n",
       "      <th>1</th>\n",
       "      <td>0.125000</td>\n",
       "      <td>-1.847086</td>\n",
       "      <td>1.143408</td>\n",
       "      <td>-0.353166</td>\n",
       "      <td>1.838567</td>\n",
       "      <td>Over</td>\n",
       "      <td>1</td>\n",
       "      <td>1.802800</td>\n",
       "      <td>-1.712198</td>\n",
       "      <td>1.169301</td>\n",
       "      <td>1.206214</td>\n",
       "      <td>1.238088</td>\n",
       "    </tr>\n",
       "    <tr>\n",
       "      <th>2</th>\n",
       "      <td>20.691244</td>\n",
       "      <td>-1.747797</td>\n",
       "      <td>-0.993160</td>\n",
       "      <td>0.641640</td>\n",
       "      <td>1.659141</td>\n",
       "      <td>Under</td>\n",
       "      <td>0</td>\n",
       "      <td>-0.480334</td>\n",
       "      <td>0.416379</td>\n",
       "      <td>-1.038381</td>\n",
       "      <td>0.022139</td>\n",
       "      <td>0.016330</td>\n",
       "    </tr>\n",
       "    <tr>\n",
       "      <th>3</th>\n",
       "      <td>1.035002</td>\n",
       "      <td>1.436286</td>\n",
       "      <td>0.929751</td>\n",
       "      <td>-1.387765</td>\n",
       "      <td>-0.924587</td>\n",
       "      <td>Over</td>\n",
       "      <td>1</td>\n",
       "      <td>0.561211</td>\n",
       "      <td>-0.506893</td>\n",
       "      <td>1.019943</td>\n",
       "      <td>0.817611</td>\n",
       "      <td>0.806941</td>\n",
       "    </tr>\n",
       "    <tr>\n",
       "      <th>4</th>\n",
       "      <td>39.553020</td>\n",
       "      <td>0.772504</td>\n",
       "      <td>-1.206817</td>\n",
       "      <td>-0.353166</td>\n",
       "      <td>-1.104012</td>\n",
       "      <td>Under</td>\n",
       "      <td>0</td>\n",
       "      <td>-1.471581</td>\n",
       "      <td>1.529623</td>\n",
       "      <td>-1.193983</td>\n",
       "      <td>-0.768595</td>\n",
       "      <td>-0.746690</td>\n",
       "    </tr>\n",
       "  </tbody>\n",
       "</table>\n",
       "</div>"
      ],
      "text/plain": [
       "       Value         S         K       tau         r     BS  binary_BS  \\\n",
       "0  21.670404 -1.234399 -0.779504  1.397692 -0.188942  Under          0   \n",
       "1   0.125000 -1.847086  1.143408 -0.353166  1.838567   Over          1   \n",
       "2  20.691244 -1.747797 -0.993160  0.641640  1.659141  Under          0   \n",
       "3   1.035002  1.436286  0.929751 -1.387765 -0.924587   Over          1   \n",
       "4  39.553020  0.772504 -1.206817 -0.353166 -1.104012  Under          0   \n",
       "\n",
       "   price_gap  proportion_sole   k_today  price_rate  time_decay  \n",
       "0  -0.469989         0.358135 -0.859741    0.077115    0.078062  \n",
       "1   1.802800        -1.712198  1.169301    1.206214    1.238088  \n",
       "2  -0.480334         0.416379 -1.038381    0.022139    0.016330  \n",
       "3   0.561211        -0.506893  1.019943    0.817611    0.806941  \n",
       "4  -1.471581         1.529623 -1.193983   -0.768595   -0.746690  "
      ]
     },
     "execution_count": 52,
     "metadata": {},
     "output_type": "execute_result"
    }
   ],
   "source": [
    "df_avoidRpeat = pd.read_csv('df_avoidRpeat.csv')\n",
    "df_avoidRpeat.drop(columns='Unnamed: 0',inplace=True)\n",
    "df_avoidRpeat.head()"
   ]
  },
  {
   "cell_type": "markdown",
   "id": "eed3d4fa",
   "metadata": {},
   "source": [
    "## Lasso and Ridge Regression"
   ]
  },
  {
   "cell_type": "code",
   "execution_count": 53,
   "id": "4a6fa8b6",
   "metadata": {},
   "outputs": [],
   "source": [
    "df_full_x = df_full[['S', 'K', 'tau', 'r','price_gap','proportion_sole', 'k_today',  'proportion_growth','price_rate', 'time_decay']]\n",
    "df_full_y = df_full[['binary_BS']]"
   ]
  },
  {
   "cell_type": "code",
   "execution_count": 54,
   "id": "d39d75d4",
   "metadata": {},
   "outputs": [],
   "source": [
    "df_original_x = df_original[['S', 'K', 'tau', 'r']]\n",
    "df_original_y = df_original[['binary_BS']]"
   ]
  },
  {
   "cell_type": "code",
   "execution_count": 55,
   "id": "75610be1",
   "metadata": {},
   "outputs": [],
   "source": [
    "df_avoidRpeat_x = df_avoidRpeat[['S', 'K', 'tau', 'r','price_gap','proportion_sole', 'k_today', 'price_rate', 'time_decay']]\n",
    "df_avoidRpeat_y = df_avoidRpeat[['binary_BS']]"
   ]
  },
  {
   "cell_type": "code",
   "execution_count": 56,
   "id": "004d6c99",
   "metadata": {},
   "outputs": [
    {
     "name": "stdout",
     "output_type": "stream",
     "text": [
      "LETS START\n",
      "alpha:0.1,max_iter:500\n",
      "Linear Regression: \n",
      "\n",
      "r squared of 10-folds: [0.55778203 0.61252011 0.58080193 0.57375114 0.58108589 0.59060801\n",
      " 0.62401451 0.60142984 0.55679948 0.57722941] (mean r squared: 0.585602236849539 )\n",
      "alpha:0.1,max_iter:1000\n",
      "Linear Regression: \n",
      "\n",
      "r squared of 10-folds: [0.55778203 0.61252011 0.58080193 0.57375114 0.58108589 0.59060801\n",
      " 0.62401451 0.60142984 0.55679948 0.57722941] (mean r squared: 0.585602236849539 )\n",
      "alpha:0.1,max_iter:1500\n",
      "Linear Regression: \n",
      "\n",
      "r squared of 10-folds: [0.55778203 0.61252011 0.58080193 0.57375114 0.58108589 0.59060801\n",
      " 0.62401451 0.60142984 0.55679948 0.57722941] (mean r squared: 0.585602236849539 )\n",
      "alpha:0.1,max_iter:2000\n",
      "Linear Regression: \n",
      "\n",
      "r squared of 10-folds: [0.55778203 0.61252011 0.58080193 0.57375114 0.58108589 0.59060801\n",
      " 0.62401451 0.60142984 0.55679948 0.57722941] (mean r squared: 0.585602236849539 )\n",
      "alpha:0.5,max_iter:500\n",
      "Linear Regression: \n",
      "\n",
      "r squared of 10-folds: [-2.96039647e-04 -3.79704080e-02 -2.42934996e-03 -1.46924329e-05\n",
      " -7.21364637e-03 -9.74120893e-03 -3.90699013e-03 -5.07668549e-03\n",
      " -1.14654964e-02 -4.70992452e-03] (mean r squared: -0.008282444184250726 )\n",
      "alpha:0.5,max_iter:1000\n",
      "Linear Regression: \n",
      "\n",
      "r squared of 10-folds: [-2.96039647e-04 -3.79704080e-02 -2.42934996e-03 -1.46924329e-05\n",
      " -7.21364637e-03 -9.74120893e-03 -3.90699013e-03 -5.07668549e-03\n",
      " -1.14654964e-02 -4.70992452e-03] (mean r squared: -0.008282444184250726 )\n",
      "alpha:0.5,max_iter:1500\n",
      "Linear Regression: \n",
      "\n",
      "r squared of 10-folds: [-2.96039647e-04 -3.79704080e-02 -2.42934996e-03 -1.46924329e-05\n",
      " -7.21364637e-03 -9.74120893e-03 -3.90699013e-03 -5.07668549e-03\n",
      " -1.14654964e-02 -4.70992452e-03] (mean r squared: -0.008282444184250726 )\n",
      "alpha:0.5,max_iter:2000\n",
      "Linear Regression: \n",
      "\n",
      "r squared of 10-folds: [-2.96039647e-04 -3.79704080e-02 -2.42934996e-03 -1.46924329e-05\n",
      " -7.21364637e-03 -9.74120893e-03 -3.90699013e-03 -5.07668549e-03\n",
      " -1.14654964e-02 -4.70992452e-03] (mean r squared: -0.008282444184250726 )\n",
      "alpha:0.8,max_iter:500\n",
      "Linear Regression: \n",
      "\n",
      "r squared of 10-folds: [-2.96039647e-04 -3.79704080e-02 -2.42934996e-03 -1.46924329e-05\n",
      " -7.21364637e-03 -9.74120893e-03 -3.90699013e-03 -5.07668549e-03\n",
      " -1.14654964e-02 -4.70992452e-03] (mean r squared: -0.008282444184250726 )\n",
      "alpha:0.8,max_iter:1000\n",
      "Linear Regression: \n",
      "\n",
      "r squared of 10-folds: [-2.96039647e-04 -3.79704080e-02 -2.42934996e-03 -1.46924329e-05\n",
      " -7.21364637e-03 -9.74120893e-03 -3.90699013e-03 -5.07668549e-03\n",
      " -1.14654964e-02 -4.70992452e-03] (mean r squared: -0.008282444184250726 )\n",
      "alpha:0.8,max_iter:1500\n",
      "Linear Regression: \n",
      "\n",
      "r squared of 10-folds: [-2.96039647e-04 -3.79704080e-02 -2.42934996e-03 -1.46924329e-05\n",
      " -7.21364637e-03 -9.74120893e-03 -3.90699013e-03 -5.07668549e-03\n",
      " -1.14654964e-02 -4.70992452e-03] (mean r squared: -0.008282444184250726 )\n",
      "alpha:0.8,max_iter:2000\n",
      "Linear Regression: \n",
      "\n",
      "r squared of 10-folds: [-2.96039647e-04 -3.79704080e-02 -2.42934996e-03 -1.46924329e-05\n",
      " -7.21364637e-03 -9.74120893e-03 -3.90699013e-03 -5.07668549e-03\n",
      " -1.14654964e-02 -4.70992452e-03] (mean r squared: -0.008282444184250726 )\n",
      "alpha:1,max_iter:500\n",
      "Linear Regression: \n",
      "\n",
      "r squared of 10-folds: [-2.96039647e-04 -3.79704080e-02 -2.42934996e-03 -1.46924329e-05\n",
      " -7.21364637e-03 -9.74120893e-03 -3.90699013e-03 -5.07668549e-03\n",
      " -1.14654964e-02 -4.70992452e-03] (mean r squared: -0.008282444184250726 )\n",
      "alpha:1,max_iter:1000\n",
      "Linear Regression: \n",
      "\n",
      "r squared of 10-folds: [-2.96039647e-04 -3.79704080e-02 -2.42934996e-03 -1.46924329e-05\n",
      " -7.21364637e-03 -9.74120893e-03 -3.90699013e-03 -5.07668549e-03\n",
      " -1.14654964e-02 -4.70992452e-03] (mean r squared: -0.008282444184250726 )\n",
      "alpha:1,max_iter:1500\n",
      "Linear Regression: \n",
      "\n",
      "r squared of 10-folds: [-2.96039647e-04 -3.79704080e-02 -2.42934996e-03 -1.46924329e-05\n",
      " -7.21364637e-03 -9.74120893e-03 -3.90699013e-03 -5.07668549e-03\n",
      " -1.14654964e-02 -4.70992452e-03] (mean r squared: -0.008282444184250726 )\n",
      "alpha:1,max_iter:2000\n",
      "Linear Regression: \n",
      "\n",
      "r squared of 10-folds: [-2.96039647e-04 -3.79704080e-02 -2.42934996e-03 -1.46924329e-05\n",
      " -7.21364637e-03 -9.74120893e-03 -3.90699013e-03 -5.07668549e-03\n",
      " -1.14654964e-02 -4.70992452e-03] (mean r squared: -0.008282444184250726 )\n",
      "alpha:2,max_iter:500\n",
      "Linear Regression: \n",
      "\n",
      "r squared of 10-folds: [-2.96039647e-04 -3.79704080e-02 -2.42934996e-03 -1.46924329e-05\n",
      " -7.21364637e-03 -9.74120893e-03 -3.90699013e-03 -5.07668549e-03\n",
      " -1.14654964e-02 -4.70992452e-03] (mean r squared: -0.008282444184250726 )\n",
      "alpha:2,max_iter:1000\n",
      "Linear Regression: \n",
      "\n",
      "r squared of 10-folds: [-2.96039647e-04 -3.79704080e-02 -2.42934996e-03 -1.46924329e-05\n",
      " -7.21364637e-03 -9.74120893e-03 -3.90699013e-03 -5.07668549e-03\n",
      " -1.14654964e-02 -4.70992452e-03] (mean r squared: -0.008282444184250726 )\n",
      "alpha:2,max_iter:1500\n",
      "Linear Regression: \n",
      "\n",
      "r squared of 10-folds: [-2.96039647e-04 -3.79704080e-02 -2.42934996e-03 -1.46924329e-05\n",
      " -7.21364637e-03 -9.74120893e-03 -3.90699013e-03 -5.07668549e-03\n",
      " -1.14654964e-02 -4.70992452e-03] (mean r squared: -0.008282444184250726 )\n",
      "alpha:2,max_iter:2000\n",
      "Linear Regression: \n",
      "\n",
      "r squared of 10-folds: [-2.96039647e-04 -3.79704080e-02 -2.42934996e-03 -1.46924329e-05\n",
      " -7.21364637e-03 -9.74120893e-03 -3.90699013e-03 -5.07668549e-03\n",
      " -1.14654964e-02 -4.70992452e-03] (mean r squared: -0.008282444184250726 )\n",
      "LETS START\n",
      "alpha:0.1,max_iter:500\n",
      "Linear Regression: \n",
      "\n",
      "r squared of 10-folds: [0.48616879 0.52680481 0.49304717 0.52223877 0.52026542 0.54529578\n",
      " 0.55116117 0.53144113 0.48418046 0.54352228] (mean r squared: 0.5204125774469176 )\n",
      "alpha:0.1,max_iter:1000\n",
      "Linear Regression: \n",
      "\n",
      "r squared of 10-folds: [0.48616879 0.52680481 0.49304717 0.52223877 0.52026542 0.54529578\n",
      " 0.55116117 0.53144113 0.48418046 0.54352228] (mean r squared: 0.5204125774469176 )\n",
      "alpha:0.1,max_iter:1500\n",
      "Linear Regression: \n",
      "\n",
      "r squared of 10-folds: [0.48616879 0.52680481 0.49304717 0.52223877 0.52026542 0.54529578\n",
      " 0.55116117 0.53144113 0.48418046 0.54352228] (mean r squared: 0.5204125774469176 )\n",
      "alpha:0.1,max_iter:2000\n",
      "Linear Regression: \n",
      "\n",
      "r squared of 10-folds: [0.48616879 0.52680481 0.49304717 0.52223877 0.52026542 0.54529578\n",
      " 0.55116117 0.53144113 0.48418046 0.54352228] (mean r squared: 0.5204125774469176 )\n",
      "alpha:0.5,max_iter:500\n",
      "Linear Regression: \n",
      "\n",
      "r squared of 10-folds: [-2.96039647e-04 -3.79704080e-02 -2.42934996e-03 -1.46924329e-05\n",
      " -7.21364637e-03 -9.74120893e-03 -3.90699013e-03 -5.07668549e-03\n",
      " -1.14654964e-02 -4.70992452e-03] (mean r squared: -0.008282444184250726 )\n",
      "alpha:0.5,max_iter:1000\n",
      "Linear Regression: \n",
      "\n",
      "r squared of 10-folds: [-2.96039647e-04 -3.79704080e-02 -2.42934996e-03 -1.46924329e-05\n",
      " -7.21364637e-03 -9.74120893e-03 -3.90699013e-03 -5.07668549e-03\n",
      " -1.14654964e-02 -4.70992452e-03] (mean r squared: -0.008282444184250726 )\n",
      "alpha:0.5,max_iter:1500\n",
      "Linear Regression: \n",
      "\n",
      "r squared of 10-folds: [-2.96039647e-04 -3.79704080e-02 -2.42934996e-03 -1.46924329e-05\n",
      " -7.21364637e-03 -9.74120893e-03 -3.90699013e-03 -5.07668549e-03\n",
      " -1.14654964e-02 -4.70992452e-03] (mean r squared: -0.008282444184250726 )\n",
      "alpha:0.5,max_iter:2000\n",
      "Linear Regression: \n",
      "\n",
      "r squared of 10-folds: [-2.96039647e-04 -3.79704080e-02 -2.42934996e-03 -1.46924329e-05\n",
      " -7.21364637e-03 -9.74120893e-03 -3.90699013e-03 -5.07668549e-03\n",
      " -1.14654964e-02 -4.70992452e-03] (mean r squared: -0.008282444184250726 )\n",
      "alpha:0.8,max_iter:500\n",
      "Linear Regression: \n",
      "\n",
      "r squared of 10-folds: [-2.96039647e-04 -3.79704080e-02 -2.42934996e-03 -1.46924329e-05\n",
      " -7.21364637e-03 -9.74120893e-03 -3.90699013e-03 -5.07668549e-03\n",
      " -1.14654964e-02 -4.70992452e-03] (mean r squared: -0.008282444184250726 )\n",
      "alpha:0.8,max_iter:1000\n",
      "Linear Regression: \n",
      "\n",
      "r squared of 10-folds: [-2.96039647e-04 -3.79704080e-02 -2.42934996e-03 -1.46924329e-05\n",
      " -7.21364637e-03 -9.74120893e-03 -3.90699013e-03 -5.07668549e-03\n",
      " -1.14654964e-02 -4.70992452e-03] (mean r squared: -0.008282444184250726 )\n",
      "alpha:0.8,max_iter:1500\n",
      "Linear Regression: \n",
      "\n",
      "r squared of 10-folds: [-2.96039647e-04 -3.79704080e-02 -2.42934996e-03 -1.46924329e-05\n",
      " -7.21364637e-03 -9.74120893e-03 -3.90699013e-03 -5.07668549e-03\n",
      " -1.14654964e-02 -4.70992452e-03] (mean r squared: -0.008282444184250726 )\n",
      "alpha:0.8,max_iter:2000\n",
      "Linear Regression: \n",
      "\n",
      "r squared of 10-folds: [-2.96039647e-04 -3.79704080e-02 -2.42934996e-03 -1.46924329e-05\n",
      " -7.21364637e-03 -9.74120893e-03 -3.90699013e-03 -5.07668549e-03\n",
      " -1.14654964e-02 -4.70992452e-03] (mean r squared: -0.008282444184250726 )\n",
      "alpha:1,max_iter:500\n",
      "Linear Regression: \n",
      "\n",
      "r squared of 10-folds: [-2.96039647e-04 -3.79704080e-02 -2.42934996e-03 -1.46924329e-05\n",
      " -7.21364637e-03 -9.74120893e-03 -3.90699013e-03 -5.07668549e-03\n",
      " -1.14654964e-02 -4.70992452e-03] (mean r squared: -0.008282444184250726 )\n",
      "alpha:1,max_iter:1000\n",
      "Linear Regression: \n",
      "\n",
      "r squared of 10-folds: [-2.96039647e-04 -3.79704080e-02 -2.42934996e-03 -1.46924329e-05\n",
      " -7.21364637e-03 -9.74120893e-03 -3.90699013e-03 -5.07668549e-03\n",
      " -1.14654964e-02 -4.70992452e-03] (mean r squared: -0.008282444184250726 )\n",
      "alpha:1,max_iter:1500\n",
      "Linear Regression: \n",
      "\n",
      "r squared of 10-folds: [-2.96039647e-04 -3.79704080e-02 -2.42934996e-03 -1.46924329e-05\n",
      " -7.21364637e-03 -9.74120893e-03 -3.90699013e-03 -5.07668549e-03\n",
      " -1.14654964e-02 -4.70992452e-03] (mean r squared: -0.008282444184250726 )\n",
      "alpha:1,max_iter:2000\n",
      "Linear Regression: \n",
      "\n",
      "r squared of 10-folds: [-2.96039647e-04 -3.79704080e-02 -2.42934996e-03 -1.46924329e-05\n",
      " -7.21364637e-03 -9.74120893e-03 -3.90699013e-03 -5.07668549e-03\n",
      " -1.14654964e-02 -4.70992452e-03] (mean r squared: -0.008282444184250726 )\n",
      "alpha:2,max_iter:500\n",
      "Linear Regression: \n",
      "\n",
      "r squared of 10-folds: [-2.96039647e-04 -3.79704080e-02 -2.42934996e-03 -1.46924329e-05\n",
      " -7.21364637e-03 -9.74120893e-03 -3.90699013e-03 -5.07668549e-03\n",
      " -1.14654964e-02 -4.70992452e-03] (mean r squared: -0.008282444184250726 )\n",
      "alpha:2,max_iter:1000\n",
      "Linear Regression: \n",
      "\n",
      "r squared of 10-folds: [-2.96039647e-04 -3.79704080e-02 -2.42934996e-03 -1.46924329e-05\n",
      " -7.21364637e-03 -9.74120893e-03 -3.90699013e-03 -5.07668549e-03\n",
      " -1.14654964e-02 -4.70992452e-03] (mean r squared: -0.008282444184250726 )\n",
      "alpha:2,max_iter:1500\n",
      "Linear Regression: \n",
      "\n",
      "r squared of 10-folds: [-2.96039647e-04 -3.79704080e-02 -2.42934996e-03 -1.46924329e-05\n",
      " -7.21364637e-03 -9.74120893e-03 -3.90699013e-03 -5.07668549e-03\n",
      " -1.14654964e-02 -4.70992452e-03] (mean r squared: -0.008282444184250726 )\n"
     ]
    },
    {
     "name": "stdout",
     "output_type": "stream",
     "text": [
      "alpha:2,max_iter:2000\n",
      "Linear Regression: \n",
      "\n",
      "r squared of 10-folds: [-2.96039647e-04 -3.79704080e-02 -2.42934996e-03 -1.46924329e-05\n",
      " -7.21364637e-03 -9.74120893e-03 -3.90699013e-03 -5.07668549e-03\n",
      " -1.14654964e-02 -4.70992452e-03] (mean r squared: -0.008282444184250726 )\n",
      "LETS START\n",
      "alpha:0.1,max_iter:500\n",
      "Linear Regression: \n",
      "\n",
      "r squared of 10-folds: [0.55778203 0.61252011 0.58080193 0.57375114 0.58108589 0.59060801\n",
      " 0.62401451 0.60142984 0.55679948 0.57722941] (mean r squared: 0.585602236849539 )\n",
      "alpha:0.1,max_iter:1000\n",
      "Linear Regression: \n",
      "\n",
      "r squared of 10-folds: [0.55778203 0.61252011 0.58080193 0.57375114 0.58108589 0.59060801\n",
      " 0.62401451 0.60142984 0.55679948 0.57722941] (mean r squared: 0.585602236849539 )\n",
      "alpha:0.1,max_iter:1500\n",
      "Linear Regression: \n",
      "\n",
      "r squared of 10-folds: [0.55778203 0.61252011 0.58080193 0.57375114 0.58108589 0.59060801\n",
      " 0.62401451 0.60142984 0.55679948 0.57722941] (mean r squared: 0.585602236849539 )\n",
      "alpha:0.1,max_iter:2000\n",
      "Linear Regression: \n",
      "\n",
      "r squared of 10-folds: [0.55778203 0.61252011 0.58080193 0.57375114 0.58108589 0.59060801\n",
      " 0.62401451 0.60142984 0.55679948 0.57722941] (mean r squared: 0.585602236849539 )\n",
      "alpha:0.5,max_iter:500\n",
      "Linear Regression: \n",
      "\n",
      "r squared of 10-folds: [-2.96039647e-04 -3.79704080e-02 -2.42934996e-03 -1.46924329e-05\n",
      " -7.21364637e-03 -9.74120893e-03 -3.90699013e-03 -5.07668549e-03\n",
      " -1.14654964e-02 -4.70992452e-03] (mean r squared: -0.008282444184250726 )\n",
      "alpha:0.5,max_iter:1000\n",
      "Linear Regression: \n",
      "\n",
      "r squared of 10-folds: [-2.96039647e-04 -3.79704080e-02 -2.42934996e-03 -1.46924329e-05\n",
      " -7.21364637e-03 -9.74120893e-03 -3.90699013e-03 -5.07668549e-03\n",
      " -1.14654964e-02 -4.70992452e-03] (mean r squared: -0.008282444184250726 )\n",
      "alpha:0.5,max_iter:1500\n",
      "Linear Regression: \n",
      "\n",
      "r squared of 10-folds: [-2.96039647e-04 -3.79704080e-02 -2.42934996e-03 -1.46924329e-05\n",
      " -7.21364637e-03 -9.74120893e-03 -3.90699013e-03 -5.07668549e-03\n",
      " -1.14654964e-02 -4.70992452e-03] (mean r squared: -0.008282444184250726 )\n",
      "alpha:0.5,max_iter:2000\n",
      "Linear Regression: \n",
      "\n",
      "r squared of 10-folds: [-2.96039647e-04 -3.79704080e-02 -2.42934996e-03 -1.46924329e-05\n",
      " -7.21364637e-03 -9.74120893e-03 -3.90699013e-03 -5.07668549e-03\n",
      " -1.14654964e-02 -4.70992452e-03] (mean r squared: -0.008282444184250726 )\n",
      "alpha:0.8,max_iter:500\n",
      "Linear Regression: \n",
      "\n",
      "r squared of 10-folds: [-2.96039647e-04 -3.79704080e-02 -2.42934996e-03 -1.46924329e-05\n",
      " -7.21364637e-03 -9.74120893e-03 -3.90699013e-03 -5.07668549e-03\n",
      " -1.14654964e-02 -4.70992452e-03] (mean r squared: -0.008282444184250726 )\n",
      "alpha:0.8,max_iter:1000\n",
      "Linear Regression: \n",
      "\n",
      "r squared of 10-folds: [-2.96039647e-04 -3.79704080e-02 -2.42934996e-03 -1.46924329e-05\n",
      " -7.21364637e-03 -9.74120893e-03 -3.90699013e-03 -5.07668549e-03\n",
      " -1.14654964e-02 -4.70992452e-03] (mean r squared: -0.008282444184250726 )\n",
      "alpha:0.8,max_iter:1500\n",
      "Linear Regression: \n",
      "\n",
      "r squared of 10-folds: [-2.96039647e-04 -3.79704080e-02 -2.42934996e-03 -1.46924329e-05\n",
      " -7.21364637e-03 -9.74120893e-03 -3.90699013e-03 -5.07668549e-03\n",
      " -1.14654964e-02 -4.70992452e-03] (mean r squared: -0.008282444184250726 )\n",
      "alpha:0.8,max_iter:2000\n",
      "Linear Regression: \n",
      "\n",
      "r squared of 10-folds: [-2.96039647e-04 -3.79704080e-02 -2.42934996e-03 -1.46924329e-05\n",
      " -7.21364637e-03 -9.74120893e-03 -3.90699013e-03 -5.07668549e-03\n",
      " -1.14654964e-02 -4.70992452e-03] (mean r squared: -0.008282444184250726 )\n",
      "alpha:1,max_iter:500\n",
      "Linear Regression: \n",
      "\n",
      "r squared of 10-folds: [-2.96039647e-04 -3.79704080e-02 -2.42934996e-03 -1.46924329e-05\n",
      " -7.21364637e-03 -9.74120893e-03 -3.90699013e-03 -5.07668549e-03\n",
      " -1.14654964e-02 -4.70992452e-03] (mean r squared: -0.008282444184250726 )\n",
      "alpha:1,max_iter:1000\n",
      "Linear Regression: \n",
      "\n",
      "r squared of 10-folds: [-2.96039647e-04 -3.79704080e-02 -2.42934996e-03 -1.46924329e-05\n",
      " -7.21364637e-03 -9.74120893e-03 -3.90699013e-03 -5.07668549e-03\n",
      " -1.14654964e-02 -4.70992452e-03] (mean r squared: -0.008282444184250726 )\n",
      "alpha:1,max_iter:1500\n",
      "Linear Regression: \n",
      "\n",
      "r squared of 10-folds: [-2.96039647e-04 -3.79704080e-02 -2.42934996e-03 -1.46924329e-05\n",
      " -7.21364637e-03 -9.74120893e-03 -3.90699013e-03 -5.07668549e-03\n",
      " -1.14654964e-02 -4.70992452e-03] (mean r squared: -0.008282444184250726 )\n",
      "alpha:1,max_iter:2000\n",
      "Linear Regression: \n",
      "\n",
      "r squared of 10-folds: [-2.96039647e-04 -3.79704080e-02 -2.42934996e-03 -1.46924329e-05\n",
      " -7.21364637e-03 -9.74120893e-03 -3.90699013e-03 -5.07668549e-03\n",
      " -1.14654964e-02 -4.70992452e-03] (mean r squared: -0.008282444184250726 )\n",
      "alpha:2,max_iter:500\n",
      "Linear Regression: \n",
      "\n",
      "r squared of 10-folds: [-2.96039647e-04 -3.79704080e-02 -2.42934996e-03 -1.46924329e-05\n",
      " -7.21364637e-03 -9.74120893e-03 -3.90699013e-03 -5.07668549e-03\n",
      " -1.14654964e-02 -4.70992452e-03] (mean r squared: -0.008282444184250726 )\n",
      "alpha:2,max_iter:1000\n",
      "Linear Regression: \n",
      "\n",
      "r squared of 10-folds: [-2.96039647e-04 -3.79704080e-02 -2.42934996e-03 -1.46924329e-05\n",
      " -7.21364637e-03 -9.74120893e-03 -3.90699013e-03 -5.07668549e-03\n",
      " -1.14654964e-02 -4.70992452e-03] (mean r squared: -0.008282444184250726 )\n",
      "alpha:2,max_iter:1500\n",
      "Linear Regression: \n",
      "\n",
      "r squared of 10-folds: [-2.96039647e-04 -3.79704080e-02 -2.42934996e-03 -1.46924329e-05\n",
      " -7.21364637e-03 -9.74120893e-03 -3.90699013e-03 -5.07668549e-03\n",
      " -1.14654964e-02 -4.70992452e-03] (mean r squared: -0.008282444184250726 )\n",
      "alpha:2,max_iter:2000\n",
      "Linear Regression: \n",
      "\n",
      "r squared of 10-folds: [-2.96039647e-04 -3.79704080e-02 -2.42934996e-03 -1.46924329e-05\n",
      " -7.21364637e-03 -9.74120893e-03 -3.90699013e-03 -5.07668549e-03\n",
      " -1.14654964e-02 -4.70992452e-03] (mean r squared: -0.008282444184250726 )\n"
     ]
    }
   ],
   "source": [
    "from sklearn.linear_model import Lasso\n",
    "from sklearn.linear_model import Ridge\n",
    "from sklearn.linear_model import ElasticNet\n",
    "from sklearn.model_selection import KFold\n",
    "from sklearn.model_selection import cross_val_score\n",
    "## for LASSO (0.9404)\n",
    "for i,j in zip([df_full_x,df_original_x,df_avoidRpeat_x],[df_full_y,df_original_y,df_avoidRpeat_y]):\n",
    "    print('LETS START')\n",
    "    for alpha in [0.1,0.5,0.8,1,2]:\n",
    "        for max_iter in [500,1000,1500,2000]:\n",
    "            kfolds_regresssion = KFold(n_splits = 10, random_state = 2, shuffle = True) \n",
    "            regresssion_model = Lasso(alpha=alpha,max_iter=max_iter)\n",
    "            r2_model_1_cv = cross_val_score(regresssion_model, i, j, cv=kfolds_regresssion)\n",
    "            print(f'alpha:{alpha},max_iter:{max_iter}')\n",
    "            print(\"Linear Regression: \\n\")\n",
    "            print(\"r squared of 10-folds:\",r2_model_1_cv,\"(mean r squared:\",np.mean(r2_model_1_cv),\")\")"
   ]
  },
  {
   "cell_type": "code",
   "execution_count": 57,
   "id": "9f94a86f",
   "metadata": {},
   "outputs": [
    {
     "name": "stdout",
     "output_type": "stream",
     "text": [
      "LETS START\n",
      "Linear Regression: \n",
      "\n",
      "r squared of 10-folds: [0.61460134 0.65394301 0.6560662  0.60819428 0.65058152 0.64694035\n",
      " 0.654203   0.66707743 0.60020139 0.59237407] (mean r squared: 0.6344182593042016 )\n",
      "Linear Regression: \n",
      "\n",
      "r squared of 10-folds: [0.61460134 0.65394301 0.6560662  0.60819428 0.65058152 0.64694035\n",
      " 0.654203   0.66707743 0.60020139 0.59237407] (mean r squared: 0.6344182593042016 )\n",
      "Linear Regression: \n",
      "\n",
      "r squared of 10-folds: [0.61460134 0.65394301 0.6560662  0.60819428 0.65058152 0.64694035\n",
      " 0.654203   0.66707743 0.60020139 0.59237407] (mean r squared: 0.6344182593042016 )\n",
      "Linear Regression: \n",
      "\n",
      "r squared of 10-folds: [0.61460134 0.65394301 0.6560662  0.60819428 0.65058152 0.64694035\n",
      " 0.654203   0.66707743 0.60020139 0.59237407] (mean r squared: 0.6344182593042016 )\n",
      "Linear Regression: \n",
      "\n",
      "r squared of 10-folds: [0.6130934  0.65479602 0.65451428 0.61134048 0.64922908 0.64357192\n",
      " 0.65419923 0.66484619 0.5989929  0.59389717] (mean r squared: 0.6338480679382503 )\n",
      "Linear Regression: \n",
      "\n",
      "r squared of 10-folds: [0.6130934  0.65479602 0.65451428 0.61134048 0.64922908 0.64357192\n",
      " 0.65419923 0.66484619 0.5989929  0.59389717] (mean r squared: 0.6338480679382503 )\n",
      "Linear Regression: \n",
      "\n",
      "r squared of 10-folds: [0.6130934  0.65479602 0.65451428 0.61134048 0.64922908 0.64357192\n",
      " 0.65419923 0.66484619 0.5989929  0.59389717] (mean r squared: 0.6338480679382503 )\n",
      "Linear Regression: \n",
      "\n",
      "r squared of 10-folds: [0.6130934  0.65479602 0.65451428 0.61134048 0.64922908 0.64357192\n",
      " 0.65419923 0.66484619 0.5989929  0.59389717] (mean r squared: 0.6338480679382503 )\n",
      "Linear Regression: \n",
      "\n",
      "r squared of 10-folds: [0.61278279 0.65589074 0.65426716 0.61156198 0.64844677 0.64248773\n",
      " 0.6540364  0.66391526 0.59906012 0.59454089] (mean r squared: 0.6336989844631866 )\n",
      "Linear Regression: \n",
      "\n",
      "r squared of 10-folds: [0.61278279 0.65589074 0.65426716 0.61156198 0.64844677 0.64248773\n",
      " 0.6540364  0.66391526 0.59906012 0.59454089] (mean r squared: 0.6336989844631866 )\n",
      "Linear Regression: \n",
      "\n",
      "r squared of 10-folds: [0.61278279 0.65589074 0.65426716 0.61156198 0.64844677 0.64248773\n",
      " 0.6540364  0.66391526 0.59906012 0.59454089] (mean r squared: 0.6336989844631866 )\n",
      "Linear Regression: \n",
      "\n",
      "r squared of 10-folds: [0.61278279 0.65589074 0.65426716 0.61156198 0.64844677 0.64248773\n",
      " 0.6540364  0.66391526 0.59906012 0.59454089] (mean r squared: 0.6336989844631866 )\n",
      "Linear Regression: \n",
      "\n",
      "r squared of 10-folds: [0.61263734 0.6565708  0.6541625  0.61156145 0.64797986 0.64191099\n",
      " 0.65391131 0.66338647 0.59914453 0.59489181] (mean r squared: 0.6336157054687245 )\n",
      "Linear Regression: \n",
      "\n",
      "r squared of 10-folds: [0.61263734 0.6565708  0.6541625  0.61156145 0.64797986 0.64191099\n",
      " 0.65391131 0.66338647 0.59914453 0.59489181] (mean r squared: 0.6336157054687245 )\n",
      "Linear Regression: \n",
      "\n",
      "r squared of 10-folds: [0.61263734 0.6565708  0.6541625  0.61156145 0.64797986 0.64191099\n",
      " 0.65391131 0.66338647 0.59914453 0.59489181] (mean r squared: 0.6336157054687245 )\n",
      "Linear Regression: \n",
      "\n",
      "r squared of 10-folds: [0.61263734 0.6565708  0.6541625  0.61156145 0.64797986 0.64191099\n",
      " 0.65391131 0.66338647 0.59914453 0.59489181] (mean r squared: 0.6336157054687245 )\n",
      "Linear Regression: \n",
      "\n",
      "r squared of 10-folds: [0.61210738 0.65921684 0.65379623 0.61110476 0.64606507 0.63976027\n",
      " 0.65324674 0.66130881 0.59951014 0.59610153] (mean r squared: 0.6332217771631103 )\n",
      "Linear Regression: \n",
      "\n",
      "r squared of 10-folds: [0.61210738 0.65921684 0.65379623 0.61110476 0.64606507 0.63976027\n",
      " 0.65324674 0.66130881 0.59951014 0.59610153] (mean r squared: 0.6332217771631103 )\n",
      "Linear Regression: \n",
      "\n",
      "r squared of 10-folds: [0.61210738 0.65921684 0.65379623 0.61110476 0.64606507 0.63976027\n",
      " 0.65324674 0.66130881 0.59951014 0.59610153] (mean r squared: 0.6332217771631103 )\n",
      "Linear Regression: \n",
      "\n",
      "r squared of 10-folds: [0.61210738 0.65921684 0.65379623 0.61110476 0.64606507 0.63976027\n",
      " 0.65324674 0.66130881 0.59951014 0.59610153] (mean r squared: 0.6332217771631103 )\n",
      "LETS START\n",
      "Linear Regression: \n",
      "\n",
      "r squared of 10-folds: [0.603633   0.66097825 0.651582   0.60334296 0.63742926 0.63655597\n",
      " 0.64398954 0.65534996 0.59430989 0.59311113] (mean r squared: 0.6280281961522355 )\n",
      "Linear Regression: \n",
      "\n",
      "r squared of 10-folds: [0.603633   0.66097825 0.651582   0.60334296 0.63742926 0.63655597\n",
      " 0.64398954 0.65534996 0.59430989 0.59311113] (mean r squared: 0.6280281961522355 )\n",
      "Linear Regression: \n",
      "\n",
      "r squared of 10-folds: [0.603633   0.66097825 0.651582   0.60334296 0.63742926 0.63655597\n",
      " 0.64398954 0.65534996 0.59430989 0.59311113] (mean r squared: 0.6280281961522355 )\n",
      "Linear Regression: \n",
      "\n",
      "r squared of 10-folds: [0.603633   0.66097825 0.651582   0.60334296 0.63742926 0.63655597\n",
      " 0.64398954 0.65534996 0.59430989 0.59311113] (mean r squared: 0.6280281961522355 )\n",
      "Linear Regression: \n",
      "\n",
      "r squared of 10-folds: [0.60361707 0.66097063 0.65153418 0.60336997 0.63740853 0.63656582\n",
      " 0.64401469 0.65534149 0.59431679 0.59315366] (mean r squared: 0.6280292859332576 )\n",
      "Linear Regression: \n",
      "\n",
      "r squared of 10-folds: [0.60361707 0.66097063 0.65153418 0.60336997 0.63740853 0.63656582\n",
      " 0.64401469 0.65534149 0.59431679 0.59315366] (mean r squared: 0.6280292859332576 )\n",
      "Linear Regression: \n",
      "\n",
      "r squared of 10-folds: [0.60361707 0.66097063 0.65153418 0.60336997 0.63740853 0.63656582\n",
      " 0.64401469 0.65534149 0.59431679 0.59315366] (mean r squared: 0.6280292859332576 )\n",
      "Linear Regression: \n",
      "\n",
      "r squared of 10-folds: [0.60361707 0.66097063 0.65153418 0.60336997 0.63740853 0.63656582\n",
      " 0.64401469 0.65534149 0.59431679 0.59315366] (mean r squared: 0.6280292859332576 )\n",
      "Linear Regression: \n",
      "\n",
      "r squared of 10-folds: [0.60360505 0.66096482 0.65149827 0.60339012 0.63739292 0.63657312\n",
      " 0.64403344 0.65533506 0.59432188 0.59318544] (mean r squared: 0.6280300123521034 )\n",
      "Linear Regression: \n",
      "\n",
      "r squared of 10-folds: [0.60360505 0.66096482 0.65149827 0.60339012 0.63739292 0.63657312\n",
      " 0.64403344 0.65533506 0.59432188 0.59318544] (mean r squared: 0.6280300123521034 )\n",
      "Linear Regression: \n",
      "\n",
      "r squared of 10-folds: [0.60360505 0.66096482 0.65149827 0.60339012 0.63739292 0.63657312\n",
      " 0.64403344 0.65533506 0.59432188 0.59318544] (mean r squared: 0.6280300123521034 )\n",
      "Linear Regression: \n",
      "\n",
      "r squared of 10-folds: [0.60360505 0.66096482 0.65149827 0.60339012 0.63739292 0.63657312\n",
      " 0.64403344 0.65533506 0.59432188 0.59318544] (mean r squared: 0.6280300123521034 )\n",
      "Linear Regression: \n",
      "\n",
      "r squared of 10-folds: [0.603597   0.66096091 0.65147431 0.6034035  0.63738247 0.63657795\n",
      " 0.64404588 0.65533073 0.59432522 0.59320656] (mean r squared: 0.6280304534098711 )\n",
      "Linear Regression: \n",
      "\n",
      "r squared of 10-folds: [0.603597   0.66096091 0.65147431 0.6034035  0.63738247 0.63657795\n",
      " 0.64404588 0.65533073 0.59432522 0.59320656] (mean r squared: 0.6280304534098711 )\n",
      "Linear Regression: \n",
      "\n",
      "r squared of 10-folds: [0.603597   0.66096091 0.65147431 0.6034035  0.63738247 0.63657795\n",
      " 0.64404588 0.65533073 0.59432522 0.59320656] (mean r squared: 0.6280304534098711 )\n",
      "Linear Regression: \n",
      "\n",
      "r squared of 10-folds: [0.603597   0.66096091 0.65147431 0.6034035  0.63738247 0.63657795\n",
      " 0.64404588 0.65533073 0.59432522 0.59320656] (mean r squared: 0.6280304534098711 )\n",
      "Linear Regression: \n",
      "\n",
      "r squared of 10-folds: [0.60355632 0.66094084 0.65135425 0.60346974 0.63732986 0.63660155\n",
      " 0.64410739 0.65530861 0.59434141 0.59331146] (mean r squared: 0.6280321414832212 )\n",
      "Linear Regression: \n",
      "\n",
      "r squared of 10-folds: [0.60355632 0.66094084 0.65135425 0.60346974 0.63732986 0.63660155\n",
      " 0.64410739 0.65530861 0.59434141 0.59331146] (mean r squared: 0.6280321414832212 )\n",
      "Linear Regression: \n",
      "\n",
      "r squared of 10-folds: [0.60355632 0.66094084 0.65135425 0.60346974 0.63732986 0.63660155\n",
      " 0.64410739 0.65530861 0.59434141 0.59331146] (mean r squared: 0.6280321414832212 )\n",
      "Linear Regression: \n",
      "\n",
      "r squared of 10-folds: [0.60355632 0.66094084 0.65135425 0.60346974 0.63732986 0.63660155\n",
      " 0.64410739 0.65530861 0.59434141 0.59331146] (mean r squared: 0.6280321414832212 )\n",
      "LETS START\n",
      "Linear Regression: \n",
      "\n",
      "r squared of 10-folds: [0.61280548 0.65214997 0.65373895 0.61242079 0.65103884 0.64472881\n",
      " 0.6540946  0.66582123 0.59779654 0.59260921] (mean r squared: 0.6337204397970113 )\n",
      "Linear Regression: \n",
      "\n",
      "r squared of 10-folds: [0.61280548 0.65214997 0.65373895 0.61242079 0.65103884 0.64472881\n",
      " 0.6540946  0.66582123 0.59779654 0.59260921] (mean r squared: 0.6337204397970113 )\n",
      "Linear Regression: \n",
      "\n",
      "r squared of 10-folds: [0.61280548 0.65214997 0.65373895 0.61242079 0.65103884 0.64472881\n",
      " 0.6540946  0.66582123 0.59779654 0.59260921] (mean r squared: 0.6337204397970113 )\n",
      "Linear Regression: \n",
      "\n",
      "r squared of 10-folds: [0.61280548 0.65214997 0.65373895 0.61242079 0.65103884 0.64472881\n",
      " 0.6540946  0.66582123 0.59779654 0.59260921] (mean r squared: 0.6337204397970113 )\n"
     ]
    },
    {
     "name": "stdout",
     "output_type": "stream",
     "text": [
      "Linear Regression: \n",
      "\n",
      "r squared of 10-folds: [0.61266979 0.65427267 0.6539603  0.61232663 0.64951668 0.64315444\n",
      " 0.65413533 0.66460484 0.59840411 0.59380108] (mean r squared: 0.6336845866475327 )\n",
      "Linear Regression: \n",
      "\n",
      "r squared of 10-folds: [0.61266979 0.65427267 0.6539603  0.61232663 0.64951668 0.64315444\n",
      " 0.65413533 0.66460484 0.59840411 0.59380108] (mean r squared: 0.6336845866475327 )\n",
      "Linear Regression: \n",
      "\n",
      "r squared of 10-folds: [0.61266979 0.65427267 0.6539603  0.61232663 0.64951668 0.64315444\n",
      " 0.65413533 0.66460484 0.59840411 0.59380108] (mean r squared: 0.6336845866475327 )\n",
      "Linear Regression: \n",
      "\n",
      "r squared of 10-folds: [0.61266979 0.65427267 0.6539603  0.61232663 0.64951668 0.64315444\n",
      " 0.65413533 0.66460484 0.59840411 0.59380108] (mean r squared: 0.6336845866475327 )\n",
      "Linear Regression: \n",
      "\n",
      "r squared of 10-folds: [0.61254892 0.65557755 0.65395879 0.61218234 0.64869669 0.64228793\n",
      " 0.65401459 0.66381629 0.59873118 0.59445632] (mean r squared: 0.6336270595602895 )\n",
      "Linear Regression: \n",
      "\n",
      "r squared of 10-folds: [0.61254892 0.65557755 0.65395879 0.61218234 0.64869669 0.64228793\n",
      " 0.65401459 0.66381629 0.59873118 0.59445632] (mean r squared: 0.6336270595602895 )\n",
      "Linear Regression: \n",
      "\n",
      "r squared of 10-folds: [0.61254892 0.65557755 0.65395879 0.61218234 0.64869669 0.64228793\n",
      " 0.65401459 0.66381629 0.59873118 0.59445632] (mean r squared: 0.6336270595602895 )\n",
      "Linear Regression: \n",
      "\n",
      "r squared of 10-folds: [0.61254892 0.65557755 0.65395879 0.61218234 0.64869669 0.64228793\n",
      " 0.65401459 0.66381629 0.59873118 0.59445632] (mean r squared: 0.6336270595602895 )\n",
      "Linear Regression: \n",
      "\n",
      "r squared of 10-folds: [0.61246494 0.65633228 0.65393364 0.61206438 0.64821346 0.64177864\n",
      " 0.65390539 0.66333263 0.59890081 0.59481752] (mean r squared: 0.6335743694586241 )\n",
      "Linear Regression: \n",
      "\n",
      "r squared of 10-folds: [0.61246494 0.65633228 0.65393364 0.61206438 0.64821346 0.64177864\n",
      " 0.65390539 0.66333263 0.59890081 0.59481752] (mean r squared: 0.6335743694586241 )\n",
      "Linear Regression: \n",
      "\n",
      "r squared of 10-folds: [0.61246494 0.65633228 0.65393364 0.61206438 0.64821346 0.64177864\n",
      " 0.65390539 0.66333263 0.59890081 0.59481752] (mean r squared: 0.6335743694586241 )\n",
      "Linear Regression: \n",
      "\n",
      "r squared of 10-folds: [0.61246494 0.65633228 0.65393364 0.61206438 0.64821346 0.64177864\n",
      " 0.65390539 0.66333263 0.59890081 0.59481752] (mean r squared: 0.6335743694586241 )\n",
      "Linear Regression: \n",
      "\n",
      "r squared of 10-folds: [0.61203973 0.6591128  0.65369798 0.61140408 0.64626719 0.63974366\n",
      " 0.65327534 0.66133547 0.59940613 0.59605803] (mean r squared: 0.6332340386658315 )\n",
      "Linear Regression: \n",
      "\n",
      "r squared of 10-folds: [0.61203973 0.6591128  0.65369798 0.61140408 0.64626719 0.63974366\n",
      " 0.65327534 0.66133547 0.59940613 0.59605803] (mean r squared: 0.6332340386658315 )\n",
      "Linear Regression: \n",
      "\n",
      "r squared of 10-folds: [0.61203973 0.6591128  0.65369798 0.61140408 0.64626719 0.63974366\n",
      " 0.65327534 0.66133547 0.59940613 0.59605803] (mean r squared: 0.6332340386658315 )\n",
      "Linear Regression: \n",
      "\n",
      "r squared of 10-folds: [0.61203973 0.6591128  0.65369798 0.61140408 0.64626719 0.63974366\n",
      " 0.65327534 0.66133547 0.59940613 0.59605803] (mean r squared: 0.6332340386658315 )\n"
     ]
    }
   ],
   "source": [
    "## for Ridge (0.9899)\n",
    "for i,j in zip([df_full_x,df_original_x,df_avoidRpeat_x],[df_full_y,df_original_y,df_avoidRpeat_y]):\n",
    "    print('LETS START')\n",
    "    for alpha in [0.1,0.5,0.8,1,2]:\n",
    "        for max_iter in [500,1000,1500,2000]:\n",
    "            kfolds_regresssion = KFold(n_splits = 10, random_state = 2, shuffle = True) \n",
    "            regresssion_model = Ridge(alpha=alpha,max_iter=max_iter)\n",
    "            r2_model_1_cv = cross_val_score(regresssion_model, i, j, cv=kfolds_regresssion)\n",
    "            print(\"Linear Regression: \\n\")\n",
    "            print(\"r squared of 10-folds:\",r2_model_1_cv,\"(mean r squared:\",np.mean(r2_model_1_cv),\")\")"
   ]
  },
  {
   "cell_type": "code",
   "execution_count": 58,
   "id": "4cda1442",
   "metadata": {},
   "outputs": [
    {
     "name": "stdout",
     "output_type": "stream",
     "text": [
      "Linear Regression: \n",
      "\n",
      "r squared of 10-folds: [-2.96039647e-04 -3.79704080e-02 -2.42934996e-03 -1.46924329e-05\n",
      " -7.21364637e-03 -9.74120893e-03 -3.90699013e-03 -5.07668549e-03\n",
      " -1.14654964e-02 -4.70992452e-03] (mean r squared: -0.008282444184250726 )\n",
      "Linear Regression: \n",
      "\n",
      "r squared of 10-folds: [-2.96039647e-04 -3.79704080e-02 -2.42934996e-03 -1.46924329e-05\n",
      " -7.21364637e-03 -9.74120893e-03 -3.90699013e-03 -5.07668549e-03\n",
      " -1.14654964e-02 -4.70992452e-03] (mean r squared: -0.008282444184250726 )\n",
      "Linear Regression: \n",
      "\n",
      "r squared of 10-folds: [-2.96039647e-04 -3.79704080e-02 -2.42934996e-03 -1.46924329e-05\n",
      " -7.21364637e-03 -9.74120893e-03 -3.90699013e-03 -5.07668549e-03\n",
      " -1.14654964e-02 -4.70992452e-03] (mean r squared: -0.008282444184250726 )\n"
     ]
    }
   ],
   "source": [
    "## for Elasticnet (really bad)\n",
    "for i,j in zip([df_full_x,df_original_x,df_avoidRpeat_x],[df_full_y,df_original_y,df_avoidRpeat_y]):\n",
    "    kfolds_regresssion = KFold(n_splits = 10, random_state = 2, shuffle = True) \n",
    "    regresssion_model = ElasticNet()\n",
    "    r2_model_1_cv = cross_val_score(regresssion_model, i, j, cv=kfolds_regresssion)\n",
    "    print(\"Linear Regression: \\n\")\n",
    "    print(\"r squared of 10-folds:\",r2_model_1_cv,\"(mean r squared:\",np.mean(r2_model_1_cv),\")\")"
   ]
  },
  {
   "cell_type": "markdown",
   "id": "e377e853",
   "metadata": {},
   "source": [
    "## Linear Regression"
   ]
  },
  {
   "cell_type": "code",
   "execution_count": 59,
   "id": "e590580f",
   "metadata": {},
   "outputs": [],
   "source": [
    "kfolds_regresssion = KFold(n_splits = 10,  random_state = 2, shuffle =True)"
   ]
  },
  {
   "cell_type": "code",
   "execution_count": 60,
   "id": "5a093495",
   "metadata": {},
   "outputs": [
    {
     "name": "stdout",
     "output_type": "stream",
     "text": [
      "Linear Regression: \n",
      "\n",
      "Original dataset: r squared of 10-folds: [0.92801326 0.88337653 0.90566358 0.90146763 0.919104   0.92238467\n",
      " 0.91422221 0.92244687 0.89970923 0.90179463] \n",
      " (mean r squared: 0.9098182601788887 )\n"
     ]
    }
   ],
   "source": [
    "LR_model_originial = LinearRegression()\n",
    "LR_cv_original = cross_val_score(LR_model_originial, df_original[['S', 'K', 'tau', 'r']], df_original['Value'], cv=kfolds_regresssion)\n",
    "\n",
    "print(\"Linear Regression: \\n\")\n",
    "print(\"Original dataset: r squared of 10-folds:\",LR_cv_original,\"\\n (mean r squared:\",np.mean(LR_cv_original),\")\")"
   ]
  },
  {
   "cell_type": "code",
   "execution_count": 61,
   "id": "7600516b",
   "metadata": {},
   "outputs": [
    {
     "name": "stdout",
     "output_type": "stream",
     "text": [
      "Linear Regression: \n",
      "\n",
      "Original dataset: r squared of 10-folds: [0.99214348 0.99016653 0.99187867 0.99064874 0.99072278 0.99040463\n",
      " 0.99205373 0.9930463  0.99306532 0.99372141] \n",
      " (mean r squared: 0.9917851617378737 )\n"
     ]
    }
   ],
   "source": [
    "LR_model_full = LinearRegression()\n",
    "LR_cv_full = cross_val_score(LR_model_full, df_full.iloc[:,np.r_[1:5,7:13]], df_full['Value'], cv=kfolds_regresssion)\n",
    "\n",
    "print(\"Linear Regression: \\n\")\n",
    "print(\"Original dataset: r squared of 10-folds:\",LR_cv_full,\"\\n (mean r squared:\",np.mean(LR_cv_full),\")\")"
   ]
  },
  {
   "cell_type": "code",
   "execution_count": 62,
   "id": "b78bfa6c",
   "metadata": {},
   "outputs": [
    {
     "name": "stdout",
     "output_type": "stream",
     "text": [
      "Linear Regression: \n",
      "\n",
      "Original dataset: r squared of 10-folds: [0.98593983 0.98042229 0.98237339 0.97735452 0.9797993  0.98248928\n",
      " 0.98225423 0.98674353 0.9867899  0.98552161] \n",
      " (mean r squared: 0.9829687892186014 )\n"
     ]
    }
   ],
   "source": [
    "LR_model_select = LinearRegression()\n",
    "LR_cv_select = cross_val_score(LR_model_select, df_avoidRpeat.iloc[:,np.r_[1:5,7:11]], df_avoidRpeat['Value'], cv=kfolds_regresssion)\n",
    "\n",
    "print(\"Linear Regression: \\n\")\n",
    "print(\"Original dataset: r squared of 10-folds:\",LR_cv_select,\"\\n (mean r squared:\",np.mean(LR_cv_select),\")\")"
   ]
  },
  {
   "cell_type": "markdown",
   "id": "9207d0c7",
   "metadata": {},
   "source": [
    "## K-nearest Neighbours Regression"
   ]
  },
  {
   "cell_type": "code",
   "execution_count": 63,
   "id": "6c176719",
   "metadata": {},
   "outputs": [
    {
     "name": "stdout",
     "output_type": "stream",
     "text": [
      "KNN Regression: \n",
      "\n",
      "R squared of 10-folds: [0.98524372 0.98865384 0.97922618 0.98022722 0.97868604 0.97917861\n",
      " 0.98429425 0.98085503 0.97824085 0.98537299] \n",
      " (mean r squared: 0.9819978734864169 )\n"
     ]
    }
   ],
   "source": [
    "KNN_model_originial = KNeighborsRegressor(n_neighbors=5)\n",
    "KNN_cv_original = cross_val_score(KNN_model_originial, df_original[['S', 'K', 'tau', 'r']], df_original['Value'], cv=kfolds_regresssion)\n",
    "\n",
    "print(\"KNN Regression: \\n\")\n",
    "print(\"R squared of 10-folds:\",KNN_cv_original,\"\\n (mean r squared:\",np.mean(KNN_cv_original),\")\")"
   ]
  },
  {
   "cell_type": "code",
   "execution_count": 64,
   "id": "62cfd87c",
   "metadata": {},
   "outputs": [
    {
     "name": "stdout",
     "output_type": "stream",
     "text": [
      "KNN Regression: \n",
      "\n",
      "R squared of 10-folds: [0.99109609 0.98826427 0.98858856 0.99198859 0.98314144 0.98441592\n",
      " 0.9934255  0.98900578 0.98794929 0.9925855 ] \n",
      " (mean r squared: 0.9890460940317165 )\n"
     ]
    }
   ],
   "source": [
    "KNN_model_full = KNeighborsRegressor(n_neighbors=6)\n",
    "KNN_cv_full = cross_val_score(KNN_model_full, df_full.iloc[:,np.r_[1:5,7:13]], df_full['Value'], cv=kfolds_regresssion)\n",
    "\n",
    "print(\"KNN Regression: \\n\")\n",
    "print(\"R squared of 10-folds:\",KNN_cv_full,\"\\n (mean r squared:\",np.mean(KNN_cv_full),\")\")"
   ]
  },
  {
   "cell_type": "code",
   "execution_count": 65,
   "id": "6a8252e7",
   "metadata": {},
   "outputs": [
    {
     "name": "stdout",
     "output_type": "stream",
     "text": [
      "KNN Regression: \n",
      "\n",
      "R squared of 10-folds: [0.99200274 0.98974535 0.9857577  0.98964626 0.98072678 0.9861141\n",
      " 0.99312362 0.98801144 0.98814393 0.99230642] \n",
      " (mean r squared: 0.9885578346792077 )\n"
     ]
    }
   ],
   "source": [
    "KNN_model_full = KNeighborsRegressor(n_neighbors=6)\n",
    "KNN_cv_select = cross_val_score(KNN_model_full, df_avoidRpeat.iloc[:,np.r_[1:5,7:11]], df_avoidRpeat['Value'], cv=kfolds_regresssion)\n",
    "\n",
    "print(\"KNN Regression: \\n\")\n",
    "print(\"R squared of 10-folds:\",KNN_cv_select,\"\\n (mean r squared:\",np.mean(KNN_cv_select),\")\")\n",
    "\n"
   ]
  },
  {
   "cell_type": "markdown",
   "id": "21266369",
   "metadata": {},
   "source": [
    "# Final Model"
   ]
  },
  {
   "cell_type": "code",
   "execution_count": 66,
   "id": "2a68f1bc",
   "metadata": {},
   "outputs": [],
   "source": [
    "kfolds_regresssion = KFold(n_splits = 10,  random_state = 2,shuffle =True)"
   ]
  },
  {
   "cell_type": "code",
   "execution_count": 67,
   "id": "80b29358",
   "metadata": {},
   "outputs": [],
   "source": [
    "X, y = df_full.iloc[:,np.r_[1:5,7:13]], df_full['Value']"
   ]
  },
  {
   "cell_type": "code",
   "execution_count": 68,
   "id": "4dd94c3a",
   "metadata": {},
   "outputs": [],
   "source": [
    "def processSubset(feature_set):\n",
    "    model = LinearRegression()\n",
    "    X2 = sm.add_constant(X[list(feature_set)])\n",
    "    model.fit(X2,y.values.ravel())\n",
    "    score = cross_val_score(model,X2, y.values.ravel(), cv=kfolds_regresssion)\n",
    "    return {\"R_squared\":np.mean(score),\"model\":dict(zip(feature_set, model.coef_))}"
   ]
  },
  {
   "cell_type": "code",
   "execution_count": 69,
   "id": "12f05a42",
   "metadata": {},
   "outputs": [],
   "source": [
    "def getBest(k):\n",
    "    results = []\n",
    "    for combo in itertools.combinations(X.columns, k):\n",
    "        results.append(processSubset(combo))\n",
    "    models = pd.DataFrame(results)\n",
    "    best_model = models[models.R_squared==models.R_squared.max()]\n",
    "    print(\"Processed \", models.shape[0], \"models on\", k, \"predictors\")\n",
    "    # Return the best model, along with some other useful information about the model\n",
    "    return best_model"
   ]
  },
  {
   "cell_type": "code",
   "execution_count": 139,
   "id": "7c5845a4",
   "metadata": {},
   "outputs": [
    {
     "ename": "AttributeError",
     "evalue": "'GradientBoostingClassifier' object has no attribute 'feature_names_in_'",
     "output_type": "error",
     "traceback": [
      "\u001b[0;31m---------------------------------------------------------------------------\u001b[0m",
      "\u001b[0;31mAttributeError\u001b[0m                            Traceback (most recent call last)",
      "\u001b[0;32m/var/folders/nt/91ch_md14118b70m3yzl1t4c0000gn/T/ipykernel_11426/1127155406.py\u001b[0m in \u001b[0;36m<module>\u001b[0;34m\u001b[0m\n\u001b[1;32m      1\u001b[0m \u001b[0mmodels\u001b[0m \u001b[0;34m=\u001b[0m \u001b[0mpd\u001b[0m\u001b[0;34m.\u001b[0m\u001b[0mDataFrame\u001b[0m\u001b[0;34m(\u001b[0m\u001b[0mcolumns\u001b[0m\u001b[0;34m=\u001b[0m\u001b[0;34m[\u001b[0m\u001b[0;34m\"R_squared\"\u001b[0m\u001b[0;34m,\u001b[0m \u001b[0;34m\"model\"\u001b[0m\u001b[0;34m]\u001b[0m\u001b[0;34m)\u001b[0m\u001b[0;34m\u001b[0m\u001b[0;34m\u001b[0m\u001b[0m\n\u001b[1;32m      2\u001b[0m \u001b[0;32mfor\u001b[0m \u001b[0mi\u001b[0m \u001b[0;32min\u001b[0m \u001b[0mrange\u001b[0m\u001b[0;34m(\u001b[0m\u001b[0;36m0\u001b[0m\u001b[0;34m,\u001b[0m\u001b[0;36m11\u001b[0m\u001b[0;34m)\u001b[0m\u001b[0;34m:\u001b[0m\u001b[0;34m\u001b[0m\u001b[0;34m\u001b[0m\u001b[0m\n\u001b[0;32m----> 3\u001b[0;31m     \u001b[0mmodels\u001b[0m\u001b[0;34m.\u001b[0m\u001b[0mloc\u001b[0m\u001b[0;34m[\u001b[0m\u001b[0mi\u001b[0m\u001b[0;34m]\u001b[0m \u001b[0;34m=\u001b[0m \u001b[0mgetBest\u001b[0m\u001b[0;34m(\u001b[0m\u001b[0mi\u001b[0m\u001b[0;34m)\u001b[0m\u001b[0;34m.\u001b[0m\u001b[0miloc\u001b[0m\u001b[0;34m[\u001b[0m\u001b[0;36m0\u001b[0m\u001b[0;34m]\u001b[0m\u001b[0;34m\u001b[0m\u001b[0;34m\u001b[0m\u001b[0m\n\u001b[0m",
      "\u001b[0;32m/var/folders/nt/91ch_md14118b70m3yzl1t4c0000gn/T/ipykernel_11426/1905596820.py\u001b[0m in \u001b[0;36mgetBest\u001b[0;34m(k)\u001b[0m\n\u001b[1;32m      2\u001b[0m     \u001b[0mresults\u001b[0m \u001b[0;34m=\u001b[0m \u001b[0;34m[\u001b[0m\u001b[0;34m]\u001b[0m\u001b[0;34m\u001b[0m\u001b[0;34m\u001b[0m\u001b[0m\n\u001b[1;32m      3\u001b[0m     \u001b[0;32mfor\u001b[0m \u001b[0mcombo\u001b[0m \u001b[0;32min\u001b[0m \u001b[0mitertools\u001b[0m\u001b[0;34m.\u001b[0m\u001b[0mcombinations\u001b[0m\u001b[0;34m(\u001b[0m\u001b[0mX2\u001b[0m\u001b[0;34m.\u001b[0m\u001b[0mcolumns\u001b[0m\u001b[0;34m,\u001b[0m \u001b[0mk\u001b[0m\u001b[0;34m)\u001b[0m\u001b[0;34m:\u001b[0m\u001b[0;34m\u001b[0m\u001b[0;34m\u001b[0m\u001b[0m\n\u001b[0;32m----> 4\u001b[0;31m         \u001b[0mresults\u001b[0m\u001b[0;34m.\u001b[0m\u001b[0mappend\u001b[0m\u001b[0;34m(\u001b[0m\u001b[0mprocessSubset\u001b[0m\u001b[0;34m(\u001b[0m\u001b[0mcombo\u001b[0m\u001b[0;34m)\u001b[0m\u001b[0;34m)\u001b[0m\u001b[0;34m\u001b[0m\u001b[0;34m\u001b[0m\u001b[0m\n\u001b[0m\u001b[1;32m      5\u001b[0m     \u001b[0mmodels\u001b[0m \u001b[0;34m=\u001b[0m \u001b[0mpd\u001b[0m\u001b[0;34m.\u001b[0m\u001b[0mDataFrame\u001b[0m\u001b[0;34m(\u001b[0m\u001b[0mresults\u001b[0m\u001b[0;34m)\u001b[0m\u001b[0;34m\u001b[0m\u001b[0;34m\u001b[0m\u001b[0m\n\u001b[1;32m      6\u001b[0m     \u001b[0mbest_model\u001b[0m \u001b[0;34m=\u001b[0m \u001b[0mmodels\u001b[0m\u001b[0;34m[\u001b[0m\u001b[0mmodels\u001b[0m\u001b[0;34m.\u001b[0m\u001b[0merror\u001b[0m\u001b[0;34m==\u001b[0m\u001b[0mmodels\u001b[0m\u001b[0;34m.\u001b[0m\u001b[0merror\u001b[0m\u001b[0;34m.\u001b[0m\u001b[0mmin\u001b[0m\u001b[0;34m(\u001b[0m\u001b[0;34m)\u001b[0m\u001b[0;34m]\u001b[0m\u001b[0;34m\u001b[0m\u001b[0;34m\u001b[0m\u001b[0m\n",
      "\u001b[0;32m/var/folders/nt/91ch_md14118b70m3yzl1t4c0000gn/T/ipykernel_11426/3022367580.py\u001b[0m in \u001b[0;36mprocessSubset\u001b[0;34m(feature_set)\u001b[0m\n\u001b[1;32m      2\u001b[0m     \u001b[0mX\u001b[0m \u001b[0;34m=\u001b[0m \u001b[0msm\u001b[0m\u001b[0;34m.\u001b[0m\u001b[0madd_constant\u001b[0m\u001b[0;34m(\u001b[0m\u001b[0mX2\u001b[0m\u001b[0;34m[\u001b[0m\u001b[0mlist\u001b[0m\u001b[0;34m(\u001b[0m\u001b[0mfeature_set\u001b[0m\u001b[0;34m)\u001b[0m\u001b[0;34m]\u001b[0m\u001b[0;34m)\u001b[0m\u001b[0;34m\u001b[0m\u001b[0;34m\u001b[0m\u001b[0m\n\u001b[1;32m      3\u001b[0m     \u001b[0mmodel\u001b[0m \u001b[0;34m=\u001b[0m \u001b[0mGradientBoostingClassifier\u001b[0m\u001b[0;34m(\u001b[0m\u001b[0;34m)\u001b[0m\u001b[0;34m\u001b[0m\u001b[0;34m\u001b[0m\u001b[0m\n\u001b[0;32m----> 4\u001b[0;31m     \u001b[0mclassification\u001b[0m \u001b[0;34m=\u001b[0m \u001b[0mmodel\u001b[0m\u001b[0;34m.\u001b[0m\u001b[0mfit\u001b[0m\u001b[0;34m(\u001b[0m\u001b[0mX\u001b[0m\u001b[0;34m,\u001b[0m\u001b[0my\u001b[0m\u001b[0;34m.\u001b[0m\u001b[0mvalues\u001b[0m\u001b[0;34m.\u001b[0m\u001b[0mravel\u001b[0m\u001b[0;34m(\u001b[0m\u001b[0;34m)\u001b[0m\u001b[0;34m)\u001b[0m\u001b[0;34m.\u001b[0m\u001b[0mfeature_names_in_\u001b[0m\u001b[0;34m\u001b[0m\u001b[0;34m\u001b[0m\u001b[0m\n\u001b[0m\u001b[1;32m      5\u001b[0m     \u001b[0mscore\u001b[0m \u001b[0;34m=\u001b[0m \u001b[0mcross_val_score\u001b[0m\u001b[0;34m(\u001b[0m\u001b[0mmodel\u001b[0m\u001b[0;34m,\u001b[0m\u001b[0mX\u001b[0m\u001b[0;34m,\u001b[0m \u001b[0my\u001b[0m\u001b[0;34m.\u001b[0m\u001b[0mvalues\u001b[0m\u001b[0;34m.\u001b[0m\u001b[0mravel\u001b[0m\u001b[0;34m(\u001b[0m\u001b[0;34m)\u001b[0m\u001b[0;34m,\u001b[0m \u001b[0mscoring\u001b[0m\u001b[0;34m=\u001b[0m\u001b[0;34m'accuracy'\u001b[0m\u001b[0;34m,\u001b[0m \u001b[0mcv\u001b[0m\u001b[0;34m=\u001b[0m\u001b[0mkfolds\u001b[0m\u001b[0;34m)\u001b[0m\u001b[0;34m\u001b[0m\u001b[0;34m\u001b[0m\u001b[0m\n\u001b[1;32m      6\u001b[0m     \u001b[0;32mreturn\u001b[0m \u001b[0;34m{\u001b[0m\u001b[0;34m\"error\"\u001b[0m\u001b[0;34m:\u001b[0m\u001b[0;36m1\u001b[0m\u001b[0;34m-\u001b[0m\u001b[0mnp\u001b[0m\u001b[0;34m.\u001b[0m\u001b[0mmean\u001b[0m\u001b[0;34m(\u001b[0m\u001b[0mscore\u001b[0m\u001b[0;34m)\u001b[0m\u001b[0;34m,\u001b[0m\u001b[0;34m\"model\"\u001b[0m\u001b[0;34m:\u001b[0m\u001b[0mclassification\u001b[0m\u001b[0;34m}\u001b[0m\u001b[0;34m\u001b[0m\u001b[0;34m\u001b[0m\u001b[0m\n",
      "\u001b[0;31mAttributeError\u001b[0m: 'GradientBoostingClassifier' object has no attribute 'feature_names_in_'"
     ]
    }
   ],
   "source": [
    "models = pd.DataFrame(columns=[\"R_squared\", \"model\"])\n",
    "for i in range(0,11):\n",
    "    models.loc[i] = getBest(i).iloc[0]"
   ]
  },
  {
   "cell_type": "code",
   "execution_count": 71,
   "id": "99a77a00",
   "metadata": {},
   "outputs": [
    {
     "data": {
      "text/html": [
       "<div>\n",
       "<style scoped>\n",
       "    .dataframe tbody tr th:only-of-type {\n",
       "        vertical-align: middle;\n",
       "    }\n",
       "\n",
       "    .dataframe tbody tr th {\n",
       "        vertical-align: top;\n",
       "    }\n",
       "\n",
       "    .dataframe thead th {\n",
       "        text-align: right;\n",
       "    }\n",
       "</style>\n",
       "<table border=\"1\" class=\"dataframe\">\n",
       "  <thead>\n",
       "    <tr style=\"text-align: right;\">\n",
       "      <th></th>\n",
       "      <th>R_squared</th>\n",
       "      <th>model</th>\n",
       "    </tr>\n",
       "  </thead>\n",
       "  <tbody>\n",
       "    <tr>\n",
       "      <th>0</th>\n",
       "      <td>-0.007597</td>\n",
       "      <td>{}</td>\n",
       "    </tr>\n",
       "    <tr>\n",
       "      <th>1</th>\n",
       "      <td>0.891717</td>\n",
       "      <td>{'proportion_sole': 0.0}</td>\n",
       "    </tr>\n",
       "    <tr>\n",
       "      <th>2</th>\n",
       "      <td>0.965680</td>\n",
       "      <td>{'proportion_sole': 0.0, 'proportion_growth': ...</td>\n",
       "    </tr>\n",
       "    <tr>\n",
       "      <th>3</th>\n",
       "      <td>0.991132</td>\n",
       "      <td>{'price_gap': 0.0, 'proportion_sole': -38.5116...</td>\n",
       "    </tr>\n",
       "    <tr>\n",
       "      <th>4</th>\n",
       "      <td>0.991584</td>\n",
       "      <td>{'tau': 0.0, 'price_gap': 1.029783564949191, '...</td>\n",
       "    </tr>\n",
       "    <tr>\n",
       "      <th>5</th>\n",
       "      <td>0.991742</td>\n",
       "      <td>{'S': 0.0, 'tau': 6.8627302158901795, 'proport...</td>\n",
       "    </tr>\n",
       "    <tr>\n",
       "      <th>6</th>\n",
       "      <td>0.991812</td>\n",
       "      <td>{'tau': 0.0, 'price_gap': 1.252885526695283, '...</td>\n",
       "    </tr>\n",
       "    <tr>\n",
       "      <th>7</th>\n",
       "      <td>0.991830</td>\n",
       "      <td>{'S': 0.0, 'K': -6.89765999342996, 'r': 21.755...</td>\n",
       "    </tr>\n",
       "    <tr>\n",
       "      <th>8</th>\n",
       "      <td>0.991828</td>\n",
       "      <td>{'S': 0.0, 'K': -7.077075519099766, 'r': 22.31...</td>\n",
       "    </tr>\n",
       "    <tr>\n",
       "      <th>9</th>\n",
       "      <td>0.991808</td>\n",
       "      <td>{'S': 0.0, 'K': -13.631287341730598, 'tau': 42...</td>\n",
       "    </tr>\n",
       "    <tr>\n",
       "      <th>10</th>\n",
       "      <td>0.991785</td>\n",
       "      <td>{'S': 0.0, 'K': -17.247896349030743, 'tau': 40...</td>\n",
       "    </tr>\n",
       "  </tbody>\n",
       "</table>\n",
       "</div>"
      ],
      "text/plain": [
       "    R_squared                                              model\n",
       "0   -0.007597                                                 {}\n",
       "1    0.891717                           {'proportion_sole': 0.0}\n",
       "2    0.965680  {'proportion_sole': 0.0, 'proportion_growth': ...\n",
       "3    0.991132  {'price_gap': 0.0, 'proportion_sole': -38.5116...\n",
       "4    0.991584  {'tau': 0.0, 'price_gap': 1.029783564949191, '...\n",
       "5    0.991742  {'S': 0.0, 'tau': 6.8627302158901795, 'proport...\n",
       "6    0.991812  {'tau': 0.0, 'price_gap': 1.252885526695283, '...\n",
       "7    0.991830  {'S': 0.0, 'K': -6.89765999342996, 'r': 21.755...\n",
       "8    0.991828  {'S': 0.0, 'K': -7.077075519099766, 'r': 22.31...\n",
       "9    0.991808  {'S': 0.0, 'K': -13.631287341730598, 'tau': 42...\n",
       "10   0.991785  {'S': 0.0, 'K': -17.247896349030743, 'tau': 40..."
      ]
     },
     "execution_count": 71,
     "metadata": {},
     "output_type": "execute_result"
    }
   ],
   "source": [
    "models"
   ]
  },
  {
   "cell_type": "code",
   "execution_count": 72,
   "id": "c84bcddc",
   "metadata": {},
   "outputs": [
    {
     "data": {
      "text/plain": [
       "['S',\n",
       " 'K',\n",
       " 'r',\n",
       " 'price_gap',\n",
       " 'proportion_sole',\n",
       " 'proportion_growth',\n",
       " 'price_rate']"
      ]
     },
     "execution_count": 72,
     "metadata": {},
     "output_type": "execute_result"
    }
   ],
   "source": [
    "final_features = list(models.loc[models['R_squared'].idxmax()]['model'].keys())\n",
    "final_features"
   ]
  },
  {
   "cell_type": "code",
   "execution_count": 73,
   "id": "aae7ae57",
   "metadata": {},
   "outputs": [
    {
     "name": "stdout",
     "output_type": "stream",
     "text": [
      "Linear Regression: \n",
      "\n",
      "Original dataset: r squared of 10-folds: [0.99213946 0.99022875 0.99181408 0.99072743 0.99080366 0.99052044\n",
      " 0.99211077 0.99301199 0.99323662 0.99370361] \n",
      " (mean r squared: 0.991829682211371 )\n"
     ]
    }
   ],
   "source": [
    "LR_model_final = LinearRegression()\n",
    "LR_cv_final = cross_val_score(LR_model_final, df_full[final_features], df_full['Value'], cv=kfolds_regresssion)\n",
    "\n",
    "print(\"Linear Regression: \\n\")\n",
    "print(\"Original dataset: r squared of 10-folds:\",LR_cv_final,\"\\n (mean r squared:\",np.mean(LR_cv_final),\")\")"
   ]
  },
  {
   "cell_type": "markdown",
   "id": "7c0de07d",
   "metadata": {},
   "source": [
    "# Predict testing set"
   ]
  },
  {
   "cell_type": "code",
   "execution_count": 74,
   "id": "2add181f",
   "metadata": {},
   "outputs": [
    {
     "data": {
      "text/html": [
       "<div>\n",
       "<style scoped>\n",
       "    .dataframe tbody tr th:only-of-type {\n",
       "        vertical-align: middle;\n",
       "    }\n",
       "\n",
       "    .dataframe tbody tr th {\n",
       "        vertical-align: top;\n",
       "    }\n",
       "\n",
       "    .dataframe thead th {\n",
       "        text-align: right;\n",
       "    }\n",
       "</style>\n",
       "<table border=\"1\" class=\"dataframe\">\n",
       "  <thead>\n",
       "    <tr style=\"text-align: right;\">\n",
       "      <th></th>\n",
       "      <th>S</th>\n",
       "      <th>K</th>\n",
       "      <th>tau</th>\n",
       "      <th>r</th>\n",
       "      <th>price_gap</th>\n",
       "      <th>proportion_sole</th>\n",
       "      <th>proportion_growth</th>\n",
       "      <th>price_rate</th>\n",
       "    </tr>\n",
       "  </thead>\n",
       "  <tbody>\n",
       "    <tr>\n",
       "      <th>0</th>\n",
       "      <td>-1.244577</td>\n",
       "      <td>0.824029</td>\n",
       "      <td>0.872239</td>\n",
       "      <td>2.301632</td>\n",
       "      <td>1.208221</td>\n",
       "      <td>-1.238708</td>\n",
       "      <td>-1.256997</td>\n",
       "      <td>0.539373</td>\n",
       "    </tr>\n",
       "    <tr>\n",
       "      <th>1</th>\n",
       "      <td>-1.111534</td>\n",
       "      <td>-0.858199</td>\n",
       "      <td>-0.203862</td>\n",
       "      <td>2.301632</td>\n",
       "      <td>-0.508466</td>\n",
       "      <td>0.483070</td>\n",
       "      <td>0.504319</td>\n",
       "      <td>-0.062840</td>\n",
       "    </tr>\n",
       "    <tr>\n",
       "      <th>2</th>\n",
       "      <td>-1.111534</td>\n",
       "      <td>-0.437642</td>\n",
       "      <td>-0.203862</td>\n",
       "      <td>2.301632</td>\n",
       "      <td>-0.073861</td>\n",
       "      <td>0.033662</td>\n",
       "      <td>0.060206</td>\n",
       "      <td>0.136069</td>\n",
       "    </tr>\n",
       "    <tr>\n",
       "      <th>3</th>\n",
       "      <td>-1.244577</td>\n",
       "      <td>-1.068477</td>\n",
       "      <td>0.872239</td>\n",
       "      <td>2.301632</td>\n",
       "      <td>-0.747500</td>\n",
       "      <td>0.670026</td>\n",
       "      <td>0.686039</td>\n",
       "      <td>-0.017035</td>\n",
       "    </tr>\n",
       "    <tr>\n",
       "      <th>4</th>\n",
       "      <td>-0.831002</td>\n",
       "      <td>-0.858199</td>\n",
       "      <td>-1.548988</td>\n",
       "      <td>2.301632</td>\n",
       "      <td>-0.519105</td>\n",
       "      <td>0.578638</td>\n",
       "      <td>0.597429</td>\n",
       "      <td>-1.040362</td>\n",
       "    </tr>\n",
       "  </tbody>\n",
       "</table>\n",
       "</div>"
      ],
      "text/plain": [
       "          S         K       tau         r  price_gap  proportion_sole  \\\n",
       "0 -1.244577  0.824029  0.872239  2.301632   1.208221        -1.238708   \n",
       "1 -1.111534 -0.858199 -0.203862  2.301632  -0.508466         0.483070   \n",
       "2 -1.111534 -0.437642 -0.203862  2.301632  -0.073861         0.033662   \n",
       "3 -1.244577 -1.068477  0.872239  2.301632  -0.747500         0.670026   \n",
       "4 -0.831002 -0.858199 -1.548988  2.301632  -0.519105         0.578638   \n",
       "\n",
       "   proportion_growth  price_rate  \n",
       "0          -1.256997    0.539373  \n",
       "1           0.504319   -0.062840  \n",
       "2           0.060206    0.136069  \n",
       "3           0.686039   -0.017035  \n",
       "4           0.597429   -1.040362  "
      ]
     },
     "execution_count": 74,
     "metadata": {},
     "output_type": "execute_result"
    }
   ],
   "source": [
    "df_test = pd.read_csv('option_test_wolabel.csv')\n",
    "\n",
    "df_test['price_gap'] = df_test['K']-df_test['S']*np.exp(df_test['tau']*df_test['r'])\n",
    "df_test['proportion_sole'] = df_test['S']/df_test['K']\n",
    "df_test['proportion_growth'] = np.log(df_test['S']/df_test['K'])\n",
    "df_test['price_rate'] = (df_test['K']-df_test['S'])/(df_test['r']*df_test['tau'])\n",
    "\n",
    "\n",
    "from sklearn.preprocessing import StandardScaler\n",
    "scaler = StandardScaler()\n",
    "df_test[['S', 'K', 'tau', 'r', 'price_gap','proportion_sole', 'proportion_growth','price_rate']] =\\\n",
    "scaler.fit_transform(df_test[['S', 'K', 'tau', 'r', 'price_gap','proportion_sole', 'proportion_growth','price_rate']])\n",
    "\n",
    "df_test.head()"
   ]
  },
  {
   "cell_type": "code",
   "execution_count": 75,
   "id": "f45e82b9",
   "metadata": {},
   "outputs": [
    {
     "data": {
      "text/plain": [
       "LinearRegression()"
      ]
     },
     "execution_count": 75,
     "metadata": {},
     "output_type": "execute_result"
    }
   ],
   "source": [
    "kfolds_regresssion = KFold(n_splits = 10, random_state = 2,shuffle =True)\n",
    "\n",
    "Final_regression_model = LinearRegression()\n",
    "Final_regression_model.fit(df_full[final_features], df_full['Value'])"
   ]
  },
  {
   "cell_type": "code",
   "execution_count": 76,
   "id": "fac426c2",
   "metadata": {},
   "outputs": [
    {
     "data": {
      "text/plain": [
       "0.992081007026109"
      ]
     },
     "execution_count": 76,
     "metadata": {},
     "output_type": "execute_result"
    }
   ],
   "source": [
    "# in-sample-R-squared\n",
    "Final_regression_model.score(df_full[final_features], df_full['Value'])"
   ]
  },
  {
   "cell_type": "code",
   "execution_count": 77,
   "id": "b2b3a00a",
   "metadata": {},
   "outputs": [
    {
     "data": {
      "text/html": [
       "<div>\n",
       "<style scoped>\n",
       "    .dataframe tbody tr th:only-of-type {\n",
       "        vertical-align: middle;\n",
       "    }\n",
       "\n",
       "    .dataframe tbody tr th {\n",
       "        vertical-align: top;\n",
       "    }\n",
       "\n",
       "    .dataframe thead th {\n",
       "        text-align: right;\n",
       "    }\n",
       "</style>\n",
       "<table border=\"1\" class=\"dataframe\">\n",
       "  <thead>\n",
       "    <tr style=\"text-align: right;\">\n",
       "      <th></th>\n",
       "      <th>Value</th>\n",
       "    </tr>\n",
       "  </thead>\n",
       "  <tbody>\n",
       "    <tr>\n",
       "      <th>0</th>\n",
       "      <td>2.522999</td>\n",
       "    </tr>\n",
       "    <tr>\n",
       "      <th>1</th>\n",
       "      <td>18.279939</td>\n",
       "    </tr>\n",
       "    <tr>\n",
       "      <th>2</th>\n",
       "      <td>11.662388</td>\n",
       "    </tr>\n",
       "    <tr>\n",
       "      <th>3</th>\n",
       "      <td>23.993997</td>\n",
       "    </tr>\n",
       "    <tr>\n",
       "      <th>4</th>\n",
       "      <td>16.770117</td>\n",
       "    </tr>\n",
       "    <tr>\n",
       "      <th>...</th>\n",
       "      <td>...</td>\n",
       "    </tr>\n",
       "    <tr>\n",
       "      <th>1115</th>\n",
       "      <td>13.411724</td>\n",
       "    </tr>\n",
       "    <tr>\n",
       "      <th>1116</th>\n",
       "      <td>0.163835</td>\n",
       "    </tr>\n",
       "    <tr>\n",
       "      <th>1117</th>\n",
       "      <td>1.037297</td>\n",
       "    </tr>\n",
       "    <tr>\n",
       "      <th>1118</th>\n",
       "      <td>23.736128</td>\n",
       "    </tr>\n",
       "    <tr>\n",
       "      <th>1119</th>\n",
       "      <td>16.721897</td>\n",
       "    </tr>\n",
       "  </tbody>\n",
       "</table>\n",
       "<p>1120 rows × 1 columns</p>\n",
       "</div>"
      ],
      "text/plain": [
       "          Value\n",
       "0      2.522999\n",
       "1     18.279939\n",
       "2     11.662388\n",
       "3     23.993997\n",
       "4     16.770117\n",
       "...         ...\n",
       "1115  13.411724\n",
       "1116   0.163835\n",
       "1117   1.037297\n",
       "1118  23.736128\n",
       "1119  16.721897\n",
       "\n",
       "[1120 rows x 1 columns]"
      ]
     },
     "execution_count": 77,
     "metadata": {},
     "output_type": "execute_result"
    }
   ],
   "source": [
    "# Predict testing dataset\n",
    "Value_predict = pd.DataFrame(Final_regression_model.predict(df_test[final_features]),columns=['Value'])\n",
    "Value_predict"
   ]
  },
  {
   "cell_type": "code",
   "execution_count": 78,
   "id": "9eb16074",
   "metadata": {},
   "outputs": [
    {
     "data": {
      "text/html": [
       "<div>\n",
       "<style scoped>\n",
       "    .dataframe tbody tr th:only-of-type {\n",
       "        vertical-align: middle;\n",
       "    }\n",
       "\n",
       "    .dataframe tbody tr th {\n",
       "        vertical-align: top;\n",
       "    }\n",
       "\n",
       "    .dataframe thead th {\n",
       "        text-align: right;\n",
       "    }\n",
       "</style>\n",
       "<table border=\"1\" class=\"dataframe\">\n",
       "  <thead>\n",
       "    <tr style=\"text-align: right;\">\n",
       "      <th></th>\n",
       "      <th>BS</th>\n",
       "    </tr>\n",
       "  </thead>\n",
       "  <tbody>\n",
       "    <tr>\n",
       "      <th>0</th>\n",
       "      <td>1</td>\n",
       "    </tr>\n",
       "    <tr>\n",
       "      <th>1</th>\n",
       "      <td>0</td>\n",
       "    </tr>\n",
       "    <tr>\n",
       "      <th>2</th>\n",
       "      <td>0</td>\n",
       "    </tr>\n",
       "    <tr>\n",
       "      <th>3</th>\n",
       "      <td>0</td>\n",
       "    </tr>\n",
       "    <tr>\n",
       "      <th>4</th>\n",
       "      <td>0</td>\n",
       "    </tr>\n",
       "    <tr>\n",
       "      <th>...</th>\n",
       "      <td>...</td>\n",
       "    </tr>\n",
       "    <tr>\n",
       "      <th>1115</th>\n",
       "      <td>0</td>\n",
       "    </tr>\n",
       "    <tr>\n",
       "      <th>1116</th>\n",
       "      <td>1</td>\n",
       "    </tr>\n",
       "    <tr>\n",
       "      <th>1117</th>\n",
       "      <td>1</td>\n",
       "    </tr>\n",
       "    <tr>\n",
       "      <th>1118</th>\n",
       "      <td>0</td>\n",
       "    </tr>\n",
       "    <tr>\n",
       "      <th>1119</th>\n",
       "      <td>0</td>\n",
       "    </tr>\n",
       "  </tbody>\n",
       "</table>\n",
       "<p>1120 rows × 1 columns</p>\n",
       "</div>"
      ],
      "text/plain": [
       "      BS\n",
       "0      1\n",
       "1      0\n",
       "2      0\n",
       "3      0\n",
       "4      0\n",
       "...   ..\n",
       "1115   0\n",
       "1116   1\n",
       "1117   1\n",
       "1118   0\n",
       "1119   0\n",
       "\n",
       "[1120 rows x 1 columns]"
      ]
     },
     "execution_count": 78,
     "metadata": {},
     "output_type": "execute_result"
    }
   ],
   "source": [
    "BS_predict = pd.read_csv('prediction_BS.csv')\n",
    "BS_predict"
   ]
  },
  {
   "cell_type": "code",
   "execution_count": 79,
   "id": "5ce5c6aa",
   "metadata": {},
   "outputs": [
    {
     "data": {
      "text/html": [
       "<div>\n",
       "<style scoped>\n",
       "    .dataframe tbody tr th:only-of-type {\n",
       "        vertical-align: middle;\n",
       "    }\n",
       "\n",
       "    .dataframe tbody tr th {\n",
       "        vertical-align: top;\n",
       "    }\n",
       "\n",
       "    .dataframe thead th {\n",
       "        text-align: right;\n",
       "    }\n",
       "</style>\n",
       "<table border=\"1\" class=\"dataframe\">\n",
       "  <thead>\n",
       "    <tr style=\"text-align: right;\">\n",
       "      <th></th>\n",
       "      <th>Value</th>\n",
       "      <th>BS</th>\n",
       "    </tr>\n",
       "  </thead>\n",
       "  <tbody>\n",
       "    <tr>\n",
       "      <th>0</th>\n",
       "      <td>2.522999</td>\n",
       "      <td>1</td>\n",
       "    </tr>\n",
       "    <tr>\n",
       "      <th>1</th>\n",
       "      <td>18.279939</td>\n",
       "      <td>0</td>\n",
       "    </tr>\n",
       "    <tr>\n",
       "      <th>2</th>\n",
       "      <td>11.662388</td>\n",
       "      <td>0</td>\n",
       "    </tr>\n",
       "    <tr>\n",
       "      <th>3</th>\n",
       "      <td>23.993997</td>\n",
       "      <td>0</td>\n",
       "    </tr>\n",
       "    <tr>\n",
       "      <th>4</th>\n",
       "      <td>16.770117</td>\n",
       "      <td>0</td>\n",
       "    </tr>\n",
       "    <tr>\n",
       "      <th>...</th>\n",
       "      <td>...</td>\n",
       "      <td>...</td>\n",
       "    </tr>\n",
       "    <tr>\n",
       "      <th>1115</th>\n",
       "      <td>13.411724</td>\n",
       "      <td>0</td>\n",
       "    </tr>\n",
       "    <tr>\n",
       "      <th>1116</th>\n",
       "      <td>0.163835</td>\n",
       "      <td>1</td>\n",
       "    </tr>\n",
       "    <tr>\n",
       "      <th>1117</th>\n",
       "      <td>1.037297</td>\n",
       "      <td>1</td>\n",
       "    </tr>\n",
       "    <tr>\n",
       "      <th>1118</th>\n",
       "      <td>23.736128</td>\n",
       "      <td>0</td>\n",
       "    </tr>\n",
       "    <tr>\n",
       "      <th>1119</th>\n",
       "      <td>16.721897</td>\n",
       "      <td>0</td>\n",
       "    </tr>\n",
       "  </tbody>\n",
       "</table>\n",
       "<p>1120 rows × 2 columns</p>\n",
       "</div>"
      ],
      "text/plain": [
       "          Value  BS\n",
       "0      2.522999   1\n",
       "1     18.279939   0\n",
       "2     11.662388   0\n",
       "3     23.993997   0\n",
       "4     16.770117   0\n",
       "...         ...  ..\n",
       "1115  13.411724   0\n",
       "1116   0.163835   1\n",
       "1117   1.037297   1\n",
       "1118  23.736128   0\n",
       "1119  16.721897   0\n",
       "\n",
       "[1120 rows x 2 columns]"
      ]
     },
     "execution_count": 79,
     "metadata": {},
     "output_type": "execute_result"
    }
   ],
   "source": [
    "final_predict = pd.concat([Value_predict,BS_predict],axis=1)\n",
    "\n",
    "final_predict.to_csv('Group_16_prediction.csv',index=False)\n",
    "final_predict"
   ]
  },
  {
   "cell_type": "markdown",
   "id": "4017f54b",
   "metadata": {},
   "source": [
    "## Random Forest Classfication\n"
   ]
  },
  {
   "cell_type": "code",
   "execution_count": 80,
   "id": "0abe4b4f",
   "metadata": {},
   "outputs": [],
   "source": [
    "from sklearn.model_selection import cross_val_score\n",
    "from sklearn.ensemble import RandomForestClassifier\n",
    "from sklearn.model_selection import StratifiedKFold"
   ]
  },
  {
   "cell_type": "code",
   "execution_count": 81,
   "id": "50eb5c9a",
   "metadata": {},
   "outputs": [
    {
     "name": "stdout",
     "output_type": "stream",
     "text": [
      "Accuracies of 10-folds df_original: [0.96428571 0.92857143 0.92261905 0.91071429 0.94047619 0.94047619\n",
      " 0.94642857 0.91071429 0.91616766 0.94011976] \n",
      "Mean Classification error df_original: 0.06794268605645848\n",
      "Accuracies of 10-folds df_full: [0.94642857 0.89285714 0.88690476 0.95238095 0.92857143 0.93452381\n",
      " 0.92261905 0.92857143 0.94610778 0.92814371]\n",
      "Mean Classification error df_full: 0.0732891360136868\n",
      "Accuracies of 10-folds df_avoidRepeat: [0.93452381 0.94047619 0.92857143 0.92857143 0.93452381 0.89285714\n",
      " 0.875      0.94047619 0.93413174 0.92215569]\n",
      "Mean Classification error df_avoidRepeat: 0.07687125748502976\n"
     ]
    }
   ],
   "source": [
    "# Cross Validation\n",
    "\n",
    "kfolds = StratifiedKFold(n_splits = 10, shuffle = True)\n",
    "\n",
    "data=['df_original', 'df_full', 'df_avoidRepeat']\n",
    "for i in data:\n",
    "    rf_model1 = RandomForestClassifier(criterion=\"entropy\", n_estimators=50, max_depth=30, max_features='log2')\n",
    "    if i =='df_original':\n",
    "        rf_cv= cross_val_score(rf_model1,df_original.iloc[:,1:5], df_original['binary_BS'], cv=kfolds )\n",
    "        print(f\"Accuracies of 10-folds {i}: {rf_cv} \")\n",
    "        print(f\"Mean Classification error {i}: {1-np.mean(rf_cv)}\")\n",
    "    elif i== 'df_full':\n",
    "        rf_cv= cross_val_score(rf_model1,df_full.iloc[:,np.r_[1:5,7:13]], df_full['binary_BS'], cv=kfolds )\n",
    "        print(f\"Accuracies of 10-folds {i}: {rf_cv}\")\n",
    "        print(f\"Mean Classification error {i}: {1-np.mean(rf_cv)}\")\n",
    "    else:\n",
    "        rf_cv= cross_val_score(rf_model1,df_avoidRepeat.iloc[:,np.r_[1:5,7:12]], df_avoidRepeat['binary_BS'], cv=kfolds )\n",
    "        print(f\"Accuracies of 10-folds {i}: {rf_cv}\")\n",
    "        print(f\"Mean Classification error {i}: {1-np.mean(rf_cv)}\")"
   ]
  },
  {
   "cell_type": "code",
   "execution_count": 82,
   "id": "574cb8d0",
   "metadata": {},
   "outputs": [
    {
     "name": "stdout",
     "output_type": "stream",
     "text": [
      "Accuracies of 10-folds df_original: [0.86904762 0.94047619 0.89285714 0.94642857 0.92261905 0.86904762\n",
      " 0.91666667 0.93452381 0.90419162 0.93413174] \n",
      "Mean Classification error df_original: 0.08700099800399186\n",
      "Accuracies of 10-folds df_full: [0.89285714 0.96428571 0.91666667 0.89880952 0.94642857 0.91071429\n",
      " 0.91071429 0.91071429 0.94011976 0.91616766]\n",
      "Mean Classification error df_full: 0.07925220986598236\n",
      "Accuracies of 10-folds df_avoidRepeat: [0.91666667 0.9047619  0.92857143 0.91071429 0.94047619 0.91666667\n",
      " 0.88095238 0.86904762 0.92814371 0.93413174]\n",
      "Mean Classification error df_avoidRepeat: 0.08698674080410596\n"
     ]
    }
   ],
   "source": [
    "\n",
    "kfolds = StratifiedKFold(n_splits = 10, shuffle = True)\n",
    "\n",
    "data=['df_original', 'df_full', 'df_avoidRepeat']\n",
    "for i in data:\n",
    "    rf_model2 = RandomForestClassifier(criterion=\"gini\", n_estimators=6, max_depth=5, max_features='log2')\n",
    "    if i =='df_original':\n",
    "        rf_cv= cross_val_score(rf_model2,df_original.iloc[:,1:5], df_original['binary_BS'], cv=kfolds )\n",
    "        print(f\"Accuracies of 10-folds {i}: {rf_cv} \")\n",
    "        print(f\"Mean Classification error {i}: {1-np.mean(rf_cv)}\")\n",
    "    elif i== 'df_full':\n",
    "        rf_cv= cross_val_score(rf_model2,df_full.iloc[:,np.r_[1:5,7:13]], df_full['binary_BS'], cv=kfolds )\n",
    "        print(f\"Accuracies of 10-folds {i}: {rf_cv}\")\n",
    "        print(f\"Mean Classification error {i}: {1-np.mean(rf_cv)}\")\n",
    "    else:\n",
    "        rf_cv= cross_val_score(rf_model2,df_avoidRepeat.iloc[:,np.r_[1:5,7:12]], df_avoidRepeat['binary_BS'], cv=kfolds )\n",
    "        print(f\"Accuracies of 10-folds {i}: {rf_cv}\")\n",
    "        print(f\"Mean Classification error {i}: {1-np.mean(rf_cv)}\")"
   ]
  },
  {
   "cell_type": "markdown",
   "id": "393b4367",
   "metadata": {},
   "source": [
    "## Bayes Classification "
   ]
  },
  {
   "cell_type": "code",
   "execution_count": 83,
   "id": "1cfb0ce3",
   "metadata": {},
   "outputs": [
    {
     "name": "stdout",
     "output_type": "stream",
     "text": [
      "Accuracies of 10-folds df_original:[0.88095238 0.89880952 0.86904762 0.85119048 0.88095238 0.86904762\n",
      " 0.86309524 0.91071429 0.91017964 0.86227545] \n",
      "Mean Classification error df_original: 0.12037353863701161\n",
      "Accuracies of 10-folds df_full:[0.92261905 0.89285714 0.93452381 0.9047619  0.94047619 0.85714286\n",
      " 0.9047619  0.9047619  0.92215569 0.89820359] \n",
      "Mean Classification error df_full: 0.09177359566581134\n",
      "Accuracies of 10-folds df_avoidRepeat: [0.92261905 0.94047619 0.9047619  0.92857143 0.91666667 0.92857143\n",
      " 0.94047619 0.91071429 0.91017964 0.97005988]\n",
      "Mean Classification error df_avoidRepeat: 0.07269033361847721\n"
     ]
    }
   ],
   "source": [
    "from sklearn.naive_bayes import GaussianNB\n",
    "\n",
    "kfolds = StratifiedKFold(n_splits = 10, shuffle = True)\n",
    "\n",
    "data=['df_original', 'df_full', 'df_avoidRepeat']\n",
    "for i in data:\n",
    "    bayes_model1 = GaussianNB(var_smoothing=1e-9)\n",
    "    if i =='df_original':\n",
    "        bayes_cv= cross_val_score(bayes_model1,df_original.iloc[:,1:5], df_original['binary_BS'], cv=kfolds )\n",
    "        print(f\"Accuracies of 10-folds {i}:{bayes_cv} \")\n",
    "        print(f\"Mean Classification error {i}: {1-np.mean(bayes_cv)}\")\n",
    "    elif i== 'df_full':\n",
    "        bayes_cv= cross_val_score(bayes_model1,df_full.iloc[:,np.r_[1:5,7:13]], df_full['binary_BS'], cv=kfolds )\n",
    "        print(f\"Accuracies of 10-folds {i}:{bayes_cv} \")\n",
    "        print(f\"Mean Classification error {i}: {1-np.mean(bayes_cv)}\")\n",
    "    else: \n",
    "        bayes_cv= cross_val_score(rf_model1,df_avoidRepeat.iloc[:,np.r_[1:5,7:12]], df_avoidRepeat['binary_BS'], cv=kfolds )\n",
    "        print(f\"Accuracies of 10-folds {i}: {bayes_cv}\")\n",
    "        print(f\"Mean Classification error {i}: {1-np.mean(bayes_cv)}\")"
   ]
  },
  {
   "cell_type": "code",
   "execution_count": 84,
   "id": "a204c0b5",
   "metadata": {},
   "outputs": [
    {
     "name": "stdout",
     "output_type": "stream",
     "text": [
      "Accuracies of 10-folds df_original:[0.875      0.91666667 0.85714286 0.88690476 0.91071429 0.82142857\n",
      " 0.875      0.88690476 0.91616766 0.84431138] \n",
      "Mean Classification error df_original: 0.1209759053321926\n",
      "Accuracies of 10-folds df_full:[0.9047619  0.94047619 0.88690476 0.89880952 0.92261905 0.91071429\n",
      " 0.91071429 0.88690476 0.88622754 0.92814371] \n",
      "Mean Classification error df_full: 0.09237239806102071\n",
      "Accuracies of 10-folds df_avoidRepeat: [0.91666667 0.91071429 0.91666667 0.91666667 0.92261905 0.91666667\n",
      " 0.91666667 0.94642857 0.88023952 0.91616766]\n",
      "Mean Classification error df_avoidRepeat: 0.0840497576276018\n"
     ]
    }
   ],
   "source": [
    "\n",
    "data=['df_original', 'df_full', 'df_avoidRepeat']\n",
    "for i in data:\n",
    "    bayes_model2 = GaussianNB(var_smoothing=1e-1)\n",
    "    if i =='df_original':\n",
    "        bayes_cv= cross_val_score(bayes_model2,df_original.iloc[:,1:5], df_original['binary_BS'], cv=kfolds )\n",
    "        print(f\"Accuracies of 10-folds {i}:{bayes_cv} \")\n",
    "        print(f\"Mean Classification error {i}: {1-np.mean(bayes_cv)}\")\n",
    "    elif i== 'df_full':\n",
    "        bayes_cv= cross_val_score(bayes_model2,df_full.iloc[:,np.r_[1:5,7:13]], df_full['binary_BS'], cv=kfolds )\n",
    "        print(f\"Accuracies of 10-folds {i}:{bayes_cv} \")\n",
    "        print(f\"Mean Classification error {i}: {1-np.mean(bayes_cv)}\")\n",
    "    else: \n",
    "        bayes_cv= cross_val_score(rf_model2,df_avoidRepeat.iloc[:,np.r_[1:5,7:12]], df_avoidRepeat['binary_BS'], cv=kfolds )\n",
    "        print(f\"Accuracies of 10-folds {i}: {bayes_cv}\")\n",
    "        print(f\"Mean Classification error {i}: {1-np.mean(bayes_cv)}\")"
   ]
  },
  {
   "cell_type": "markdown",
   "id": "1adc6eed",
   "metadata": {},
   "source": [
    "# Decision Tree Classification"
   ]
  },
  {
   "cell_type": "code",
   "execution_count": 85,
   "id": "6daf35dd",
   "metadata": {},
   "outputs": [],
   "source": [
    "from sklearn.tree import DecisionTreeClassifier # Import Decision Tree Classifier\n",
    "from sklearn.model_selection import train_test_split # Import train_test_split function\n",
    "from sklearn import metrics #Import scikit-learn metrics module for accuracy calculation\n",
    "from sklearn.model_selection import KFold, StratifiedKFold, cross_val_score\n",
    "from sklearn import linear_model, tree, ensemble\n",
    "from sklearn.preprocessing import StandardScaler\n",
    "from sklearn.neighbors import KNeighborsClassifier\n",
    "from sklearn.metrics import accuracy_score\n",
    "\n"
   ]
  },
  {
   "cell_type": "code",
   "execution_count": 86,
   "id": "ead354a6",
   "metadata": {},
   "outputs": [],
   "source": [
    "X = df_original[['S', 'K', 'tau', 'r']]\n",
    "y = df_original['binary_BS']"
   ]
  },
  {
   "cell_type": "code",
   "execution_count": 87,
   "id": "c5970281",
   "metadata": {
    "scrolled": true
   },
   "outputs": [
    {
     "name": "stdout",
     "output_type": "stream",
     "text": [
      "Accuracies of 10-folds df_original: [0.91666667 0.9047619  0.89880952 0.88095238 0.91071429 0.89880952\n",
      " 0.91071429 0.92261905 0.95209581 0.92814371] \n",
      "Mean Classification error df_original: 0.08757128599942965\n",
      "Accuracies of 10-folds df_full: [0.875      0.92261905 0.92857143 0.88690476 0.91666667 0.91071429\n",
      " 0.95238095 0.875      0.89820359 0.93413174]\n",
      "Mean Classification error df_full: 0.08998075278015405\n",
      "Accuracies of 10-folds df_avoidRepeat: [0.92261905 0.91666667 0.88690476 0.92261905 0.88690476 0.91071429\n",
      " 0.94047619 0.89285714 0.8742515  0.91017964]\n",
      "Mean Classification error df_avoidRepeat: 0.09358069575135453\n"
     ]
    }
   ],
   "source": [
    "kfolds = StratifiedKFold(n_splits = 10, shuffle = True)\n",
    "\n",
    "data=['df_original', 'df_full', 'df_avoidRepeat']\n",
    "for i in data:\n",
    "    dt_model1 = DecisionTreeClassifier(criterion=\"entropy\", splitter = 'best', max_depth=6, random_state=42)\n",
    "    if i =='df_original':\n",
    "        dt_cv= cross_val_score(dt_model1,df_original.iloc[:,1:5], df_original['binary_BS'], cv=kfolds )\n",
    "        print(f\"Accuracies of 10-folds {i}: {dt_cv} \")\n",
    "        print(f\"Mean Classification error {i}: {1-np.mean(dt_cv)}\")\n",
    "    elif i== 'df_full':\n",
    "        dt_cv= cross_val_score(dt_model1,df_full.iloc[:,np.r_[1:5,7:13]], df_full['binary_BS'], cv=kfolds )\n",
    "        print(f\"Accuracies of 10-folds {i}: {dt_cv}\")\n",
    "        print(f\"Mean Classification error {i}: {1-np.mean(dt_cv)}\")\n",
    "    else:\n",
    "        dt_cv= cross_val_score(dt_model1,df_avoidRepeat.iloc[:,np.r_[1:5,7:12]], df_avoidRepeat['binary_BS'], cv=kfolds )\n",
    "        print(f\"Accuracies of 10-folds {i}: {dt_cv}\")\n",
    "        print(f\"Mean Classification error {i}: {1-np.mean(dt_cv)}\")"
   ]
  },
  {
   "cell_type": "code",
   "execution_count": 88,
   "id": "c7ea32b1",
   "metadata": {},
   "outputs": [
    {
     "name": "stdout",
     "output_type": "stream",
     "text": [
      "Accuracies of 10-folds df_original: [0.94642857 0.88690476 0.9047619  0.91071429 0.93452381 0.91666667\n",
      " 0.9047619  0.92857143 0.91616766 0.88622754] \n",
      "Mean Classification error df_original: 0.0864271457085829\n",
      "Accuracies of 10-folds df_full: [0.86904762 0.86309524 0.92261905 0.92857143 0.91666667 0.92857143\n",
      " 0.89880952 0.91071429 0.91616766 0.93413174]\n",
      "Mean Classification error df_full: 0.09116053607071561\n",
      "Accuracies of 10-folds df_avoidRepeat: [0.92261905 0.91071429 0.91071429 0.91071429 0.93452381 0.9047619\n",
      " 0.93452381 0.92857143 0.8742515  0.92215569]\n",
      "Mean Classification error df_avoidRepeat: 0.0846449957228399\n"
     ]
    }
   ],
   "source": [
    "data=['df_original', 'df_full', 'df_avoidRepeat']\n",
    "for i in data:\n",
    "    dt_model2 = DecisionTreeClassifier(criterion=\"gini\", splitter = 'best', max_depth=15, random_state=42)\n",
    "    if i =='df_original':\n",
    "        dt_cv= cross_val_score(dt_model2,df_original.iloc[:,1:5], df_original['binary_BS'], cv=kfolds )\n",
    "        print(f\"Accuracies of 10-folds {i}: {dt_cv} \")\n",
    "        print(f\"Mean Classification error {i}: {1-np.mean(dt_cv)}\")\n",
    "    elif i== 'df_full':\n",
    "        dt_cv= cross_val_score(dt_model2,df_full.iloc[:,np.r_[1:5,7:13]], df_full['binary_BS'], cv=kfolds )\n",
    "        print(f\"Accuracies of 10-folds {i}: {dt_cv}\")\n",
    "        print(f\"Mean Classification error {i}: {1-np.mean(dt_cv)}\")\n",
    "    else:\n",
    "        dt_cv= cross_val_score(dt_model2,df_avoidRepeat.iloc[:,np.r_[1:5,7:12]], df_avoidRepeat['binary_BS'], cv=kfolds )\n",
    "        print(f\"Accuracies of 10-folds {i}: {dt_cv}\")\n",
    "        print(f\"Mean Classification error {i}: {1-np.mean(dt_cv)}\")"
   ]
  },
  {
   "cell_type": "markdown",
   "id": "2e943c96",
   "metadata": {},
   "source": [
    "## K-Nearest Neighbors (KNN) Classification"
   ]
  },
  {
   "cell_type": "code",
   "execution_count": 89,
   "id": "295e8167",
   "metadata": {},
   "outputs": [
    {
     "name": "stdout",
     "output_type": "stream",
     "text": [
      "Accuracies of 10-folds df_original: [0.89880952 0.89285714 0.93452381 0.94047619 0.97619048 0.91666667\n",
      " 0.92261905 0.91071429 0.88622754 0.92215569] \n",
      "Mean Classification error df_original: 0.07987596236099215\n",
      "Accuracies of 10-folds df_full: [0.94047619 0.91666667 0.93452381 0.94047619 0.94047619 0.94642857\n",
      " 0.91071429 0.93452381 0.89221557 0.91616766]\n",
      "Mean Classification error df_full: 0.07273310521813525\n",
      "Accuracies of 10-folds df_avoidRepeat: [0.93452381 0.91071429 0.93452381 0.94047619 0.94047619 0.95238095\n",
      " 0.91071429 0.92857143 0.89820359 0.92215569]\n",
      "Mean Classification error df_avoidRepeat: 0.07272597661819213\n"
     ]
    }
   ],
   "source": [
    "kfolds = StratifiedKFold(n_splits = 10, shuffle = True, random_state=42)\n",
    "\n",
    "data=['df_original', 'df_full', 'df_avoidRepeat']\n",
    "for i in data:\n",
    "    KNN_model1 = KNeighborsClassifier(n_neighbors=5)\n",
    "    if i =='df_original':\n",
    "        KNN_cv= cross_val_score(KNN_model1,df_original.iloc[:,1:5], df_original['binary_BS'], cv=kfolds )\n",
    "        print(f\"Accuracies of 10-folds {i}: {KNN_cv} \")\n",
    "        print(f\"Mean Classification error {i}: {1-np.mean(KNN_cv)}\")\n",
    "    elif i== 'df_full':\n",
    "        KNN_cv= cross_val_score(KNN_model1,df_full.iloc[:,np.r_[1:5,7:13]], df_full['binary_BS'], cv=kfolds )\n",
    "        print(f\"Accuracies of 10-folds {i}: {KNN_cv}\")\n",
    "        print(f\"Mean Classification error {i}: {1-np.mean(KNN_cv)}\")\n",
    "    else:\n",
    "        KNN_cv= cross_val_score(KNN_model1,df_avoidRepeat.iloc[:,np.r_[1:5,7:12]], df_avoidRepeat['binary_BS'], cv=kfolds )\n",
    "        print(f\"Accuracies of 10-folds {i}: {KNN_cv}\")\n",
    "        print(f\"Mean Classification error {i}: {1-np.mean(KNN_cv)}\")"
   ]
  },
  {
   "cell_type": "code",
   "execution_count": 90,
   "id": "19b919a2",
   "metadata": {},
   "outputs": [
    {
     "name": "stdout",
     "output_type": "stream",
     "text": [
      "Accuracies of 10-folds df_original: [0.91071429 0.91666667 0.92261905 0.94047619 0.95833333 0.92857143\n",
      " 0.92261905 0.91666667 0.89221557 0.91616766] \n",
      "Mean Classification error df_original: 0.07749500998004\n",
      "Accuracies of 10-folds df_full: [0.93452381 0.93452381 0.92261905 0.94642857 0.94047619 0.94642857\n",
      " 0.92261905 0.94047619 0.88023952 0.89820359]\n",
      "Mean Classification error df_full: 0.07334616481323075\n",
      "Accuracies of 10-folds df_avoidRepeat: [0.93452381 0.94047619 0.92261905 0.94642857 0.94642857 0.94047619\n",
      " 0.92261905 0.94047619 0.88622754 0.90419162]\n",
      "Mean Classification error df_avoidRepeat: 0.07155332192757358\n"
     ]
    }
   ],
   "source": [
    "kfolds = StratifiedKFold(n_splits = 10, shuffle = True, random_state=42)\n",
    "\n",
    "data=['df_original', 'df_full', 'df_avoidRepeat']\n",
    "for i in data:\n",
    "    KNN_model2 = KNeighborsClassifier(n_neighbors=10, algorithm='auto', leaf_size=20)\n",
    "    if i =='df_original':\n",
    "        KNN_cv= cross_val_score(KNN_model2,df_original.iloc[:,1:5], df_original['binary_BS'], cv=kfolds )\n",
    "        print(f\"Accuracies of 10-folds {i}: {KNN_cv} \")\n",
    "        print(f\"Mean Classification error {i}: {1-np.mean(KNN_cv)}\")\n",
    "    elif i== 'df_full':\n",
    "        KNN_cv= cross_val_score(KNN_model2,df_full.iloc[:,np.r_[1:5,7:13]], df_full['binary_BS'], cv=kfolds )\n",
    "        print(f\"Accuracies of 10-folds {i}: {KNN_cv}\")\n",
    "        print(f\"Mean Classification error {i}: {1-np.mean(KNN_cv)}\")\n",
    "    else:\n",
    "        KNN_cv= cross_val_score(KNN_model2,df_avoidRepeat.iloc[:,np.r_[1:5,7:12]], df_avoidRepeat['binary_BS'], cv=kfolds )\n",
    "        print(f\"Accuracies of 10-folds {i}: {KNN_cv}\")\n",
    "        print(f\"Mean Classification error {i}: {1-np.mean(KNN_cv)}\")"
   ]
  },
  {
   "cell_type": "markdown",
   "id": "75b03065",
   "metadata": {},
   "source": [
    "## Logistic Regression"
   ]
  },
  {
   "cell_type": "code",
   "execution_count": 91,
   "id": "9afe92c7",
   "metadata": {},
   "outputs": [],
   "source": [
    "from sklearn.linear_model import LogisticRegression\n"
   ]
  },
  {
   "cell_type": "code",
   "execution_count": 92,
   "id": "1bd33687",
   "metadata": {},
   "outputs": [
    {
     "name": "stdout",
     "output_type": "stream",
     "text": [
      "Accuracies of 10-folds df_original: [0.9047619  0.95238095 0.88690476 0.95833333 0.91071429 0.9047619\n",
      " 0.92857143 0.92261905 0.88622754 0.90419162] \n",
      "Mean Classification error df_original: 0.08405332192757342\n",
      "Accuracies of 10-folds df_full: [0.91666667 0.95238095 0.875      0.96428571 0.94047619 0.91666667\n",
      " 0.94642857 0.92857143 0.86227545 0.91017964]\n",
      "Mean Classification error df_full: 0.07870687197034498\n",
      "Accuracies of 10-folds df_avoidRepeat: [0.92261905 0.95238095 0.89285714 0.96428571 0.93452381 0.9047619\n",
      " 0.94642857 0.92857143 0.8742515  0.91017964]\n",
      "Mean Classification error df_avoidRepeat: 0.07691402908468792\n"
     ]
    }
   ],
   "source": [
    "kfolds=StratifiedKFold(n_splits=10,random_state=1, shuffle=True)\n",
    "\n",
    "data=['df_original', 'df_full', 'df_avoidRepeat']\n",
    "for i in data:\n",
    "    logistic_model1= LogisticRegression(penalty=\"none\",C=1,solver= \"newton-cg\",intercept_scaling=2,max_iter=1000)\n",
    "    if i =='df_original':\n",
    "        loR_cv= cross_val_score(logistic_model1,df_original.iloc[:,1:5], df_original['binary_BS'], cv=kfolds )\n",
    "        print(f\"Accuracies of 10-folds {i}: {loR_cv} \")\n",
    "        print(f\"Mean Classification error {i}: {1-np.mean(loR_cv)}\")\n",
    "    elif i== 'df_full':\n",
    "        loR_cv= cross_val_score(logistic_model1,df_full.iloc[:,np.r_[1:5,7:13]], df_full['binary_BS'], cv=kfolds )\n",
    "        print(f\"Accuracies of 10-folds {i}: {loR_cv}\")\n",
    "        print(f\"Mean Classification error {i}: {1-np.mean(loR_cv)}\")\n",
    "    else:\n",
    "        loR_cv= cross_val_score(logistic_model1,df_avoidRepeat.iloc[:,np.r_[1:5,7:12]], df_avoidRepeat['binary_BS'], cv=kfolds )\n",
    "        print(f\"Accuracies of 10-folds {i}: {loR_cv}\")\n",
    "        print(f\"Mean Classification error {i}: {1-np.mean(loR_cv)}\")\n",
    "        \n",
    "        "
   ]
  },
  {
   "cell_type": "code",
   "execution_count": 93,
   "id": "bcf8aa2b",
   "metadata": {},
   "outputs": [
    {
     "name": "stdout",
     "output_type": "stream",
     "text": [
      "Accuracies of 10-folds df_original: [0.9047619  0.95238095 0.88690476 0.95833333 0.9047619  0.9047619\n",
      " 0.92857143 0.92261905 0.88622754 0.90419162] \n",
      "Mean Classification error df_original: 0.08464856002281151\n",
      "Accuracies of 10-folds df_full: [0.9047619  0.95238095 0.88690476 0.95833333 0.9047619  0.9047619\n",
      " 0.92857143 0.92261905 0.88622754 0.90419162]\n",
      "Mean Classification error df_full: 0.08464856002281151\n",
      "Accuracies of 10-folds df_avoidRepeat: [0.9047619  0.95238095 0.88690476 0.95833333 0.9047619  0.9047619\n",
      " 0.92857143 0.92261905 0.88622754 0.90419162]\n",
      "Mean Classification error df_avoidRepeat: 0.08464856002281151\n"
     ]
    }
   ],
   "source": [
    "kfolds=StratifiedKFold(n_splits=10,random_state=1, shuffle=True)\n",
    "\n",
    "data=['df_original', 'df_full', 'df_avoidRepeat']\n",
    "for i in data:\n",
    "    logistic_model2 = LogisticRegression(penalty=\"l2\",C=2,dual= True,solver= \"liblinear\",max_iter=10000)\n",
    "    if i =='df_original':\n",
    "        loR_cv= cross_val_score(logistic_model2,df_original.iloc[:,1:5], df_original['binary_BS'], cv=kfolds )\n",
    "        print(f\"Accuracies of 10-folds {i}: {loR_cv} \")\n",
    "        print(f\"Mean Classification error {i}: {1-np.mean(loR_cv)}\")\n",
    "    elif i== 'df_full':\n",
    "        loR_cv= cross_val_score(logistic_model2,df_full.iloc[:,np.r_[1:5,7:13]], df_full['binary_BS'], cv=kfolds )\n",
    "        print(f\"Accuracies of 10-folds {i}: {loR_cv}\")\n",
    "        print(f\"Mean Classification error {i}: {1-np.mean(loR_cv)}\")\n",
    "    else:\n",
    "        loR_cv= cross_val_score(logistic_model2,df_avoidRepeat.iloc[:,np.r_[1:5,7:12]], df_avoidRepeat['binary_BS'], cv=kfolds )\n",
    "        print(f\"Accuracies of 10-folds {i}: {loR_cv}\")\n",
    "        print(f\"Mean Classification error {i}: {1-np.mean(loR_cv)}\")\n",
    "        "
   ]
  },
  {
   "cell_type": "markdown",
   "id": "e6267dab",
   "metadata": {},
   "source": [
    "## Boosted Tree Classification"
   ]
  },
  {
   "cell_type": "code",
   "execution_count": 94,
   "id": "a712ef93",
   "metadata": {},
   "outputs": [],
   "source": [
    "from sklearn.model_selection import train_test_split\n",
    "from sklearn.ensemble import GradientBoostingClassifier\n",
    "from sklearn.model_selection import GridSearchCV\n",
    "from sklearn.neural_network import MLPClassifier"
   ]
  },
  {
   "cell_type": "code",
   "execution_count": 95,
   "id": "3e2eef6e",
   "metadata": {},
   "outputs": [],
   "source": [
    "kfolds = StratifiedKFold(n_splits = 10, shuffle = True)"
   ]
  },
  {
   "cell_type": "code",
   "execution_count": 96,
   "id": "25cc3523",
   "metadata": {},
   "outputs": [],
   "source": [
    "y = pd.DataFrame(df_original.loc[:,'binary_BS'])\n",
    "X1 = pd.DataFrame(df_original.iloc[:,1:5])\n",
    "X2 = df_full.drop(columns = ['Value', 'BS','binary_BS'])\n",
    "X3 = df_avoidRpeat.drop(columns = ['Value', 'BS', 'binary_BS'])"
   ]
  },
  {
   "cell_type": "code",
   "execution_count": 97,
   "id": "e07a1476",
   "metadata": {},
   "outputs": [],
   "source": [
    "model = GradientBoostingClassifier()"
   ]
  },
  {
   "cell_type": "code",
   "execution_count": 98,
   "id": "5bdfbaa8",
   "metadata": {},
   "outputs": [
    {
     "name": "stdout",
     "output_type": "stream",
     "text": [
      "Boosted Tree: \n",
      "\n",
      "accuracies of 10-folds: [0.93452381 0.95238095 0.92857143 0.94047619 0.94047619 0.91071429\n",
      " 0.93452381 0.91666667 0.94610778 0.94011976] (mean classification error: 0.06554391217564848 )\n"
     ]
    }
   ],
   "source": [
    "score1 = cross_val_score(model, X1, y.values.ravel(), scoring='accuracy', cv=kfolds)\n",
    "print(\"Boosted Tree: \\n\")\n",
    "print(\"accuracies of 10-folds:\",score1,\"(mean classification error:\",1-np.mean(score1),\")\")"
   ]
  },
  {
   "cell_type": "code",
   "execution_count": 99,
   "id": "ce940e66",
   "metadata": {},
   "outputs": [
    {
     "name": "stdout",
     "output_type": "stream",
     "text": [
      "Boosted Tree: \n",
      "\n",
      "accuracies of 10-folds: [0.94642857 0.91666667 0.91666667 0.94642857 0.92857143 0.89880952\n",
      " 0.92261905 0.91666667 0.93413174 0.94011976] (mean classification error: 0.0732891360136868 )\n"
     ]
    }
   ],
   "source": [
    "score2 = cross_val_score(model, X2, y.values.ravel(), scoring='accuracy', cv=kfolds)\n",
    "print(\"Boosted Tree: \\n\")\n",
    "print(\"accuracies of 10-folds:\",score2,\"(mean classification error:\",1-np.mean(score2),\")\")"
   ]
  },
  {
   "cell_type": "code",
   "execution_count": 100,
   "id": "52103c0b",
   "metadata": {},
   "outputs": [
    {
     "name": "stdout",
     "output_type": "stream",
     "text": [
      "Boosted Tree: \n",
      "\n",
      "accuracies of 10-folds: [0.92857143 0.92261905 0.94047619 0.95238095 0.91071429 0.91071429\n",
      " 0.96428571 0.89880952 0.88622754 0.91017964] (mean classification error: 0.077502138579983 )\n"
     ]
    }
   ],
   "source": [
    "score3 = cross_val_score(model, X3, y.values.ravel(), scoring='accuracy', cv=kfolds)\n",
    "print(\"Boosted Tree: \\n\")\n",
    "print(\"accuracies of 10-folds:\",score3,\"(mean classification error:\",1-np.mean(score3),\")\")"
   ]
  },
  {
   "cell_type": "markdown",
   "id": "a04f74ca",
   "metadata": {},
   "source": [
    "#### Best Subset"
   ]
  },
  {
   "cell_type": "code",
   "execution_count": 101,
   "id": "869e8ee6",
   "metadata": {},
   "outputs": [],
   "source": [
    "def processSubset(feature_set):\n",
    "    X = sm.add_constant(X2[list(feature_set)])\n",
    "    model = GradientBoostingClassifier()\n",
    "    classification = model.fit(X,y.values.ravel()).feature_names_in_\n",
    "    score = cross_val_score(model,X, y.values.ravel(), scoring='accuracy', cv=kfolds)\n",
    "    return {\"error\":1-np.mean(score),\"model\":classification}"
   ]
  },
  {
   "cell_type": "code",
   "execution_count": 102,
   "id": "3eb5c40e",
   "metadata": {},
   "outputs": [],
   "source": [
    "def getBest(k):\n",
    "    results = []\n",
    "    for combo in itertools.combinations(X2.columns, k):\n",
    "        results.append(processSubset(combo))\n",
    "    models = pd.DataFrame(results)\n",
    "    best_model = models[models.error==models.error.min()]\n",
    "    print(\"Processed \", models.shape[0], \"models on\", k, \"predictors\")\n",
    "    return best_model"
   ]
  },
  {
   "cell_type": "code",
   "execution_count": 103,
   "id": "21cec460",
   "metadata": {},
   "outputs": [
    {
     "name": "stderr",
     "output_type": "stream",
     "text": [
      "/opt/anaconda3/lib/python3.9/site-packages/statsmodels/tsa/tsatools.py:142: FutureWarning: In a future version of pandas all arguments of concat except for the argument 'objs' will be keyword-only\n",
      "  x = pd.concat(x[::order], 1)\n"
     ]
    },
    {
     "ename": "AttributeError",
     "evalue": "'GradientBoostingClassifier' object has no attribute 'feature_names_in_'",
     "output_type": "error",
     "traceback": [
      "\u001b[0;31m---------------------------------------------------------------------------\u001b[0m",
      "\u001b[0;31mAttributeError\u001b[0m                            Traceback (most recent call last)",
      "\u001b[0;32m/var/folders/nt/91ch_md14118b70m3yzl1t4c0000gn/T/ipykernel_11426/1223820575.py\u001b[0m in \u001b[0;36m<module>\u001b[0;34m\u001b[0m\n\u001b[1;32m      1\u001b[0m \u001b[0mmodels\u001b[0m \u001b[0;34m=\u001b[0m \u001b[0mpd\u001b[0m\u001b[0;34m.\u001b[0m\u001b[0mDataFrame\u001b[0m\u001b[0;34m(\u001b[0m\u001b[0mcolumns\u001b[0m\u001b[0;34m=\u001b[0m\u001b[0;34m[\u001b[0m\u001b[0;34m\"error\"\u001b[0m\u001b[0;34m,\u001b[0m \u001b[0;34m\"model\"\u001b[0m\u001b[0;34m]\u001b[0m\u001b[0;34m)\u001b[0m\u001b[0;34m\u001b[0m\u001b[0;34m\u001b[0m\u001b[0m\n\u001b[1;32m      2\u001b[0m \u001b[0;32mfor\u001b[0m \u001b[0mi\u001b[0m \u001b[0;32min\u001b[0m \u001b[0mrange\u001b[0m\u001b[0;34m(\u001b[0m\u001b[0;36m0\u001b[0m\u001b[0;34m,\u001b[0m\u001b[0;36m12\u001b[0m\u001b[0;34m)\u001b[0m\u001b[0;34m:\u001b[0m\u001b[0;34m\u001b[0m\u001b[0;34m\u001b[0m\u001b[0m\n\u001b[0;32m----> 3\u001b[0;31m     \u001b[0mmodels\u001b[0m\u001b[0;34m.\u001b[0m\u001b[0mloc\u001b[0m\u001b[0;34m[\u001b[0m\u001b[0mi\u001b[0m\u001b[0;34m]\u001b[0m \u001b[0;34m=\u001b[0m \u001b[0mgetBest\u001b[0m\u001b[0;34m(\u001b[0m\u001b[0mi\u001b[0m\u001b[0;34m)\u001b[0m\u001b[0;34m.\u001b[0m\u001b[0miloc\u001b[0m\u001b[0;34m[\u001b[0m\u001b[0;36m0\u001b[0m\u001b[0;34m]\u001b[0m\u001b[0;34m\u001b[0m\u001b[0;34m\u001b[0m\u001b[0m\n\u001b[0m",
      "\u001b[0;32m/var/folders/nt/91ch_md14118b70m3yzl1t4c0000gn/T/ipykernel_11426/1905596820.py\u001b[0m in \u001b[0;36mgetBest\u001b[0;34m(k)\u001b[0m\n\u001b[1;32m      2\u001b[0m     \u001b[0mresults\u001b[0m \u001b[0;34m=\u001b[0m \u001b[0;34m[\u001b[0m\u001b[0;34m]\u001b[0m\u001b[0;34m\u001b[0m\u001b[0;34m\u001b[0m\u001b[0m\n\u001b[1;32m      3\u001b[0m     \u001b[0;32mfor\u001b[0m \u001b[0mcombo\u001b[0m \u001b[0;32min\u001b[0m \u001b[0mitertools\u001b[0m\u001b[0;34m.\u001b[0m\u001b[0mcombinations\u001b[0m\u001b[0;34m(\u001b[0m\u001b[0mX2\u001b[0m\u001b[0;34m.\u001b[0m\u001b[0mcolumns\u001b[0m\u001b[0;34m,\u001b[0m \u001b[0mk\u001b[0m\u001b[0;34m)\u001b[0m\u001b[0;34m:\u001b[0m\u001b[0;34m\u001b[0m\u001b[0;34m\u001b[0m\u001b[0m\n\u001b[0;32m----> 4\u001b[0;31m         \u001b[0mresults\u001b[0m\u001b[0;34m.\u001b[0m\u001b[0mappend\u001b[0m\u001b[0;34m(\u001b[0m\u001b[0mprocessSubset\u001b[0m\u001b[0;34m(\u001b[0m\u001b[0mcombo\u001b[0m\u001b[0;34m)\u001b[0m\u001b[0;34m)\u001b[0m\u001b[0;34m\u001b[0m\u001b[0;34m\u001b[0m\u001b[0m\n\u001b[0m\u001b[1;32m      5\u001b[0m     \u001b[0mmodels\u001b[0m \u001b[0;34m=\u001b[0m \u001b[0mpd\u001b[0m\u001b[0;34m.\u001b[0m\u001b[0mDataFrame\u001b[0m\u001b[0;34m(\u001b[0m\u001b[0mresults\u001b[0m\u001b[0;34m)\u001b[0m\u001b[0;34m\u001b[0m\u001b[0;34m\u001b[0m\u001b[0m\n\u001b[1;32m      6\u001b[0m     \u001b[0mbest_model\u001b[0m \u001b[0;34m=\u001b[0m \u001b[0mmodels\u001b[0m\u001b[0;34m[\u001b[0m\u001b[0mmodels\u001b[0m\u001b[0;34m.\u001b[0m\u001b[0merror\u001b[0m\u001b[0;34m==\u001b[0m\u001b[0mmodels\u001b[0m\u001b[0;34m.\u001b[0m\u001b[0merror\u001b[0m\u001b[0;34m.\u001b[0m\u001b[0mmin\u001b[0m\u001b[0;34m(\u001b[0m\u001b[0;34m)\u001b[0m\u001b[0;34m]\u001b[0m\u001b[0;34m\u001b[0m\u001b[0;34m\u001b[0m\u001b[0m\n",
      "\u001b[0;32m/var/folders/nt/91ch_md14118b70m3yzl1t4c0000gn/T/ipykernel_11426/3022367580.py\u001b[0m in \u001b[0;36mprocessSubset\u001b[0;34m(feature_set)\u001b[0m\n\u001b[1;32m      2\u001b[0m     \u001b[0mX\u001b[0m \u001b[0;34m=\u001b[0m \u001b[0msm\u001b[0m\u001b[0;34m.\u001b[0m\u001b[0madd_constant\u001b[0m\u001b[0;34m(\u001b[0m\u001b[0mX2\u001b[0m\u001b[0;34m[\u001b[0m\u001b[0mlist\u001b[0m\u001b[0;34m(\u001b[0m\u001b[0mfeature_set\u001b[0m\u001b[0;34m)\u001b[0m\u001b[0;34m]\u001b[0m\u001b[0;34m)\u001b[0m\u001b[0;34m\u001b[0m\u001b[0;34m\u001b[0m\u001b[0m\n\u001b[1;32m      3\u001b[0m     \u001b[0mmodel\u001b[0m \u001b[0;34m=\u001b[0m \u001b[0mGradientBoostingClassifier\u001b[0m\u001b[0;34m(\u001b[0m\u001b[0;34m)\u001b[0m\u001b[0;34m\u001b[0m\u001b[0;34m\u001b[0m\u001b[0m\n\u001b[0;32m----> 4\u001b[0;31m     \u001b[0mclassification\u001b[0m \u001b[0;34m=\u001b[0m \u001b[0mmodel\u001b[0m\u001b[0;34m.\u001b[0m\u001b[0mfit\u001b[0m\u001b[0;34m(\u001b[0m\u001b[0mX\u001b[0m\u001b[0;34m,\u001b[0m\u001b[0my\u001b[0m\u001b[0;34m.\u001b[0m\u001b[0mvalues\u001b[0m\u001b[0;34m.\u001b[0m\u001b[0mravel\u001b[0m\u001b[0;34m(\u001b[0m\u001b[0;34m)\u001b[0m\u001b[0;34m)\u001b[0m\u001b[0;34m.\u001b[0m\u001b[0mfeature_names_in_\u001b[0m\u001b[0;34m\u001b[0m\u001b[0;34m\u001b[0m\u001b[0m\n\u001b[0m\u001b[1;32m      5\u001b[0m     \u001b[0mscore\u001b[0m \u001b[0;34m=\u001b[0m \u001b[0mcross_val_score\u001b[0m\u001b[0;34m(\u001b[0m\u001b[0mmodel\u001b[0m\u001b[0;34m,\u001b[0m\u001b[0mX\u001b[0m\u001b[0;34m,\u001b[0m \u001b[0my\u001b[0m\u001b[0;34m.\u001b[0m\u001b[0mvalues\u001b[0m\u001b[0;34m.\u001b[0m\u001b[0mravel\u001b[0m\u001b[0;34m(\u001b[0m\u001b[0;34m)\u001b[0m\u001b[0;34m,\u001b[0m \u001b[0mscoring\u001b[0m\u001b[0;34m=\u001b[0m\u001b[0;34m'accuracy'\u001b[0m\u001b[0;34m,\u001b[0m \u001b[0mcv\u001b[0m\u001b[0;34m=\u001b[0m\u001b[0mkfolds\u001b[0m\u001b[0;34m)\u001b[0m\u001b[0;34m\u001b[0m\u001b[0;34m\u001b[0m\u001b[0m\n\u001b[1;32m      6\u001b[0m     \u001b[0;32mreturn\u001b[0m \u001b[0;34m{\u001b[0m\u001b[0;34m\"error\"\u001b[0m\u001b[0;34m:\u001b[0m\u001b[0;36m1\u001b[0m\u001b[0;34m-\u001b[0m\u001b[0mnp\u001b[0m\u001b[0;34m.\u001b[0m\u001b[0mmean\u001b[0m\u001b[0;34m(\u001b[0m\u001b[0mscore\u001b[0m\u001b[0;34m)\u001b[0m\u001b[0;34m,\u001b[0m\u001b[0;34m\"model\"\u001b[0m\u001b[0;34m:\u001b[0m\u001b[0mclassification\u001b[0m\u001b[0;34m}\u001b[0m\u001b[0;34m\u001b[0m\u001b[0;34m\u001b[0m\u001b[0m\n",
      "\u001b[0;31mAttributeError\u001b[0m: 'GradientBoostingClassifier' object has no attribute 'feature_names_in_'"
     ]
    }
   ],
   "source": [
    "models = pd.DataFrame(columns=[\"error\", \"model\"])\n",
    "for i in range(0,12):\n",
    "    models.loc[i] = getBest(i).iloc[0]"
   ]
  },
  {
   "cell_type": "code",
   "execution_count": 104,
   "id": "4bfdddc0",
   "metadata": {},
   "outputs": [
    {
     "name": "stderr",
     "output_type": "stream",
     "text": [
      "/opt/anaconda3/lib/python3.9/site-packages/statsmodels/tsa/tsatools.py:142: FutureWarning: In a future version of pandas all arguments of concat except for the argument 'objs' will be keyword-only\n",
      "  x = pd.concat(x[::order], 1)\n"
     ]
    },
    {
     "ename": "AttributeError",
     "evalue": "'GradientBoostingClassifier' object has no attribute 'feature_names_in_'",
     "output_type": "error",
     "traceback": [
      "\u001b[0;31m---------------------------------------------------------------------------\u001b[0m",
      "\u001b[0;31mAttributeError\u001b[0m                            Traceback (most recent call last)",
      "\u001b[0;32m/var/folders/nt/91ch_md14118b70m3yzl1t4c0000gn/T/ipykernel_11426/3886723426.py\u001b[0m in \u001b[0;36m<module>\u001b[0;34m\u001b[0m\n\u001b[1;32m      1\u001b[0m \u001b[0mmodels\u001b[0m \u001b[0;34m=\u001b[0m \u001b[0mpd\u001b[0m\u001b[0;34m.\u001b[0m\u001b[0mDataFrame\u001b[0m\u001b[0;34m(\u001b[0m\u001b[0mcolumns\u001b[0m\u001b[0;34m=\u001b[0m\u001b[0;34m[\u001b[0m\u001b[0;34m\"error\"\u001b[0m\u001b[0;34m,\u001b[0m \u001b[0;34m\"model\"\u001b[0m\u001b[0;34m]\u001b[0m\u001b[0;34m)\u001b[0m\u001b[0;34m\u001b[0m\u001b[0;34m\u001b[0m\u001b[0m\n\u001b[1;32m      2\u001b[0m \u001b[0;32mfor\u001b[0m \u001b[0mi\u001b[0m \u001b[0;32min\u001b[0m \u001b[0mrange\u001b[0m\u001b[0;34m(\u001b[0m\u001b[0;36m0\u001b[0m\u001b[0;34m,\u001b[0m\u001b[0;36m10\u001b[0m\u001b[0;34m)\u001b[0m\u001b[0;34m:\u001b[0m\u001b[0;34m\u001b[0m\u001b[0;34m\u001b[0m\u001b[0m\n\u001b[0;32m----> 3\u001b[0;31m     \u001b[0mmodels\u001b[0m\u001b[0;34m.\u001b[0m\u001b[0mloc\u001b[0m\u001b[0;34m[\u001b[0m\u001b[0mi\u001b[0m\u001b[0;34m]\u001b[0m \u001b[0;34m=\u001b[0m \u001b[0mgetBest\u001b[0m\u001b[0;34m(\u001b[0m\u001b[0mi\u001b[0m\u001b[0;34m)\u001b[0m\u001b[0;34m.\u001b[0m\u001b[0miloc\u001b[0m\u001b[0;34m[\u001b[0m\u001b[0;36m0\u001b[0m\u001b[0;34m]\u001b[0m\u001b[0;34m\u001b[0m\u001b[0;34m\u001b[0m\u001b[0m\n\u001b[0m",
      "\u001b[0;32m/var/folders/nt/91ch_md14118b70m3yzl1t4c0000gn/T/ipykernel_11426/1905596820.py\u001b[0m in \u001b[0;36mgetBest\u001b[0;34m(k)\u001b[0m\n\u001b[1;32m      2\u001b[0m     \u001b[0mresults\u001b[0m \u001b[0;34m=\u001b[0m \u001b[0;34m[\u001b[0m\u001b[0;34m]\u001b[0m\u001b[0;34m\u001b[0m\u001b[0;34m\u001b[0m\u001b[0m\n\u001b[1;32m      3\u001b[0m     \u001b[0;32mfor\u001b[0m \u001b[0mcombo\u001b[0m \u001b[0;32min\u001b[0m \u001b[0mitertools\u001b[0m\u001b[0;34m.\u001b[0m\u001b[0mcombinations\u001b[0m\u001b[0;34m(\u001b[0m\u001b[0mX2\u001b[0m\u001b[0;34m.\u001b[0m\u001b[0mcolumns\u001b[0m\u001b[0;34m,\u001b[0m \u001b[0mk\u001b[0m\u001b[0;34m)\u001b[0m\u001b[0;34m:\u001b[0m\u001b[0;34m\u001b[0m\u001b[0;34m\u001b[0m\u001b[0m\n\u001b[0;32m----> 4\u001b[0;31m         \u001b[0mresults\u001b[0m\u001b[0;34m.\u001b[0m\u001b[0mappend\u001b[0m\u001b[0;34m(\u001b[0m\u001b[0mprocessSubset\u001b[0m\u001b[0;34m(\u001b[0m\u001b[0mcombo\u001b[0m\u001b[0;34m)\u001b[0m\u001b[0;34m)\u001b[0m\u001b[0;34m\u001b[0m\u001b[0;34m\u001b[0m\u001b[0m\n\u001b[0m\u001b[1;32m      5\u001b[0m     \u001b[0mmodels\u001b[0m \u001b[0;34m=\u001b[0m \u001b[0mpd\u001b[0m\u001b[0;34m.\u001b[0m\u001b[0mDataFrame\u001b[0m\u001b[0;34m(\u001b[0m\u001b[0mresults\u001b[0m\u001b[0;34m)\u001b[0m\u001b[0;34m\u001b[0m\u001b[0;34m\u001b[0m\u001b[0m\n\u001b[1;32m      6\u001b[0m     \u001b[0mbest_model\u001b[0m \u001b[0;34m=\u001b[0m \u001b[0mmodels\u001b[0m\u001b[0;34m[\u001b[0m\u001b[0mmodels\u001b[0m\u001b[0;34m.\u001b[0m\u001b[0merror\u001b[0m\u001b[0;34m==\u001b[0m\u001b[0mmodels\u001b[0m\u001b[0;34m.\u001b[0m\u001b[0merror\u001b[0m\u001b[0;34m.\u001b[0m\u001b[0mmin\u001b[0m\u001b[0;34m(\u001b[0m\u001b[0;34m)\u001b[0m\u001b[0;34m]\u001b[0m\u001b[0;34m\u001b[0m\u001b[0;34m\u001b[0m\u001b[0m\n",
      "\u001b[0;32m/var/folders/nt/91ch_md14118b70m3yzl1t4c0000gn/T/ipykernel_11426/3022367580.py\u001b[0m in \u001b[0;36mprocessSubset\u001b[0;34m(feature_set)\u001b[0m\n\u001b[1;32m      2\u001b[0m     \u001b[0mX\u001b[0m \u001b[0;34m=\u001b[0m \u001b[0msm\u001b[0m\u001b[0;34m.\u001b[0m\u001b[0madd_constant\u001b[0m\u001b[0;34m(\u001b[0m\u001b[0mX2\u001b[0m\u001b[0;34m[\u001b[0m\u001b[0mlist\u001b[0m\u001b[0;34m(\u001b[0m\u001b[0mfeature_set\u001b[0m\u001b[0;34m)\u001b[0m\u001b[0;34m]\u001b[0m\u001b[0;34m)\u001b[0m\u001b[0;34m\u001b[0m\u001b[0;34m\u001b[0m\u001b[0m\n\u001b[1;32m      3\u001b[0m     \u001b[0mmodel\u001b[0m \u001b[0;34m=\u001b[0m \u001b[0mGradientBoostingClassifier\u001b[0m\u001b[0;34m(\u001b[0m\u001b[0;34m)\u001b[0m\u001b[0;34m\u001b[0m\u001b[0;34m\u001b[0m\u001b[0m\n\u001b[0;32m----> 4\u001b[0;31m     \u001b[0mclassification\u001b[0m \u001b[0;34m=\u001b[0m \u001b[0mmodel\u001b[0m\u001b[0;34m.\u001b[0m\u001b[0mfit\u001b[0m\u001b[0;34m(\u001b[0m\u001b[0mX\u001b[0m\u001b[0;34m,\u001b[0m\u001b[0my\u001b[0m\u001b[0;34m.\u001b[0m\u001b[0mvalues\u001b[0m\u001b[0;34m.\u001b[0m\u001b[0mravel\u001b[0m\u001b[0;34m(\u001b[0m\u001b[0;34m)\u001b[0m\u001b[0;34m)\u001b[0m\u001b[0;34m.\u001b[0m\u001b[0mfeature_names_in_\u001b[0m\u001b[0;34m\u001b[0m\u001b[0;34m\u001b[0m\u001b[0m\n\u001b[0m\u001b[1;32m      5\u001b[0m     \u001b[0mscore\u001b[0m \u001b[0;34m=\u001b[0m \u001b[0mcross_val_score\u001b[0m\u001b[0;34m(\u001b[0m\u001b[0mmodel\u001b[0m\u001b[0;34m,\u001b[0m\u001b[0mX\u001b[0m\u001b[0;34m,\u001b[0m \u001b[0my\u001b[0m\u001b[0;34m.\u001b[0m\u001b[0mvalues\u001b[0m\u001b[0;34m.\u001b[0m\u001b[0mravel\u001b[0m\u001b[0;34m(\u001b[0m\u001b[0;34m)\u001b[0m\u001b[0;34m,\u001b[0m \u001b[0mscoring\u001b[0m\u001b[0;34m=\u001b[0m\u001b[0;34m'accuracy'\u001b[0m\u001b[0;34m,\u001b[0m \u001b[0mcv\u001b[0m\u001b[0;34m=\u001b[0m\u001b[0mkfolds\u001b[0m\u001b[0;34m)\u001b[0m\u001b[0;34m\u001b[0m\u001b[0;34m\u001b[0m\u001b[0m\n\u001b[1;32m      6\u001b[0m     \u001b[0;32mreturn\u001b[0m \u001b[0;34m{\u001b[0m\u001b[0;34m\"error\"\u001b[0m\u001b[0;34m:\u001b[0m\u001b[0;36m1\u001b[0m\u001b[0;34m-\u001b[0m\u001b[0mnp\u001b[0m\u001b[0;34m.\u001b[0m\u001b[0mmean\u001b[0m\u001b[0;34m(\u001b[0m\u001b[0mscore\u001b[0m\u001b[0;34m)\u001b[0m\u001b[0;34m,\u001b[0m\u001b[0;34m\"model\"\u001b[0m\u001b[0;34m:\u001b[0m\u001b[0mclassification\u001b[0m\u001b[0;34m}\u001b[0m\u001b[0;34m\u001b[0m\u001b[0;34m\u001b[0m\u001b[0m\n",
      "\u001b[0;31mAttributeError\u001b[0m: 'GradientBoostingClassifier' object has no attribute 'feature_names_in_'"
     ]
    }
   ],
   "source": [
    "models = pd.DataFrame(columns=[\"error\", \"model\"])\n",
    "for i in range(0,10):\n",
    "    models.loc[i] = getBest(i).iloc[0]"
   ]
  },
  {
   "cell_type": "code",
   "execution_count": null,
   "id": "f370098a",
   "metadata": {},
   "outputs": [],
   "source": [
    "models"
   ]
  },
  {
   "cell_type": "markdown",
   "id": "6590ecc0",
   "metadata": {},
   "source": [
    "#### Hypertune"
   ]
  },
  {
   "cell_type": "code",
   "execution_count": 105,
   "id": "c4b7bd1d",
   "metadata": {},
   "outputs": [],
   "source": [
    "def bt(x,y,r=0.1,n=100,s=1,c='friedman_mse',d=3,ss=2,sl=1):\n",
    "    model = GradientBoostingClassifier(learning_rate=r,n_estimators=n,subsample=s,criterion=c,max_depth=d,min_samples_split=ss,min_samples_leaf=sl)\n",
    "    score = cross_val_score(model,x, y.values.ravel(), scoring='accuracy', cv=kfolds)\n",
    "    print(\"Mean classification error:\",1-np.mean(score))"
   ]
  },
  {
   "cell_type": "code",
   "execution_count": 106,
   "id": "91eb74aa",
   "metadata": {},
   "outputs": [
    {
     "name": "stdout",
     "output_type": "stream",
     "text": [
      "Mean classification error: 0.061395067008839455\n",
      "Mean classification error: 0.06734388366124888\n",
      "Mean classification error: 0.0637475049900198\n",
      "Mean classification error: 0.06735101226119189\n",
      "Mean classification error: 0.06198317650413454\n"
     ]
    }
   ],
   "source": [
    "for i in [200,250,300,350,400]:\n",
    "    bt(X1, y,n=i)"
   ]
  },
  {
   "cell_type": "code",
   "execution_count": 107,
   "id": "3ddd05d6",
   "metadata": {},
   "outputs": [
    {
     "name": "stdout",
     "output_type": "stream",
     "text": [
      "Mean classification error: 0.0821998859424008\n",
      "Mean classification error: 0.0655581693755346\n",
      "Mean classification error: 0.064952238380382\n",
      "Mean classification error: 0.06317721699458212\n",
      "Mean classification error: 0.06614984317080119\n"
     ]
    }
   ],
   "source": [
    "#learning rate\n",
    "for i in [0.01,0.05,0.1,0.2,0.3]:\n",
    "    bt(X1, y,r=i,n=200)"
   ]
  },
  {
   "cell_type": "code",
   "execution_count": 108,
   "id": "18b4ef87",
   "metadata": {},
   "outputs": [
    {
     "name": "stdout",
     "output_type": "stream",
     "text": [
      "Mean classification error: 0.06734031936127727\n",
      "Mean classification error: nan\n"
     ]
    },
    {
     "name": "stderr",
     "output_type": "stream",
     "text": [
      "/opt/anaconda3/lib/python3.9/site-packages/sklearn/model_selection/_validation.py:615: FitFailedWarning: Estimator fit failed. The score on this train-test partition for these parameters will be set to nan. Details: \n",
      "Traceback (most recent call last):\n",
      "  File \"/opt/anaconda3/lib/python3.9/site-packages/sklearn/model_selection/_validation.py\", line 598, in _fit_and_score\n",
      "    estimator.fit(X_train, y_train, **fit_params)\n",
      "  File \"/opt/anaconda3/lib/python3.9/site-packages/sklearn/ensemble/_gb.py\", line 504, in fit\n",
      "    n_stages = self._fit_stages(\n",
      "  File \"/opt/anaconda3/lib/python3.9/site-packages/sklearn/ensemble/_gb.py\", line 561, in _fit_stages\n",
      "    raw_predictions = self._fit_stage(\n",
      "  File \"/opt/anaconda3/lib/python3.9/site-packages/sklearn/ensemble/_gb.py\", line 214, in _fit_stage\n",
      "    tree.fit(X, residual, sample_weight=sample_weight,\n",
      "  File \"/opt/anaconda3/lib/python3.9/site-packages/sklearn/tree/_classes.py\", line 1252, in fit\n",
      "    super().fit(\n",
      "  File \"/opt/anaconda3/lib/python3.9/site-packages/sklearn/tree/_classes.py\", line 351, in fit\n",
      "    criterion = CRITERIA_REG[self.criterion](self.n_outputs_,\n",
      "KeyError: 'squared_error'\n",
      "\n",
      "  warnings.warn(\"Estimator fit failed. The score on this train-test\"\n",
      "/opt/anaconda3/lib/python3.9/site-packages/sklearn/model_selection/_validation.py:615: FitFailedWarning: Estimator fit failed. The score on this train-test partition for these parameters will be set to nan. Details: \n",
      "Traceback (most recent call last):\n",
      "  File \"/opt/anaconda3/lib/python3.9/site-packages/sklearn/model_selection/_validation.py\", line 598, in _fit_and_score\n",
      "    estimator.fit(X_train, y_train, **fit_params)\n",
      "  File \"/opt/anaconda3/lib/python3.9/site-packages/sklearn/ensemble/_gb.py\", line 504, in fit\n",
      "    n_stages = self._fit_stages(\n",
      "  File \"/opt/anaconda3/lib/python3.9/site-packages/sklearn/ensemble/_gb.py\", line 561, in _fit_stages\n",
      "    raw_predictions = self._fit_stage(\n",
      "  File \"/opt/anaconda3/lib/python3.9/site-packages/sklearn/ensemble/_gb.py\", line 214, in _fit_stage\n",
      "    tree.fit(X, residual, sample_weight=sample_weight,\n",
      "  File \"/opt/anaconda3/lib/python3.9/site-packages/sklearn/tree/_classes.py\", line 1252, in fit\n",
      "    super().fit(\n",
      "  File \"/opt/anaconda3/lib/python3.9/site-packages/sklearn/tree/_classes.py\", line 351, in fit\n",
      "    criterion = CRITERIA_REG[self.criterion](self.n_outputs_,\n",
      "KeyError: 'squared_error'\n",
      "\n",
      "  warnings.warn(\"Estimator fit failed. The score on this train-test\"\n",
      "/opt/anaconda3/lib/python3.9/site-packages/sklearn/model_selection/_validation.py:615: FitFailedWarning: Estimator fit failed. The score on this train-test partition for these parameters will be set to nan. Details: \n",
      "Traceback (most recent call last):\n",
      "  File \"/opt/anaconda3/lib/python3.9/site-packages/sklearn/model_selection/_validation.py\", line 598, in _fit_and_score\n",
      "    estimator.fit(X_train, y_train, **fit_params)\n",
      "  File \"/opt/anaconda3/lib/python3.9/site-packages/sklearn/ensemble/_gb.py\", line 504, in fit\n",
      "    n_stages = self._fit_stages(\n",
      "  File \"/opt/anaconda3/lib/python3.9/site-packages/sklearn/ensemble/_gb.py\", line 561, in _fit_stages\n",
      "    raw_predictions = self._fit_stage(\n",
      "  File \"/opt/anaconda3/lib/python3.9/site-packages/sklearn/ensemble/_gb.py\", line 214, in _fit_stage\n",
      "    tree.fit(X, residual, sample_weight=sample_weight,\n",
      "  File \"/opt/anaconda3/lib/python3.9/site-packages/sklearn/tree/_classes.py\", line 1252, in fit\n",
      "    super().fit(\n",
      "  File \"/opt/anaconda3/lib/python3.9/site-packages/sklearn/tree/_classes.py\", line 351, in fit\n",
      "    criterion = CRITERIA_REG[self.criterion](self.n_outputs_,\n",
      "KeyError: 'squared_error'\n",
      "\n",
      "  warnings.warn(\"Estimator fit failed. The score on this train-test\"\n",
      "/opt/anaconda3/lib/python3.9/site-packages/sklearn/model_selection/_validation.py:615: FitFailedWarning: Estimator fit failed. The score on this train-test partition for these parameters will be set to nan. Details: \n",
      "Traceback (most recent call last):\n",
      "  File \"/opt/anaconda3/lib/python3.9/site-packages/sklearn/model_selection/_validation.py\", line 598, in _fit_and_score\n",
      "    estimator.fit(X_train, y_train, **fit_params)\n",
      "  File \"/opt/anaconda3/lib/python3.9/site-packages/sklearn/ensemble/_gb.py\", line 504, in fit\n",
      "    n_stages = self._fit_stages(\n",
      "  File \"/opt/anaconda3/lib/python3.9/site-packages/sklearn/ensemble/_gb.py\", line 561, in _fit_stages\n",
      "    raw_predictions = self._fit_stage(\n",
      "  File \"/opt/anaconda3/lib/python3.9/site-packages/sklearn/ensemble/_gb.py\", line 214, in _fit_stage\n",
      "    tree.fit(X, residual, sample_weight=sample_weight,\n",
      "  File \"/opt/anaconda3/lib/python3.9/site-packages/sklearn/tree/_classes.py\", line 1252, in fit\n",
      "    super().fit(\n",
      "  File \"/opt/anaconda3/lib/python3.9/site-packages/sklearn/tree/_classes.py\", line 351, in fit\n",
      "    criterion = CRITERIA_REG[self.criterion](self.n_outputs_,\n",
      "KeyError: 'squared_error'\n",
      "\n",
      "  warnings.warn(\"Estimator fit failed. The score on this train-test\"\n",
      "/opt/anaconda3/lib/python3.9/site-packages/sklearn/model_selection/_validation.py:615: FitFailedWarning: Estimator fit failed. The score on this train-test partition for these parameters will be set to nan. Details: \n",
      "Traceback (most recent call last):\n",
      "  File \"/opt/anaconda3/lib/python3.9/site-packages/sklearn/model_selection/_validation.py\", line 598, in _fit_and_score\n",
      "    estimator.fit(X_train, y_train, **fit_params)\n",
      "  File \"/opt/anaconda3/lib/python3.9/site-packages/sklearn/ensemble/_gb.py\", line 504, in fit\n",
      "    n_stages = self._fit_stages(\n",
      "  File \"/opt/anaconda3/lib/python3.9/site-packages/sklearn/ensemble/_gb.py\", line 561, in _fit_stages\n",
      "    raw_predictions = self._fit_stage(\n",
      "  File \"/opt/anaconda3/lib/python3.9/site-packages/sklearn/ensemble/_gb.py\", line 214, in _fit_stage\n",
      "    tree.fit(X, residual, sample_weight=sample_weight,\n",
      "  File \"/opt/anaconda3/lib/python3.9/site-packages/sklearn/tree/_classes.py\", line 1252, in fit\n",
      "    super().fit(\n",
      "  File \"/opt/anaconda3/lib/python3.9/site-packages/sklearn/tree/_classes.py\", line 351, in fit\n",
      "    criterion = CRITERIA_REG[self.criterion](self.n_outputs_,\n",
      "KeyError: 'squared_error'\n",
      "\n",
      "  warnings.warn(\"Estimator fit failed. The score on this train-test\"\n",
      "/opt/anaconda3/lib/python3.9/site-packages/sklearn/model_selection/_validation.py:615: FitFailedWarning: Estimator fit failed. The score on this train-test partition for these parameters will be set to nan. Details: \n",
      "Traceback (most recent call last):\n",
      "  File \"/opt/anaconda3/lib/python3.9/site-packages/sklearn/model_selection/_validation.py\", line 598, in _fit_and_score\n",
      "    estimator.fit(X_train, y_train, **fit_params)\n",
      "  File \"/opt/anaconda3/lib/python3.9/site-packages/sklearn/ensemble/_gb.py\", line 504, in fit\n",
      "    n_stages = self._fit_stages(\n",
      "  File \"/opt/anaconda3/lib/python3.9/site-packages/sklearn/ensemble/_gb.py\", line 561, in _fit_stages\n",
      "    raw_predictions = self._fit_stage(\n",
      "  File \"/opt/anaconda3/lib/python3.9/site-packages/sklearn/ensemble/_gb.py\", line 214, in _fit_stage\n",
      "    tree.fit(X, residual, sample_weight=sample_weight,\n",
      "  File \"/opt/anaconda3/lib/python3.9/site-packages/sklearn/tree/_classes.py\", line 1252, in fit\n",
      "    super().fit(\n",
      "  File \"/opt/anaconda3/lib/python3.9/site-packages/sklearn/tree/_classes.py\", line 351, in fit\n",
      "    criterion = CRITERIA_REG[self.criterion](self.n_outputs_,\n",
      "KeyError: 'squared_error'\n",
      "\n",
      "  warnings.warn(\"Estimator fit failed. The score on this train-test\"\n",
      "/opt/anaconda3/lib/python3.9/site-packages/sklearn/model_selection/_validation.py:615: FitFailedWarning: Estimator fit failed. The score on this train-test partition for these parameters will be set to nan. Details: \n",
      "Traceback (most recent call last):\n",
      "  File \"/opt/anaconda3/lib/python3.9/site-packages/sklearn/model_selection/_validation.py\", line 598, in _fit_and_score\n",
      "    estimator.fit(X_train, y_train, **fit_params)\n",
      "  File \"/opt/anaconda3/lib/python3.9/site-packages/sklearn/ensemble/_gb.py\", line 504, in fit\n",
      "    n_stages = self._fit_stages(\n",
      "  File \"/opt/anaconda3/lib/python3.9/site-packages/sklearn/ensemble/_gb.py\", line 561, in _fit_stages\n",
      "    raw_predictions = self._fit_stage(\n",
      "  File \"/opt/anaconda3/lib/python3.9/site-packages/sklearn/ensemble/_gb.py\", line 214, in _fit_stage\n",
      "    tree.fit(X, residual, sample_weight=sample_weight,\n",
      "  File \"/opt/anaconda3/lib/python3.9/site-packages/sklearn/tree/_classes.py\", line 1252, in fit\n",
      "    super().fit(\n",
      "  File \"/opt/anaconda3/lib/python3.9/site-packages/sklearn/tree/_classes.py\", line 351, in fit\n",
      "    criterion = CRITERIA_REG[self.criterion](self.n_outputs_,\n",
      "KeyError: 'squared_error'\n",
      "\n",
      "  warnings.warn(\"Estimator fit failed. The score on this train-test\"\n",
      "/opt/anaconda3/lib/python3.9/site-packages/sklearn/model_selection/_validation.py:615: FitFailedWarning: Estimator fit failed. The score on this train-test partition for these parameters will be set to nan. Details: \n",
      "Traceback (most recent call last):\n",
      "  File \"/opt/anaconda3/lib/python3.9/site-packages/sklearn/model_selection/_validation.py\", line 598, in _fit_and_score\n",
      "    estimator.fit(X_train, y_train, **fit_params)\n",
      "  File \"/opt/anaconda3/lib/python3.9/site-packages/sklearn/ensemble/_gb.py\", line 504, in fit\n",
      "    n_stages = self._fit_stages(\n",
      "  File \"/opt/anaconda3/lib/python3.9/site-packages/sklearn/ensemble/_gb.py\", line 561, in _fit_stages\n",
      "    raw_predictions = self._fit_stage(\n",
      "  File \"/opt/anaconda3/lib/python3.9/site-packages/sklearn/ensemble/_gb.py\", line 214, in _fit_stage\n",
      "    tree.fit(X, residual, sample_weight=sample_weight,\n",
      "  File \"/opt/anaconda3/lib/python3.9/site-packages/sklearn/tree/_classes.py\", line 1252, in fit\n",
      "    super().fit(\n",
      "  File \"/opt/anaconda3/lib/python3.9/site-packages/sklearn/tree/_classes.py\", line 351, in fit\n",
      "    criterion = CRITERIA_REG[self.criterion](self.n_outputs_,\n",
      "KeyError: 'squared_error'\n",
      "\n",
      "  warnings.warn(\"Estimator fit failed. The score on this train-test\"\n",
      "/opt/anaconda3/lib/python3.9/site-packages/sklearn/model_selection/_validation.py:615: FitFailedWarning: Estimator fit failed. The score on this train-test partition for these parameters will be set to nan. Details: \n",
      "Traceback (most recent call last):\n",
      "  File \"/opt/anaconda3/lib/python3.9/site-packages/sklearn/model_selection/_validation.py\", line 598, in _fit_and_score\n",
      "    estimator.fit(X_train, y_train, **fit_params)\n",
      "  File \"/opt/anaconda3/lib/python3.9/site-packages/sklearn/ensemble/_gb.py\", line 504, in fit\n",
      "    n_stages = self._fit_stages(\n",
      "  File \"/opt/anaconda3/lib/python3.9/site-packages/sklearn/ensemble/_gb.py\", line 561, in _fit_stages\n",
      "    raw_predictions = self._fit_stage(\n",
      "  File \"/opt/anaconda3/lib/python3.9/site-packages/sklearn/ensemble/_gb.py\", line 214, in _fit_stage\n",
      "    tree.fit(X, residual, sample_weight=sample_weight,\n",
      "  File \"/opt/anaconda3/lib/python3.9/site-packages/sklearn/tree/_classes.py\", line 1252, in fit\n",
      "    super().fit(\n",
      "  File \"/opt/anaconda3/lib/python3.9/site-packages/sklearn/tree/_classes.py\", line 351, in fit\n",
      "    criterion = CRITERIA_REG[self.criterion](self.n_outputs_,\n",
      "KeyError: 'squared_error'\n",
      "\n",
      "  warnings.warn(\"Estimator fit failed. The score on this train-test\"\n",
      "/opt/anaconda3/lib/python3.9/site-packages/sklearn/model_selection/_validation.py:615: FitFailedWarning: Estimator fit failed. The score on this train-test partition for these parameters will be set to nan. Details: \n",
      "Traceback (most recent call last):\n",
      "  File \"/opt/anaconda3/lib/python3.9/site-packages/sklearn/model_selection/_validation.py\", line 598, in _fit_and_score\n",
      "    estimator.fit(X_train, y_train, **fit_params)\n",
      "  File \"/opt/anaconda3/lib/python3.9/site-packages/sklearn/ensemble/_gb.py\", line 504, in fit\n",
      "    n_stages = self._fit_stages(\n",
      "  File \"/opt/anaconda3/lib/python3.9/site-packages/sklearn/ensemble/_gb.py\", line 561, in _fit_stages\n",
      "    raw_predictions = self._fit_stage(\n",
      "  File \"/opt/anaconda3/lib/python3.9/site-packages/sklearn/ensemble/_gb.py\", line 214, in _fit_stage\n",
      "    tree.fit(X, residual, sample_weight=sample_weight,\n",
      "  File \"/opt/anaconda3/lib/python3.9/site-packages/sklearn/tree/_classes.py\", line 1252, in fit\n",
      "    super().fit(\n",
      "  File \"/opt/anaconda3/lib/python3.9/site-packages/sklearn/tree/_classes.py\", line 351, in fit\n",
      "    criterion = CRITERIA_REG[self.criterion](self.n_outputs_,\n",
      "KeyError: 'squared_error'\n",
      "\n",
      "  warnings.warn(\"Estimator fit failed. The score on this train-test\"\n"
     ]
    }
   ],
   "source": [
    "#criterion\n",
    "for i in ['friedman_mse', 'squared_error']:\n",
    "    bt(X1, y,n=200,c=i)"
   ]
  },
  {
   "cell_type": "code",
   "execution_count": 112,
   "id": "9fffc28e",
   "metadata": {},
   "outputs": [
    {
     "name": "stdout",
     "output_type": "stream",
     "text": [
      "Mean classification error: 0.07090105503279143\n",
      "Mean classification error: 0.06614984317080119\n",
      "Mean classification error: 0.06792486455660085\n",
      "Mean classification error: 0.07033789563729675\n",
      "Mean classification error: 0.06911534074707715\n"
     ]
    }
   ],
   "source": [
    "#max depth\n",
    "for i in [3,4,5,6,7]:\n",
    "     bt(X1, y,n=200,d=i)"
   ]
  },
  {
   "cell_type": "code",
   "execution_count": 109,
   "id": "c8701f34",
   "metadata": {},
   "outputs": [
    {
     "name": "stdout",
     "output_type": "stream",
     "text": [
      "Mean classification error: 0.07210222412318201\n",
      "Mean classification error: 0.0655617336755061\n",
      "Mean classification error: 0.06734388366124888\n",
      "Mean classification error: 0.0643356144853151\n",
      "Mean classification error: 0.07032720273738224\n",
      "Mean classification error: 0.06498431708012542\n",
      "Mean classification error: 0.06557599087539201\n",
      "Mean classification error: 0.06614627887082969\n"
     ]
    }
   ],
   "source": [
    "#sample split\n",
    "for i in [2,3,4,6,8,10,30,50]:\n",
    "    bt(X1, y,n=200,d=5,ss=i)"
   ]
  },
  {
   "cell_type": "code",
   "execution_count": 110,
   "id": "e10b9a04",
   "metadata": {},
   "outputs": [
    {
     "name": "stdout",
     "output_type": "stream",
     "text": [
      "Mean classification error: 0.060814086113487376\n",
      "Mean classification error: 0.0643676931850583\n",
      "Mean classification error: 0.0649486740804106\n",
      "Mean classification error: 0.06915454804676346\n",
      "Mean classification error: 0.06734388366124888\n",
      "Mean classification error: 0.06614984317080119\n",
      "Mean classification error: 0.06436412888508691\n",
      "Mean classification error: 0.0655510407755916\n"
     ]
    }
   ],
   "source": [
    "#sample leaf\n",
    "for i in [2,3,4,6,8,10,30,50]:\n",
    "    bt(X1, y,n=200,ss=4,sl=i)"
   ]
  },
  {
   "cell_type": "code",
   "execution_count": 111,
   "id": "1cc9f783",
   "metadata": {},
   "outputs": [
    {
     "name": "stdout",
     "output_type": "stream",
     "text": [
      "Mean classification error: 0.06556529797547772\n",
      "Mean classification error: 0.06256059309951512\n",
      "Mean classification error: 0.06614984317080119\n",
      "Mean classification error: 0.06914029084687778\n",
      "Mean classification error: 0.06731893356144847\n"
     ]
    }
   ],
   "source": [
    "##############################################\n",
    "#X1 FINAL\n",
    "for i in range (5):\n",
    "    bt(X1, y,n=200,ss=4,sl=30)"
   ]
  },
  {
   "cell_type": "markdown",
   "id": "90677024",
   "metadata": {},
   "source": [
    "## Neural Network Classification"
   ]
  },
  {
   "cell_type": "code",
   "execution_count": 113,
   "id": "8241180c",
   "metadata": {},
   "outputs": [],
   "source": [
    "model_nn = MLPClassifier(hidden_layer_sizes=(),max_iter=1000)"
   ]
  },
  {
   "cell_type": "code",
   "execution_count": 114,
   "id": "463e8791",
   "metadata": {},
   "outputs": [
    {
     "name": "stdout",
     "output_type": "stream",
     "text": [
      "NN: \n",
      "\n",
      "accuracies of 10-folds: [0.93452381 0.94047619 0.91666667 0.91071429 0.88690476 0.89880952\n",
      " 0.9047619  0.88690476 0.94610778 0.91616766] (mean classification error: 0.08579626461362966 )\n"
     ]
    }
   ],
   "source": [
    "score1 = cross_val_score(model_nn, X1, y.values.ravel(), scoring='accuracy', cv=kfolds)\n",
    "print(\"NN: \\n\")\n",
    "print(\"accuracies of 10-folds:\",score1,\"(mean classification error:\",1-np.mean(score1),\")\")"
   ]
  },
  {
   "cell_type": "code",
   "execution_count": 117,
   "id": "e9e13567",
   "metadata": {},
   "outputs": [
    {
     "name": "stdout",
     "output_type": "stream",
     "text": [
      "NN: \n",
      "\n",
      "accuracies of 10-folds: [0.92261905 0.93452381 0.91071429 0.91666667 0.92261905 0.92261905\n",
      " 0.91071429 0.91071429 0.88622754 0.92215569] (mean classification error: 0.08404262902765891 )\n"
     ]
    }
   ],
   "source": [
    "score2 = cross_val_score(model_nn, X2, y.values.ravel(), scoring='accuracy', cv=kfolds)\n",
    "print(\"NN: \\n\")\n",
    "print(\"accuracies of 10-folds:\",score2,\"(mean classification error:\",1-np.mean(score2),\")\")"
   ]
  },
  {
   "cell_type": "code",
   "execution_count": 115,
   "id": "43bc1acc",
   "metadata": {},
   "outputs": [
    {
     "name": "stdout",
     "output_type": "stream",
     "text": [
      "NN: \n",
      "\n",
      "accuracies of 10-folds: [0.92857143 0.92261905 0.94047619 0.95238095 0.91071429 0.91071429\n",
      " 0.96428571 0.89880952 0.88622754 0.91017964] (mean classification error: 0.077502138579983 )\n"
     ]
    }
   ],
   "source": [
    "scor3 = cross_val_score(model_nn, X3, y.values.ravel(), scoring='accuracy', cv=kfolds)\n",
    "print(\"NN: \\n\")\n",
    "print(\"accuracies of 10-folds:\",score3,\"(mean classification error:\",1-np.mean(score3),\")\")"
   ]
  },
  {
   "cell_type": "code",
   "execution_count": 118,
   "id": "7ae7b20a",
   "metadata": {},
   "outputs": [],
   "source": [
    "def nn(x,y,h=(),a='relu',s='adam',al=0.0001,b='auto',l='constant',i=200):\n",
    "    model = MLPClassifier(hidden_layer_sizes=h,activation=a,solver=s,alpha=al,batch_size=b,learning_rate=l,max_iter=i)\n",
    "    score = cross_val_score(model_nn, x, y.values.ravel(), scoring='accuracy', cv=kfolds)\n",
    "    print(\"Mean classification error:\",1-np.mean(score))"
   ]
  },
  {
   "cell_type": "code",
   "execution_count": 119,
   "id": "e6b3c3af",
   "metadata": {},
   "outputs": [
    {
     "name": "stdout",
     "output_type": "stream",
     "text": [
      "Mean classification error: 0.08222483604220121\n",
      "Mean classification error: 0.08163672654690601\n",
      "Mean classification error: 0.084630738522954\n",
      "Mean classification error: 0.08577487881380086\n"
     ]
    }
   ],
   "source": [
    "#activation\n",
    "for i in ['identity', 'logistic', 'tanh', 'relu']:\n",
    "    nn(X3,y,a=i)"
   ]
  },
  {
   "cell_type": "code",
   "execution_count": 120,
   "id": "0009875b",
   "metadata": {},
   "outputs": [
    {
     "name": "stdout",
     "output_type": "stream",
     "text": [
      "Mean classification error: 0.08347946963216424\n",
      "Mean classification error: 0.08464143142286873\n",
      "Mean classification error: 0.08463786712289711\n"
     ]
    }
   ],
   "source": [
    "#solver\n",
    "for i in ['lbfgs', 'sgd', 'adam']:\n",
    "    nn(X3,y,s=i)"
   ]
  },
  {
   "cell_type": "code",
   "execution_count": 122,
   "id": "f7035f0c",
   "metadata": {},
   "outputs": [
    {
     "name": "stdout",
     "output_type": "stream",
     "text": [
      "Mean classification error: 0.08582477901340191\n",
      "Mean classification error: 0.08700099800399208\n",
      "Mean classification error: 0.08463430282292561\n",
      "Mean classification error: 0.08581052181351578\n"
     ]
    }
   ],
   "source": [
    "#alpha\n",
    "for i in [0,0.00005,0.0001,0.0002]:\n",
    "    nn(X3,y,s='sgd',al=i)"
   ]
  },
  {
   "cell_type": "code",
   "execution_count": 123,
   "id": "1d5ee614",
   "metadata": {},
   "outputs": [
    {
     "name": "stdout",
     "output_type": "stream",
     "text": [
      "Mean classification error: 0.08521171941830619\n",
      "Mean classification error: 0.08637724550898196\n",
      "Mean classification error: 0.08520459081836318\n",
      "Mean classification error: 0.08226404334188753\n"
     ]
    }
   ],
   "source": [
    "#batch\n",
    "for i in ['auto',50,100,500]:\n",
    "    nn(X3,y,s='sgd',al=0,b=i)"
   ]
  },
  {
   "cell_type": "code",
   "execution_count": 124,
   "id": "5060542c",
   "metadata": {},
   "outputs": [
    {
     "name": "stdout",
     "output_type": "stream",
     "text": [
      "Mean classification error: 0.08282363843741058\n",
      "Mean classification error: 0.08524379811804972\n",
      "Mean classification error: 0.08640932420872538\n"
     ]
    }
   ],
   "source": [
    "#learning\n",
    "for i in ['constant','invscaling','adaptive']:\n",
    "    nn(X3,y,s='sgd',al=0,l=i)"
   ]
  },
  {
   "cell_type": "code",
   "execution_count": 125,
   "id": "0a7fabb7",
   "metadata": {},
   "outputs": [
    {
     "name": "stdout",
     "output_type": "stream",
     "text": [
      "Mean classification error: 0.08402480752780161\n",
      "Mean classification error: 0.0846236099230111\n",
      "Mean classification error: 0.0876318790989451\n",
      "Mean classification error: 0.08341174793270589\n"
     ]
    }
   ],
   "source": [
    "#iter\n",
    "for j in [500,1000,1500,2000]:\n",
    "    nn(X3,y,s='sgd',al=0,i=j)"
   ]
  },
  {
   "cell_type": "code",
   "execution_count": 126,
   "id": "23d4f8ee",
   "metadata": {},
   "outputs": [
    {
     "name": "stdout",
     "output_type": "stream",
     "text": [
      "Mean classification error: 0.08521528371827769\n",
      "Mean classification error: 0.0840319361277444\n",
      "Mean classification error: 0.08341887653264879\n",
      "Mean classification error: 0.0834188765326489\n",
      "Mean classification error: 0.08641645280866861\n",
      "Mean classification error: 0.08519389791844867\n"
     ]
    }
   ],
   "source": [
    "#deep\n",
    "for i in [(),(5,),(5,5),(10,5),(15,10),(15,10,5)]:\n",
    "    nn(X3,y,h=i,s='sgd',al=0)"
   ]
  },
  {
   "cell_type": "code",
   "execution_count": 127,
   "id": "e756fb5d",
   "metadata": {},
   "outputs": [
    {
     "name": "stdout",
     "output_type": "stream",
     "text": [
      "Mean classification error: 0.0846164813230681\n",
      "Mean classification error: 0.08401411462788688\n",
      "Mean classification error: 0.08344026233247792\n",
      "Mean classification error: 0.08760692899914457\n",
      "Mean classification error: 0.08344026233247792\n"
     ]
    }
   ],
   "source": [
    "#############FINAL#######################\n",
    "for i in range(5):\n",
    "    nn(X3,y,h=i,s='sgd',al=0)"
   ]
  },
  {
   "cell_type": "markdown",
   "id": "7d93b1f4",
   "metadata": {},
   "source": [
    "## Prediction"
   ]
  },
  {
   "cell_type": "code",
   "execution_count": 128,
   "id": "daa5e102",
   "metadata": {},
   "outputs": [],
   "source": [
    "df = pd.read_csv('option_test_wolabel.csv')"
   ]
  },
  {
   "cell_type": "code",
   "execution_count": 129,
   "id": "6ffcaba3",
   "metadata": {},
   "outputs": [
    {
     "data": {
      "text/html": [
       "<div>\n",
       "<style scoped>\n",
       "    .dataframe tbody tr th:only-of-type {\n",
       "        vertical-align: middle;\n",
       "    }\n",
       "\n",
       "    .dataframe tbody tr th {\n",
       "        vertical-align: top;\n",
       "    }\n",
       "\n",
       "    .dataframe thead th {\n",
       "        text-align: right;\n",
       "    }\n",
       "</style>\n",
       "<table border=\"1\" class=\"dataframe\">\n",
       "  <thead>\n",
       "    <tr style=\"text-align: right;\">\n",
       "      <th></th>\n",
       "      <th>S</th>\n",
       "      <th>K</th>\n",
       "      <th>tau</th>\n",
       "      <th>r</th>\n",
       "    </tr>\n",
       "  </thead>\n",
       "  <tbody>\n",
       "    <tr>\n",
       "      <th>0</th>\n",
       "      <td>431.618600</td>\n",
       "      <td>460</td>\n",
       "      <td>0.293651</td>\n",
       "      <td>0.03147</td>\n",
       "    </tr>\n",
       "    <tr>\n",
       "      <th>1</th>\n",
       "      <td>432.633296</td>\n",
       "      <td>420</td>\n",
       "      <td>0.182540</td>\n",
       "      <td>0.03147</td>\n",
       "    </tr>\n",
       "    <tr>\n",
       "      <th>2</th>\n",
       "      <td>432.633296</td>\n",
       "      <td>430</td>\n",
       "      <td>0.182540</td>\n",
       "      <td>0.03147</td>\n",
       "    </tr>\n",
       "    <tr>\n",
       "      <th>3</th>\n",
       "      <td>431.618600</td>\n",
       "      <td>415</td>\n",
       "      <td>0.293651</td>\n",
       "      <td>0.03147</td>\n",
       "    </tr>\n",
       "    <tr>\n",
       "      <th>4</th>\n",
       "      <td>434.772855</td>\n",
       "      <td>420</td>\n",
       "      <td>0.043651</td>\n",
       "      <td>0.03147</td>\n",
       "    </tr>\n",
       "  </tbody>\n",
       "</table>\n",
       "</div>"
      ],
      "text/plain": [
       "            S    K       tau        r\n",
       "0  431.618600  460  0.293651  0.03147\n",
       "1  432.633296  420  0.182540  0.03147\n",
       "2  432.633296  430  0.182540  0.03147\n",
       "3  431.618600  415  0.293651  0.03147\n",
       "4  434.772855  420  0.043651  0.03147"
      ]
     },
     "execution_count": 129,
     "metadata": {},
     "output_type": "execute_result"
    }
   ],
   "source": [
    "df.head()"
   ]
  },
  {
   "cell_type": "code",
   "execution_count": 130,
   "id": "a17964ae",
   "metadata": {},
   "outputs": [],
   "source": [
    "from sklearn.preprocessing import StandardScaler\n",
    "scaler = StandardScaler()\n",
    "df[['S', 'K', 'tau', 'r']] = scaler.fit_transform(df[['S', 'K', 'tau', 'r']])"
   ]
  },
  {
   "cell_type": "code",
   "execution_count": 131,
   "id": "b18c5fd0",
   "metadata": {},
   "outputs": [
    {
     "data": {
      "text/html": [
       "<div>\n",
       "<style scoped>\n",
       "    .dataframe tbody tr th:only-of-type {\n",
       "        vertical-align: middle;\n",
       "    }\n",
       "\n",
       "    .dataframe tbody tr th {\n",
       "        vertical-align: top;\n",
       "    }\n",
       "\n",
       "    .dataframe thead th {\n",
       "        text-align: right;\n",
       "    }\n",
       "</style>\n",
       "<table border=\"1\" class=\"dataframe\">\n",
       "  <thead>\n",
       "    <tr style=\"text-align: right;\">\n",
       "      <th></th>\n",
       "      <th>S</th>\n",
       "      <th>K</th>\n",
       "      <th>tau</th>\n",
       "      <th>r</th>\n",
       "    </tr>\n",
       "  </thead>\n",
       "  <tbody>\n",
       "    <tr>\n",
       "      <th>0</th>\n",
       "      <td>-1.244577</td>\n",
       "      <td>0.824029</td>\n",
       "      <td>0.872239</td>\n",
       "      <td>2.301632</td>\n",
       "    </tr>\n",
       "    <tr>\n",
       "      <th>1</th>\n",
       "      <td>-1.111534</td>\n",
       "      <td>-0.858199</td>\n",
       "      <td>-0.203862</td>\n",
       "      <td>2.301632</td>\n",
       "    </tr>\n",
       "    <tr>\n",
       "      <th>2</th>\n",
       "      <td>-1.111534</td>\n",
       "      <td>-0.437642</td>\n",
       "      <td>-0.203862</td>\n",
       "      <td>2.301632</td>\n",
       "    </tr>\n",
       "    <tr>\n",
       "      <th>3</th>\n",
       "      <td>-1.244577</td>\n",
       "      <td>-1.068477</td>\n",
       "      <td>0.872239</td>\n",
       "      <td>2.301632</td>\n",
       "    </tr>\n",
       "    <tr>\n",
       "      <th>4</th>\n",
       "      <td>-0.831002</td>\n",
       "      <td>-0.858199</td>\n",
       "      <td>-1.548988</td>\n",
       "      <td>2.301632</td>\n",
       "    </tr>\n",
       "  </tbody>\n",
       "</table>\n",
       "</div>"
      ],
      "text/plain": [
       "          S         K       tau         r\n",
       "0 -1.244577  0.824029  0.872239  2.301632\n",
       "1 -1.111534 -0.858199 -0.203862  2.301632\n",
       "2 -1.111534 -0.437642 -0.203862  2.301632\n",
       "3 -1.244577 -1.068477  0.872239  2.301632\n",
       "4 -0.831002 -0.858199 -1.548988  2.301632"
      ]
     },
     "execution_count": 131,
     "metadata": {},
     "output_type": "execute_result"
    }
   ],
   "source": [
    "X = df\n",
    "X.head()"
   ]
  },
  {
   "cell_type": "code",
   "execution_count": 132,
   "id": "a9fe28af",
   "metadata": {},
   "outputs": [
    {
     "data": {
      "text/plain": [
       "GradientBoostingClassifier(min_samples_leaf=30, min_samples_split=4,\n",
       "                           n_estimators=200)"
      ]
     },
     "execution_count": 132,
     "metadata": {},
     "output_type": "execute_result"
    }
   ],
   "source": [
    "model = GradientBoostingClassifier(n_estimators=200,min_samples_split=4,min_samples_leaf=30)\n",
    "model.fit(X1,y.values.ravel())"
   ]
  },
  {
   "cell_type": "code",
   "execution_count": 133,
   "id": "b5894d6f",
   "metadata": {},
   "outputs": [],
   "source": [
    "prediction = model.predict(X)"
   ]
  },
  {
   "cell_type": "code",
   "execution_count": 134,
   "id": "14b83fb1",
   "metadata": {},
   "outputs": [],
   "source": [
    "predictions = pd.DataFrame(prediction,columns = ['BS'])"
   ]
  },
  {
   "cell_type": "code",
   "execution_count": 135,
   "id": "80283493",
   "metadata": {},
   "outputs": [],
   "source": [
    "predictions = pd.DataFrame(prediction,columns = ['BS'])"
   ]
  },
  {
   "cell_type": "code",
   "execution_count": 136,
   "id": "da798941",
   "metadata": {},
   "outputs": [],
   "source": [
    "predictions.to_csv('prediction_BS.csv',index=False)"
   ]
  },
  {
   "cell_type": "code",
   "execution_count": null,
   "id": "64ae3790",
   "metadata": {},
   "outputs": [],
   "source": []
  }
 ],
 "metadata": {
  "interpreter": {
   "hash": "8093cf59ed92650800a56fedba0edd33784ccd62eac5666a02e807a8805c2840"
  },
  "kernelspec": {
   "display_name": "Python 3 (ipykernel)",
   "language": "python",
   "name": "python3"
  },
  "language_info": {
   "codemirror_mode": {
    "name": "ipython",
    "version": 3
   },
   "file_extension": ".py",
   "mimetype": "text/x-python",
   "name": "python",
   "nbconvert_exporter": "python",
   "pygments_lexer": "ipython3",
   "version": "3.9.7"
  }
 },
 "nbformat": 4,
 "nbformat_minor": 5
}
